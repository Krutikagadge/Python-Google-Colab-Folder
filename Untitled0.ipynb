{
  "cells": [
    {
      "cell_type": "markdown",
      "metadata": {
        "id": "view-in-github",
        "colab_type": "text"
      },
      "source": [
        "<a href=\"https://colab.research.google.com/github/Krutikagadge/Python-Google-Colab-Folder/blob/main/Untitled0.ipynb\" target=\"_parent\"><img src=\"https://colab.research.google.com/assets/colab-badge.svg\" alt=\"Open In Colab\"/></a>"
      ]
    },
    {
      "cell_type": "code",
      "execution_count": null,
      "metadata": {
        "id": "WVtZ0YWL-JTR"
      },
      "outputs": [],
      "source": []
    },
    {
      "cell_type": "markdown",
      "metadata": {
        "id": "wRo6eYEZZERs"
      },
      "source": [
        "# Python Interface\n",
        "Python Interface -In Python, the interface to interact with the interpreter and execute Python code is called the Python interactive shell. The Python shell allows you to enter Python statements and see the output immediately. It provides an interactive environment for writing and executing Python code on the command line.\n",
        "\n",
        "Example of IDE:PyCharm, Visual Studio Code, or IDLE"
      ]
    },
    {
      "cell_type": "markdown",
      "metadata": {
        "id": "7Dr8h4BiaKYe"
      },
      "source": [
        "# When to use Python\n",
        "1.In Python, the interface to interact with the interpreter and execute Python code is called the Python shell or Python interactive shell. The Python shell allows you to enter Python statements and see the output immediately. It provides an interactive environment for writing and executing Python code on the command line.\n",
        "\n",
        "2.Artificial Intelligence and Machine Learning: Python has gained significant traction in the field of AI and ML due to its extensive library ecosystem. Frameworks like TensorFlow, PyTorch, and Keras allow developers to build and train complex neural networks and implement various AI algorithms.\n",
        "\n",
        "3.Scientific Computing and Visualization: Python, along with libraries like matplotlib, seaborn, and Plotly, is widely used for scientific computing, numerical simulations, and data visualization. It enables researchers and scientists to analyze and present data effectively.\n",
        "\n",
        "4.Education: Python's readability, simplicity, and extensive documentation make it an ideal language for beginners. Many educational institutions and coding bootcamps use Python as the primary programming language to teach programming concepts and develop problem-solving skills,\n",
        "\n",
        "5.Automation and Scripting: Python's simplicity and ease of use make it an excellent choice for automating repetitive tasks, such as file handling, data processing, or system administration. It's widely used for writing scripts, batch processing, and workflow automation."
      ]
    },
    {
      "cell_type": "markdown",
      "metadata": {
        "id": "DV4c_DXudMjS"
      },
      "source": [
        "# Literal in Python\n",
        "1.String literals-A string literal can be created by writing a text(a group of Characters ) surrounded by a single(”), double(“”), or triple quotes.\n",
        "\n",
        "2.Numeric literals-They are immutable and there are three types of numeric literal:\n",
        "\n",
        "a.Integer\n",
        "b.Float python\n",
        "c.Complex\n",
        "\n",
        "3.Boolean literals-There are only two Boolean literals in Python. They are true and false. In Python, True represents the value as 1 and False represents the value as 0\n",
        "\n",
        "4.None- ex.\n",
        "water_remain = None\n",
        "print(water_remain)\n",
        "\n",
        "\n"
      ]
    },
    {
      "cell_type": "markdown",
      "metadata": {
        "id": "hXbdaPQJbPzH"
      },
      "source": [
        "# Identifiers in Python\n",
        "Identifier is a user-defined name given to a variable, function, class, module, etc. The identifier is a combination of character digits and an underscore. They are case-sensitive i.e., ‘num’ and ‘Num’ and ‘NUM’ are three different identifiers in python. It is a good programming practice to give meaningful names to identifiers to make the code understandable."
      ]
    },
    {
      "cell_type": "markdown",
      "metadata": {
        "id": "s3XVXSckgSZl"
      },
      "source": [
        "BUILD-IN DATATYPES IN PYTHON\n",
        "1. TEXT TYPES        -str\n",
        "2. NUMERIC TYPES     -int,float,complex\n",
        "1. SEQUENCE TYPES    -list,tuples,range\n",
        "1. MAPPING TYPES     -dict\n",
        "2. SET TYPES         -set,frozenset\n",
        "2. BOOLEAN TYPES     -bool\n",
        "1. BINARY TYPES      -bytes,bytearray,memoryview\n",
        "\n",
        "\n",
        "\n",
        "\n",
        "\n"
      ]
    },
    {
      "cell_type": "markdown",
      "source": [
        "Assci Values:\n",
        "\n",
        "1.    A to z : 65-90\n",
        "\n",
        "1.     a to z: 97-122\n",
        "\n",
        "1.   0 t0 9 : 49-57\n",
        "2.  space : 32\n",
        "\n",
        "\n",
        "\n",
        "\n"
      ],
      "metadata": {
        "id": "ZjXU62-G_avJ"
      }
    },
    {
      "cell_type": "markdown",
      "metadata": {
        "id": "rMZ5pArZ_tdv"
      },
      "source": [
        "What is python programming?\n",
        ">Python is a general purpose programming language that is often applied in scripting roles\n",
        ">So,puthon is a proheamming language as well as scripting language\n",
        ">Python is also called as interpreted language\n",
        ">Developed in 1991 by Guiso van Rossum\n",
        ">"
      ]
    },
    {
      "cell_type": "code",
      "execution_count": null,
      "metadata": {
        "colab": {
          "base_uri": "https://localhost:8080/"
        },
        "id": "FC8nm50L8OMP",
        "outputId": "e8c289f6-950a-4bb4-d02b-dcfe93d2db9f"
      },
      "outputs": [
        {
          "name": "stdout",
          "output_type": "stream",
          "text": [
            "Enter a number: 153\n",
            "153 is an Armstrong number\n"
          ]
        }
      ],
      "source": [
        "num = int(input(\"Enter a number: \"))\n",
        "\n",
        "sum = 0\n",
        "n1 = len(str(num))\n",
        "temp = num\n",
        "while temp > 0:\n",
        "   digit = temp % 10\n",
        "   sum += digit ** n1\n",
        "   temp //= 10\n",
        "\n",
        "if num == sum:\n",
        "   print(num,\"is an Armstrong number\")\n",
        "else:\n",
        "   print(num,\"is not an Armstrong number\")"
      ]
    },
    {
      "cell_type": "code",
      "execution_count": null,
      "metadata": {
        "colab": {
          "base_uri": "https://localhost:8080/"
        },
        "id": "QJoctFDylrTn",
        "outputId": "09cd182b-55ed-4167-ac42-7b823993363b"
      },
      "outputs": [
        {
          "name": "stdout",
          "output_type": "stream",
          "text": [
            "5\n",
            "9793216\n",
            "5\n",
            "9793216\n",
            "5.77\n",
            "140513776450864\n"
          ]
        }
      ],
      "source": [
        "a=5\n",
        "print(a)\n",
        "print(id(a))\n",
        "b=5\n",
        "print(b)\n",
        "print(id(b))\n",
        "a=5.77\n",
        "print(a)\n",
        "print(id(a))\n"
      ]
    },
    {
      "cell_type": "code",
      "execution_count": null,
      "metadata": {
        "colab": {
          "base_uri": "https://localhost:8080/"
        },
        "id": "eMWCBTAmm5C5",
        "outputId": "1e1612d9-b420-4205-a644-8f6b78e19a7f"
      },
      "outputs": [
        {
          "name": "stdout",
          "output_type": "stream",
          "text": [
            "6\n",
            "9793248\n",
            "5\n",
            "9793216\n",
            "5.77\n",
            "140513793882320\n"
          ]
        }
      ],
      "source": [
        "a=6\n",
        "print(a)\n",
        "print(id(a))\n",
        "b=5\n",
        "print(b)\n",
        "print(id(b))\n",
        "a=5.77\n",
        "print(a)\n",
        "print(id(a))\n"
      ]
    },
    {
      "cell_type": "markdown",
      "metadata": {
        "id": "uhCRhaJynnQ0"
      },
      "source": [
        "ADVANTAGES:\n",
        "\n",
        "*  OPEN SOURCE\n",
        "*  POPULAR\n",
        "*  ACCESSIBLE\n",
        "*  EVERYWHERE\n",
        "\n",
        "DISADVANTAGES\n",
        "*  INTEGRETED A\n",
        "*   List item\n",
        "\n",
        "VARIABLE\n",
        "1. VARIABLE TYPE IN PYTHON IS DYNAMICALLY DETERMINED FROM THE VALUE IT IS ASSIGNED,NO DATATYPE IS DECLARED\n",
        "2. ASSIGN MEANINGFUL VARIABLE NAME\n",
        "3. SOME KEYWORDS ARE RESERVED\n",
        "\n",
        "KEYWORDS\n",
        "*  THE FOLLOWING IDENTIFIERS ARE USED AS RESERVED WORDS,OR KEYWORDS OF THE LANGUAGE AND CANNOT BE USED AS ORDINARY IDENTIFIERS.THEY ARE SPELLED AS THEY ARE WRITTEN\n",
        "\n",
        "\n",
        "\n",
        "\n",
        "\n",
        "\n",
        "\n",
        "\n",
        "\n",
        "\n",
        "\n",
        "\n",
        "\n",
        "\n",
        "\n"
      ]
    },
    {
      "cell_type": "code",
      "execution_count": null,
      "metadata": {
        "colab": {
          "base_uri": "https://localhost:8080/"
        },
        "id": "IC552iGfuN_W",
        "outputId": "b12d7ecb-5df3-4477-c70a-a3af2b2114bc"
      },
      "outputs": [
        {
          "name": "stdout",
          "output_type": "stream",
          "text": [
            "<class 'int'>\n",
            "<class 'float'>\n"
          ]
        }
      ],
      "source": [
        "#VARIABLE DECLARATION AND INITIALIZATION\n",
        "a=5\n",
        "b=5.5\n",
        "type(a)\n",
        "type(b)\n",
        "print(type(a))\n",
        "print(type(b))\n"
      ]
    },
    {
      "cell_type": "code",
      "execution_count": null,
      "metadata": {
        "colab": {
          "base_uri": "https://localhost:8080/",
          "height": 104
        },
        "id": "DmTteYqYvflG",
        "outputId": "fca905f3-2432-4579-ab6d-436b0a3dc320"
      },
      "outputs": [
        {
          "name": "stdout",
          "output_type": "stream",
          "text": [
            "KRUTIKA GADGE\n",
            "<class 'str'>\n",
            "13\n",
            "krutika gadge\n"
          ]
        },
        {
          "data": {
            "application/vnd.google.colaboratory.intrinsic+json": {
              "type": "string"
            },
            "text/plain": [
              "'KRUTIKA GADGE'"
            ]
          },
          "execution_count": 1,
          "metadata": {},
          "output_type": "execute_result"
        }
      ],
      "source": [
        "#string\n",
        "name='KRUTIKA GADGE'\n",
        "print(name)\n",
        "print(type(name))\n",
        "print(len(name))\n",
        "print(name.lower())  #lower() is used to convert string to lower case\n",
        "name=name.upper()  #lower() is used to convert string to upper case\n",
        "name"
      ]
    },
    {
      "cell_type": "code",
      "execution_count": null,
      "metadata": {
        "colab": {
          "base_uri": "https://localhost:8080/"
        },
        "id": "tVtq7WXA1XKI",
        "outputId": "62f2c03b-910c-4175-cbb6-290415b58927"
      },
      "outputs": [
        {
          "name": "stdout",
          "output_type": "stream",
          "text": [
            "10 Python 6.22\n"
          ]
        }
      ],
      "source": [
        "a,A,Name=10,6.22,'Python'\n",
        "print(a,Name,A)"
      ]
    },
    {
      "cell_type": "code",
      "execution_count": null,
      "metadata": {
        "colab": {
          "base_uri": "https://localhost:8080/"
        },
        "id": "LnbPwsGd28qx",
        "outputId": "53eb62a3-ffad-4007-9530-587fe17a00db"
      },
      "outputs": [
        {
          "name": "stdout",
          "output_type": "stream",
          "text": [
            "11 11 11\n"
          ]
        }
      ],
      "source": [
        "x=y=z=11\n",
        "print(x,y,z)"
      ]
    },
    {
      "cell_type": "code",
      "execution_count": null,
      "metadata": {
        "colab": {
          "base_uri": "https://localhost:8080/"
        },
        "id": "PfE4eJDMzoKO",
        "outputId": "25b1dabd-5f72-419b-c1a1-bf64887c3e97"
      },
      "outputs": [
        {
          "name": "stdout",
          "output_type": "stream",
          "text": [
            "True\n",
            "True\n",
            "True\n"
          ]
        }
      ],
      "source": [
        "print(isinstance(a,int))      #GENERALIZED FUNCTION USED TO CHECK WHETHER THE OBJECT BELONG TO PARTICULAR CLASS\n",
        "print(isinstance(A,float))\n",
        "print(isinstance(name,str))"
      ]
    },
    {
      "cell_type": "code",
      "execution_count": null,
      "metadata": {
        "colab": {
          "base_uri": "https://localhost:8080/"
        },
        "id": "B6i1fP-Z6S27",
        "outputId": "0f50b448-316a-4d7d-a0ea-2c6befae5d60"
      },
      "outputs": [
        {
          "name": "stdout",
          "output_type": "stream",
          "text": [
            "<class 'str'>\n",
            "3\n",
            "<class 'int'>\n",
            "<class 'float'>\n"
          ]
        }
      ],
      "source": [
        "#TYPE CASTING IN FUNCTION\n",
        "x=str(3)    #str() constructor is used to convert 3 to string\n",
        "print(type(x))\n",
        "print(x)\n",
        "y=3\n",
        "print(type(y))\n",
        "y=float(3)   #float() constructor is used to convert 3 to float\n",
        "print(type(y))"
      ]
    },
    {
      "cell_type": "markdown",
      "metadata": {
        "id": "S1Og8zG69NI0"
      },
      "source": [
        "BUILD-IN DATATYPES IN PYTHON\n",
        "1. TEXT TYPES        -str\n",
        "2. NUMERIC TYPES     -int,float,complex\n",
        "1. SEQUENCE TYPES    -list,tuoles,range\n",
        "1. MAPPING TYPES     -dict\n",
        "2. SET TYPES         -set,frozenset\n",
        "2. BOOLEAN TYPES     -bool\n",
        "1. BINARY TYPES      -bytes,bytearray,memoryview\n",
        "\n",
        "\n",
        "\n",
        "\n",
        "\n"
      ]
    },
    {
      "cell_type": "code",
      "execution_count": null,
      "metadata": {
        "colab": {
          "base_uri": "https://localhost:8080/"
        },
        "id": "sKincTNK-6D0",
        "outputId": "dcd0dac5-9cc8-4b73-bd83-3c7de166a3dd"
      },
      "outputs": [
        {
          "name": "stdout",
          "output_type": "stream",
          "text": [
            "ENTER 1ST NUMBER:4\n",
            "ENTER 2nd NUMBER:23\n",
            "ENTER TWO NUMBERS:23 44\n"
          ]
        },
        {
          "data": {
            "text/plain": [
              "67"
            ]
          },
          "execution_count": 2,
          "metadata": {},
          "output_type": "execute_result"
        }
      ],
      "source": [
        "a=int(input('ENTER 1ST NUMBER:'))\n",
        "b=int(input('ENTER 2nd NUMBER:'))\n",
        "a+b\n",
        "x,y=input(\"ENTER TWO NUMBERS:\").split()\n",
        "int(x)+int(y)"
      ]
    },
    {
      "cell_type": "code",
      "execution_count": null,
      "metadata": {
        "colab": {
          "base_uri": "https://localhost:8080/"
        },
        "id": "f37Hx9D0BbNa",
        "outputId": "694375b6-4dd8-4388-9878-ffe8bf553ff0"
      },
      "outputs": [
        {
          "name": "stdout",
          "output_type": "stream",
          "text": [
            "num13\n",
            "num24\n"
          ]
        },
        {
          "data": {
            "text/plain": [
              "12.0"
            ]
          },
          "execution_count": 3,
          "metadata": {},
          "output_type": "execute_result"
        }
      ],
      "source": [
        "a=float(input(\"num1\"))\n",
        "b=float(input(\"num2\"))\n",
        "a*b\n"
      ]
    },
    {
      "cell_type": "code",
      "execution_count": null,
      "metadata": {
        "colab": {
          "base_uri": "https://localhost:8080/"
        },
        "id": "-2bYUnhHEYYc",
        "outputId": "cd575009-faf9-41dc-ee10-b201b9af3546"
      },
      "outputs": [
        {
          "name": "stdout",
          "output_type": "stream",
          "text": [
            "4 99 120 266\n",
            "13\n",
            "0b1110000\n",
            "0o352\n",
            "0x2fd\n"
          ]
        }
      ],
      "source": [
        "#INTEGER LITERALS\n",
        "a=0b100 #BNARY LITERAL\n",
        "b=99 #DECIMAL LITERAL\n",
        "c=0o170  #OCTAL LITERAL\n",
        "d=0X10a #HEXADECIMAL LITERAL\n",
        "print(a,b,c,d)\n",
        "print(int(\"31\",4))\n",
        "print(bin(112))\n",
        "print(oct(234))\n",
        "print(hex(765))"
      ]
    },
    {
      "cell_type": "code",
      "execution_count": null,
      "metadata": {
        "colab": {
          "base_uri": "https://localhost:8080/"
        },
        "id": "hPYSVEHHmwkx",
        "outputId": "22ec914f-e8fa-4dbd-fef5-1b4b1f2136fc"
      },
      "outputs": [
        {
          "name": "stdout",
          "output_type": "stream",
          "text": [
            "9.8 2.3e+25\n"
          ]
        }
      ],
      "source": [
        "#float literals with 53 bits binary precision and 15 0r 16 bits decimal precision\n",
        "f=9.8\n",
        "g=2.3e25\n",
        "print(f,g)"
      ]
    },
    {
      "cell_type": "code",
      "execution_count": null,
      "metadata": {
        "colab": {
          "base_uri": "https://localhost:8080/"
        },
        "id": "DhanP9RYnROZ",
        "outputId": "4cc40414-9f82-43eb-cdf3-00772dfdca2e"
      },
      "outputs": [
        {
          "name": "stdout",
          "output_type": "stream",
          "text": [
            "(2+3.14j)\n"
          ]
        },
        {
          "data": {
            "text/plain": [
              "(5+3.5j)"
            ]
          },
          "execution_count": 4,
          "metadata": {},
          "output_type": "execute_result"
        }
      ],
      "source": [
        "#complex literals\n",
        "h=2+3.14j\n",
        "print(h)\n",
        "complex(3,2)\n",
        "complex(5,3.5)"
      ]
    },
    {
      "cell_type": "code",
      "execution_count": null,
      "metadata": {
        "colab": {
          "base_uri": "https://localhost:8080/"
        },
        "id": "KNFI82F0oOhb",
        "outputId": "5637b55e-da85-4310-b16e-6d1f03861961"
      },
      "outputs": [
        {
          "name": "stdout",
          "output_type": "stream",
          "text": [
            "KRUTIKA GADGE k 33,GANESH COLONY,\n",
            "PRATAP NAGAR NAGPUR-440022 this is \\n raw Ü nicས de\n"
          ]
        }
      ],
      "source": [
        "#STRING LITERAL\n",
        "name=\"KRUTIKA GADGE\"\n",
        "char='k'\n",
        "adress=\"\"\"33,GANESH COLONY,\n",
        "PRATAP NAGAR NAGPUR-440022\"\"\"\n",
        "Str_raw=r\"this is \\n raw\" #raw string treats blackshlash(\\)as a literal\n",
        "Str_uni=u\"\\u00dc nic\\u0f66 de\"\n",
        "print(name,char,adress,Str_raw,Str_uni)\n"
      ]
    },
    {
      "cell_type": "code",
      "execution_count": null,
      "metadata": {
        "colab": {
          "base_uri": "https://localhost:8080/"
        },
        "id": "1HdUBBwxrvG6",
        "outputId": "862ded16-4766-4a3d-dadd-6e26008e321c"
      },
      "outputs": [
        {
          "name": "stdout",
          "output_type": "stream",
          "text": [
            "65\n",
            "85\n",
            "220\n",
            "d\n",
            "T\n",
            "85\n"
          ]
        }
      ],
      "source": [
        "# function to print ascii value\n",
        "print(ord(\"A\"))\n",
        "print(ord(\"U\"))\n",
        "print(int(0X00dc))\n",
        "print(chr(100))\n",
        "print(chr(84))\n",
        "print(ord(\"U\"))\n"
      ]
    },
    {
      "cell_type": "code",
      "execution_count": null,
      "metadata": {
        "colab": {
          "base_uri": "https://localhost:8080/"
        },
        "id": "rwoJoex4vQr6",
        "outputId": "019cba61-4623-49a3-d2a2-363e2ad824dd"
      },
      "outputs": [
        {
          "name": "stdout",
          "output_type": "stream",
          "text": [
            "True False 5 10\n"
          ]
        }
      ],
      "source": [
        "#BOOLEAN LITERALS\n",
        "x=(1==True)\n",
        "y=(1==False)\n",
        "a=True+4\n",
        "b=False+10\n",
        "print(x,y,a,b)"
      ]
    },
    {
      "cell_type": "code",
      "execution_count": null,
      "metadata": {
        "colab": {
          "base_uri": "https://localhost:8080/",
          "height": 35
        },
        "id": "_7tIs03cxveX",
        "outputId": "caa34587-0916-437c-e9ec-b2736144c3b1"
      },
      "outputs": [
        {
          "data": {
            "application/vnd.google.colaboratory.intrinsic+json": {
              "type": "string"
            },
            "text/plain": [
              "'123'"
            ]
          },
          "execution_count": 3,
          "metadata": {},
          "output_type": "execute_result"
        }
      ],
      "source": [
        "a=\"12\"+\"3\"\n",
        "a"
      ]
    },
    {
      "cell_type": "code",
      "execution_count": null,
      "metadata": {
        "id": "kZTUu8I2JJ3G"
      },
      "outputs": [],
      "source": [
        "n=20\n",
        "if n%2!=0:\n",
        "  print(\"Weird\")\n",
        "else:\n",
        "  if n%2==0:\n",
        "    if n>2 and n<5:\n",
        "        print(\"Not Weird\")\n",
        "    elif n>6 and n<20:\n",
        "        print(\"Weird\")\n",
        "    elif n>20:\n",
        "        print(\"Not Weird\")"
      ]
    },
    {
      "cell_type": "code",
      "execution_count": null,
      "metadata": {
        "colab": {
          "base_uri": "https://localhost:8080/"
        },
        "id": "hGar4bL8yGxV",
        "outputId": "6027a095-0865-4a2c-f712-c099c78aca41"
      },
      "outputs": [
        {
          "data": {
            "text/plain": [
              "2"
            ]
          },
          "execution_count": 19,
          "metadata": {},
          "output_type": "execute_result"
        }
      ],
      "source": [
        "abs(3-5)"
      ]
    },
    {
      "cell_type": "code",
      "execution_count": null,
      "metadata": {
        "colab": {
          "base_uri": "https://localhost:8080/",
          "height": 88
        },
        "id": "mQI1ToltyOkt",
        "outputId": "6c832363-9d43-43cb-cf96-1fb16d1c71d1"
      },
      "outputs": [
        {
          "name": "stdout",
          "output_type": "stream",
          "text": [
            "ENTER 1ST NUMBER:5\n",
            "ENTER 2nd NUMBER:4\n",
            "20\n"
          ]
        },
        {
          "data": {
            "application/vnd.google.colaboratory.intrinsic+json": {
              "type": "string"
            },
            "text/plain": [
              "'\\x14'"
            ]
          },
          "execution_count": 23,
          "metadata": {},
          "output_type": "execute_result"
        }
      ],
      "source": [
        "#WRITE A PROGRAM TO GET TWO NUMBERS FROM USER AS INPUT AND DISPLAY THE CHARACTER FOR THE PRODUCT\n",
        "a=int(input('ENTER 1ST NUMBER:'))\n",
        "b=int(input('ENTER 2nd NUMBER:'))\n",
        "c=a*b\n",
        "print(c)\n",
        "chr(c)"
      ]
    },
    {
      "cell_type": "code",
      "execution_count": null,
      "metadata": {
        "colab": {
          "base_uri": "https://localhost:8080/"
        },
        "id": "kDqeXbi_zpnF",
        "outputId": "ee96798d-e80f-4fb9-d028-d57aec0c622c"
      },
      "outputs": [
        {
          "name": "stdout",
          "output_type": "stream",
          "text": [
            "ENTER 1ST NUMBER:5\n",
            "ENTER 2nd NUMBER:4\n",
            "False\n",
            "False\n"
          ]
        }
      ],
      "source": [
        "#WRITE ANOTHER PROGRAM TO GET TWO NUMBERS FROM USER.PRINT TRUE IF THE SUM OF TWO NUMBERS IS EVEN\n",
        "a=int(input('ENTER 1ST NUMBER:'))\n",
        "b=int(input('ENTER 2nd NUMBER:'))\n",
        "c=a+b\n",
        "d=c%2\n",
        "e=(d==0)\n",
        "print(e)\n",
        "print((a+b)%2==0)\n"
      ]
    },
    {
      "cell_type": "code",
      "execution_count": null,
      "metadata": {
        "colab": {
          "base_uri": "https://localhost:8080/"
        },
        "id": "5wMJ91WO2DJb",
        "outputId": "5637f235-00d4-4a0a-ac44-b2c005315cb9"
      },
      "outputs": [
        {
          "name": "stdout",
          "output_type": "stream",
          "text": [
            "enter two numbers5 4\n"
          ]
        },
        {
          "data": {
            "text/plain": [
              "20"
            ]
          },
          "execution_count": 1,
          "metadata": {},
          "output_type": "execute_result"
        }
      ],
      "source": [
        "x,y=input(\"enter two numbers\").split()\n",
        "z=int(x)*int(y)\n",
        "int(z)"
      ]
    },
    {
      "cell_type": "code",
      "execution_count": null,
      "metadata": {
        "id": "UZwsICit3ofE"
      },
      "outputs": [],
      "source": []
    },
    {
      "cell_type": "code",
      "execution_count": null,
      "metadata": {
        "colab": {
          "base_uri": "https://localhost:8080/"
        },
        "id": "GYoeVPow2fkY",
        "outputId": "04e72642-89a4-40c7-e03d-89de7c1a3a37"
      },
      "outputs": [
        {
          "name": "stdout",
          "output_type": "stream",
          "text": [
            "ENTER 1ST NUMBER:2.11\n",
            "ENTER 2nd NUMBER:2\n",
            "4\n",
            "4\n"
          ]
        }
      ],
      "source": [
        "#WAP TP TAKE TWO FOLATING VALUE AS INPUT AND DISPLAY INTEGER AS THEIR PRODUCT\n",
        "a=float(input('ENTER 1ST NUMBER:'))\n",
        "b=float(input('ENTER 2nd NUMBER:'))\n",
        "c=int(a*b)\n",
        "print(c)\n",
        "print(int(a*b))\n"
      ]
    },
    {
      "cell_type": "code",
      "execution_count": null,
      "metadata": {
        "colab": {
          "base_uri": "https://localhost:8080/"
        },
        "id": "eys6JcQK4dvO",
        "outputId": "463e199c-b408-4591-a767-32b69025009e"
      },
      "outputs": [
        {
          "name": "stdout",
          "output_type": "stream",
          "text": [
            "ENTER name:KRUTICA\n",
            "ENTER institute name:SIT\n",
            "ENTER semester:2\n",
            "ENTER mobole no.:12344567\n",
            "KRUTICA \n",
            " SIT \n",
            " 2 \n",
            " 12344567\n"
          ]
        }
      ],
      "source": [
        "#WAP TO GET YOUR NAME ,INSTUTUTE NAME,SEMESTER AND DISPLAY THEM IN THE OUTPUT\n",
        "a=str(input('ENTER name:'))\n",
        "b=str(input('ENTER institute name:'))\n",
        "c=int(input('ENTER semester:'))\n",
        "d=int(input('ENTER mobole no.:'))\n",
        "print(a,\"\\n\",b,\"\\n\",c,\"\\n\",d)\n"
      ]
    },
    {
      "cell_type": "code",
      "execution_count": null,
      "metadata": {
        "colab": {
          "base_uri": "https://localhost:8080/"
        },
        "id": "BR0wqGp18IIa",
        "outputId": "87d68467-7e23-44cd-884d-2847b451d34a"
      },
      "outputs": [
        {
          "name": "stdout",
          "output_type": "stream",
          "text": [
            "3\n",
            "S\n",
            "T\n"
          ]
        }
      ],
      "source": [
        "#TO PRINT LENGTH OF STRING\n",
        "my_str=\"SIT\"\n",
        "print(len(my_str))\n",
        "#indexing starting at zero\n",
        "print(my_str[0]);print(my_str[-1])"
      ]
    },
    {
      "cell_type": "code",
      "execution_count": null,
      "metadata": {
        "colab": {
          "base_uri": "https://localhost:8080/"
        },
        "id": "AYpJrZL31nug",
        "outputId": "91c5791e-623f-4112-be19-28006b07a214"
      },
      "outputs": [
        {
          "name": "stdout",
          "output_type": "stream",
          "text": [
            "stapr\n",
            "rupgantis\n",
            "sitnagpur\n",
            "itnagpur\n",
            "sitn\n",
            "gpu\n"
          ]
        }
      ],
      "source": [
        "#STRING SLICING\n",
        "my_str = 'sitnagpur'\n",
        "print(my_str[::2])\n",
        "print(my_str[-1:-10:-1])\n",
        "print(my_str[:])\n",
        "print(my_str[1:])\n",
        "print(my_str[:4])\n",
        "print(my_str[-4:-1])"
      ]
    },
    {
      "cell_type": "code",
      "execution_count": null,
      "metadata": {
        "colab": {
          "base_uri": "https://localhost:8080/"
        },
        "id": "0RvrXIrIxPTS",
        "outputId": "15769238-d3bd-4b8b-8515-19f1734a4df7"
      },
      "outputs": [
        {
          "name": "stdout",
          "output_type": "stream",
          "text": [
            "13\n"
          ]
        }
      ],
      "source": [
        "m = '0123456789'\n",
        "print(m[1:4:2])  #start point: stop point: No of displacement steps"
      ]
    },
    {
      "cell_type": "code",
      "execution_count": null,
      "metadata": {
        "colab": {
          "base_uri": "https://localhost:8080/"
        },
        "id": "iZbnp_hLxYtB",
        "outputId": "865e3c78-673c-4255-f0f7-e3baf2b5ea46"
      },
      "outputs": [
        {
          "name": "stdout",
          "output_type": "stream",
          "text": [
            "['Krutika', 'Gadge']\n",
            "Krutika\n",
            "Gadge\n"
          ]
        }
      ],
      "source": [
        "# String split\n",
        "my_str = 'Krutika Gadge'\n",
        "s1 = my_str.split()\n",
        "s2,s3 = my_str.split()\n",
        "print(s1)\n",
        "print(s2)\n",
        "print(s3)"
      ]
    },
    {
      "cell_type": "code",
      "execution_count": null,
      "metadata": {
        "id": "fuhwRyylFrcu"
      },
      "outputs": [],
      "source": []
    },
    {
      "cell_type": "code",
      "execution_count": null,
      "metadata": {
        "colab": {
          "base_uri": "https://localhost:8080/"
        },
        "id": "_OQd2rDqyE-1",
        "outputId": "0bb1d020-d84f-40aa-d2b5-6a0cfcf95819"
      },
      "outputs": [
        {
          "name": "stdout",
          "output_type": "stream",
          "text": [
            "rutika\n"
          ]
        }
      ],
      "source": [
        "a = 'Krutika'\n",
        "print(a[1:])"
      ]
    },
    {
      "cell_type": "code",
      "execution_count": null,
      "metadata": {
        "colab": {
          "base_uri": "https://localhost:8080/"
        },
        "id": "DEr4wE6Cypu_",
        "outputId": "e8dbb27b-08bb-4f06-fc03-1e8e1d987924"
      },
      "outputs": [
        {
          "name": "stdout",
          "output_type": "stream",
          "text": [
            "Give your name Krutika\n",
            "akiturK\n"
          ]
        }
      ],
      "source": [
        "#Write a program to get your name as input and display it in reverse\n",
        "a = input(\"Give your name \")\n",
        "print(a[::-1])"
      ]
    },
    {
      "cell_type": "code",
      "execution_count": null,
      "metadata": {
        "colab": {
          "base_uri": "https://localhost:8080/"
        },
        "id": "sSWEpgGZ0E8G",
        "outputId": "ceb385dd-1a11-47f3-a904-919f40686b71"
      },
      "outputs": [
        {
          "name": "stdout",
          "output_type": "stream",
          "text": [
            "['krutik', ' g', 'dge']\n"
          ]
        },
        {
          "data": {
            "text/plain": [
              "list"
            ]
          },
          "execution_count": 1,
          "metadata": {},
          "output_type": "execute_result"
        }
      ],
      "source": [
        "x = 'krutika gadge'\n",
        "a = x.split(sep='a')\n",
        "print(a)\n",
        "type(a)"
      ]
    },
    {
      "cell_type": "code",
      "execution_count": null,
      "metadata": {
        "colab": {
          "base_uri": "https://localhost:8080/"
        },
        "id": "SbzoibY60pZ1",
        "outputId": "1aff989b-f417-47fb-df76-38133ede22ea"
      },
      "outputs": [
        {
          "name": "stdout",
          "output_type": "stream",
          "text": [
            "Give your name Krutika Rajesh Gadge\n",
            "First name = Krutika\n",
            "Middle name = Rajesh\n",
            "Last name = Gadge\n"
          ]
        }
      ],
      "source": [
        "a = input(\"Give your name \")\n",
        "s1,s2,s3 = a.split()\n",
        "print('First name','=',s1)\n",
        "print('Middle name','=',s2)\n",
        "print('Last name','=',s3)"
      ]
    },
    {
      "cell_type": "code",
      "execution_count": null,
      "metadata": {
        "colab": {
          "base_uri": "https://localhost:8080/"
        },
        "id": "Sq6FDzJ0n_wK",
        "outputId": "92ea9e72-f8a6-4273-b3d9-650aa5a97d10"
      },
      "outputs": [
        {
          "name": "stdout",
          "output_type": "stream",
          "text": [
            "Enter date of birth29/02/2004\n",
            "day= 29\n",
            "month= 02\n",
            "year= 2004\n"
          ]
        }
      ],
      "source": [
        "a=input('Enter date of birth')\n",
        "s1,s2,s3=a.split(sep='/')\n",
        "print('day=',s1)\n",
        "print('month=',s2)\n",
        "print('year=',s3)"
      ]
    },
    {
      "cell_type": "code",
      "execution_count": null,
      "metadata": {
        "colab": {
          "base_uri": "https://localhost:8080/"
        },
        "id": "8_cWq0Gnpzaq",
        "outputId": "78d8b304-4363-4ce6-fc27-bb53905d508b"
      },
      "outputs": [
        {
          "name": "stdout",
          "output_type": "stream",
          "text": [
            "Enter date of birth29.02,2004\n",
            "day= 29\n",
            "month= 02\n",
            "year= 2004\n"
          ]
        }
      ],
      "source": [
        "a=input('Enter date of birth')\n",
        "print('day=',a[0:2])\n",
        "print('month=',a[3:5])\n",
        "print('year=',a[6:10])"
      ]
    },
    {
      "cell_type": "code",
      "execution_count": null,
      "metadata": {
        "colab": {
          "base_uri": "https://localhost:8080/"
        },
        "id": "Pqu8icHQvE9i",
        "outputId": "237246e5-b9cf-4f58-acb6-d96fd8303796"
      },
      "outputs": [
        {
          "name": "stdout",
          "output_type": "stream",
          "text": [
            "Enter a namekrutika\n",
            "hello KRUTIKA\n",
            "<class 'str'>\n"
          ]
        }
      ],
      "source": [
        "#STRING FORMATTING\n",
        "Name=input('Enter a name')\n",
        "print('hello',Name.upper())\n",
        "print(type(Name))"
      ]
    },
    {
      "cell_type": "code",
      "execution_count": null,
      "metadata": {
        "colab": {
          "base_uri": "https://localhost:8080/"
        },
        "id": "aY-atCQnv7pd",
        "outputId": "f1005ea4-d3ff-4371-9afd-03b5e44ff368"
      },
      "outputs": [
        {
          "name": "stdout",
          "output_type": "stream",
          "text": [
            "ENTER 1ST NUMBER:2\n",
            "ENTER 2nd NUMBER:3\n",
            "Enter 2 numbers5 4\n"
          ]
        },
        {
          "data": {
            "text/plain": [
              "9"
            ]
          },
          "execution_count": 11,
          "metadata": {},
          "output_type": "execute_result"
        }
      ],
      "source": [
        "a=float(input('ENTER 1ST NUMBER:'))\n",
        "b=float(input('ENTER 2nd NUMBER:'))\n",
        "a+b\n",
        "x,y=input('Enter 2 numbers').split()\n",
        "int(x)+int(y)\n"
      ]
    },
    {
      "cell_type": "code",
      "execution_count": null,
      "metadata": {
        "colab": {
          "base_uri": "https://localhost:8080/"
        },
        "id": "MlkQnerPxte_",
        "outputId": "481a9a4a-17d3-40ef-d4b2-5f411892622b"
      },
      "outputs": [
        {
          "name": "stdout",
          "output_type": "stream",
          "text": [
            "Enter 4 numbers2 2 2 2\n"
          ]
        },
        {
          "data": {
            "text/plain": [
              "16"
            ]
          },
          "execution_count": 9,
          "metadata": {},
          "output_type": "execute_result"
        }
      ],
      "source": [
        "#WAP TP TAKE INPUT OF 4 NUMBERS FROM USER AND PRINT THEIR PRODUCT\n",
        "a,b,c,d=input('Enter 4 numbers').split()\n",
        "int(a)*int(b)*int(c)*int(d)\n"
      ]
    },
    {
      "cell_type": "code",
      "execution_count": null,
      "metadata": {
        "colab": {
          "base_uri": "https://localhost:8080/"
        },
        "id": "L4z03SoJyaof",
        "outputId": "a1b923c2-bceb-4dbb-fd85-db5bfe33aae0"
      },
      "outputs": [
        {
          "name": "stdout",
          "output_type": "stream",
          "text": [
            "Enter values of P,r,n,t1 1 1 1\n",
            "compound intrest is 2.0\n"
          ]
        }
      ],
      "source": [
        "#WAP TO PRINT COMPOUND INTREST BY GETTING ALL PARAMETERS FROM USER\n",
        "P,r,n,t=input('Enter values of P,r,n,t').split()\n",
        "print('compound intrest is',int(P)*(1+(int(r))/int(n))**(int(n)*int(t)))"
      ]
    },
    {
      "cell_type": "code",
      "execution_count": null,
      "metadata": {
        "colab": {
          "base_uri": "https://localhost:8080/"
        },
        "id": "WqC26oMB1OZw",
        "outputId": "22777c07-0479-4ceb-edd1-f2d7c50f5404"
      },
      "outputs": [
        {
          "name": "stdout",
          "output_type": "stream",
          "text": [
            "300 bread in fridge,krutika and Jay will eat\n"
          ]
        }
      ],
      "source": [
        "Name1=\"Jay\"\n",
        "number_of_bread=300\n",
        "text=\"%d bread in fridge,%s and %s will eat\"%(number_of_bread,Name,Name1)\n",
        "print(text)\n",
        "\n"
      ]
    },
    {
      "cell_type": "code",
      "execution_count": null,
      "metadata": {
        "colab": {
          "base_uri": "https://localhost:8080/"
        },
        "id": "O9GAhkyM9blL",
        "outputId": "165aef3b-8d8b-4f74-d522-cc336d8825e1"
      },
      "outputs": [
        {
          "name": "stdout",
          "output_type": "stream",
          "text": [
            "Misha walked and looked around\n"
          ]
        }
      ],
      "source": [
        "x = 'looked'\n",
        "\n",
        "print(\"Misha %s and %s around\"%('walked',x))"
      ]
    },
    {
      "cell_type": "code",
      "execution_count": null,
      "metadata": {
        "colab": {
          "base_uri": "https://localhost:8080/"
        },
        "id": "FP4fhEKd5eqC",
        "outputId": "12d328a3-3106-4f4c-98e2-61d0ce1ca283"
      },
      "outputs": [
        {
          "name": "stdout",
          "output_type": "stream",
          "text": [
            "my share=24.50000,tip=  555\n"
          ]
        }
      ],
      "source": [
        "total='my share=%.5f,tip=%5d'%(24.5,555.5)\n",
        "print(total)"
      ]
    },
    {
      "cell_type": "code",
      "execution_count": null,
      "metadata": {
        "colab": {
          "base_uri": "https://localhost:8080/"
        },
        "id": "D06ab2Qw5rlW",
        "outputId": "7e4a1885-19a4-43f9-a1d8-0505abe47807"
      },
      "outputs": [
        {
          "name": "stdout",
          "output_type": "stream",
          "text": [
            "HELLO WORLD\n",
            "False\n",
            "HELLO WORLD\n",
            "True\n",
            "True\n",
            "hello world\n",
            "    HELLO WORLD     \n",
            "1\n"
          ]
        }
      ],
      "source": [
        "#more string ops\n",
        "#https://docs.python.org/3/library/stdtypes.html#string-methods\n",
        "my_str='HELLO WORLD'\n",
        "print(my_str.upper())\n",
        "print(my_str.isalpha())\n",
        "print(my_str)\n",
        "print(my_str[0].isalpha())\n",
        "a='12'\n",
        "print(a.isdigit())\n",
        "print(my_str.casefold())\n",
        "print(my_str.center(20))\n",
        "print(my_str.count('HELLO'))\n",
        "\n"
      ]
    },
    {
      "cell_type": "code",
      "execution_count": null,
      "metadata": {
        "colab": {
          "base_uri": "https://localhost:8080/"
        },
        "id": "oRcxTx9U-oBy",
        "outputId": "6567c179-1d76-4b8f-fe8f-b2e5f3452136"
      },
      "outputs": [
        {
          "name": "stdout",
          "output_type": "stream",
          "text": [
            "H    e    l    l    o\n"
          ]
        }
      ],
      "source": [
        "txt = \"H\\te\\tl\\tl\\to\"\n",
        "\n",
        "x =  txt.expandtabs(5)\n",
        "\n",
        "print(x)"
      ]
    },
    {
      "cell_type": "markdown",
      "metadata": {
        "id": "NY0tuywJ6F9j"
      },
      "source": [
        "LISTS\n",
        "\n",
        "1.   COLLECTION OF DATA[]\n",
        "2.  OFTEN USED TO STORE HOMOGENEOUS VALUE\n",
        "          EG.NUMBERS,NAMES WITH THE SAME DATATYPE\n",
        "3.  MUTABLE:MODIFY IN PLACE WITHOUT CREATING A NEW OBJECT\n",
        "\n",
        "\n",
        "\n"
      ]
    },
    {
      "cell_type": "code",
      "execution_count": null,
      "metadata": {
        "colab": {
          "base_uri": "https://localhost:8080/"
        },
        "id": "h7bERnM-7xyA",
        "outputId": "426e49d2-5ada-494f-cb99-2d32cfe5e31b"
      },
      "outputs": [
        {
          "name": "stdout",
          "output_type": "stream",
          "text": [
            "<class 'list'>\n",
            "[1, 2, 3, 4, 5]\n",
            "[-4, -2, 0, 2, 4, 6, 8]\n"
          ]
        }
      ],
      "source": [
        "#LIST\n",
        "my_list=[1,2,3,4,5]\n",
        "print(type(my_list))\n",
        "print(my_list)\n",
        "my_list2=list(range(-4,10,2))\n",
        "print(my_list2)\n"
      ]
    },
    {
      "cell_type": "code",
      "execution_count": null,
      "metadata": {
        "colab": {
          "base_uri": "https://localhost:8080/"
        },
        "id": "L9GuW6bX-A8N",
        "outputId": "50b0bd02-3849-4a40-c2d6-b45ef5958750"
      },
      "outputs": [
        {
          "name": "stdout",
          "output_type": "stream",
          "text": [
            "1st element= 1\n",
            "2st element= 4\n"
          ]
        }
      ],
      "source": [
        "#ACCESS LIST MEMBERS BY INDEX\n",
        "#START AT 0 AND END AT N-1\n",
        "print(\"1st element=\",my_list[0])\n",
        "print(\"2st element=\",my_list[3])\n"
      ]
    },
    {
      "cell_type": "code",
      "execution_count": null,
      "metadata": {
        "colab": {
          "base_uri": "https://localhost:8080/"
        },
        "id": "UQ9rlbQU-M4Q",
        "outputId": "af7e6f12-9932-422c-e637-c859b178042d"
      },
      "outputs": [
        {
          "name": "stdout",
          "output_type": "stream",
          "text": [
            "[1, 2, 3, 4, 5, -4, -2, 0, 2, 4, 6, 8]\n",
            "[1, 2, 3, 4, 5, 1, 2, 3, 4, 5]\n",
            "[1, 2, 3, 4, 5, 1, 2, 3, 4, 5, 1, 2, 3, 4, 5]\n",
            "[1, 2, 3, 4, 5, 1, 2, 3, 4, 5, 1, 2, 3, 4, 5, 1, 2, 3, 4, 5, 1, 2, 3, 4, 5]\n",
            "[1, 2, 3, 4, 5]\n"
          ]
        }
      ],
      "source": [
        "#CONCATENATE list\n",
        "print(my_list+my_list2)\n",
        "print(my_list*2)\n",
        "print(my_list*3)\n",
        "print(my_list*5)\n",
        "print(my_list)"
      ]
    },
    {
      "cell_type": "code",
      "execution_count": null,
      "metadata": {
        "colab": {
          "base_uri": "https://localhost:8080/"
        },
        "id": "S_Q1s64j-PmM",
        "outputId": "434d7723-30cc-4dd4-8b0b-5a67389cb9d2"
      },
      "outputs": [
        {
          "name": "stdout",
          "output_type": "stream",
          "text": [
            "[100, 3, 4, 5, 99, [...], 99, 99, 99, 99, None]\n",
            "[100, 3, 4, 5, 99, [...], 99, 99, 99, 99, None, 99]\n",
            "[100, 100, 3, 4, 5, 99, [...], 99, 99, 99, 99, None, 99]\n"
          ]
        }
      ],
      "source": [
        "#MODIFY LIST\n",
        "del my_list[0];print(my_list)\n",
        "my_list.append(99);print(my_list)\n",
        "my_list.insert(1,100);print(my_list)\n",
        "my_list.append(my_list2)\n",
        "\n"
      ]
    },
    {
      "cell_type": "code",
      "execution_count": null,
      "metadata": {
        "colab": {
          "base_uri": "https://localhost:8080/"
        },
        "id": "C8ORTZxbCH3a",
        "outputId": "75c9ffc9-3401-4116-ebed-73c39df47576"
      },
      "outputs": [
        {
          "name": "stdout",
          "output_type": "stream",
          "text": [
            "TANVI\n",
            "['ANUSHREE', 'AAKANSHA', 'TANVI', 'SINCHAN']\n",
            "['ANUSHREE', 'AAKANSHA', 'TANVI', 'DOREMON', 'SINCHAN']\n",
            "['SINCHAN', 'DOREMON', 'TANVI', 'AAKANSHA', 'ANUSHREE']\n",
            "['SINCHAN', 'DOREMON', 'AAKANSHA', 'ANUSHREE']\n",
            "['SINCHAN', 'DOREMON', 'AMOL', 'ANUSHREE']\n",
            "['AMOL', 'ANUSHREE', 'DOREMON', 'SINCHAN']\n"
          ]
        }
      ],
      "source": [
        "#WAP TO CREATE LIST OF N FRIEND,BASED ON THE CLOSENESS OF FRIEND\n",
        "list1=['ANUSHREE','AAKANSHA','TANVI']\n",
        "print(list1[-1])\n",
        "list1.append('SINCHAN');print(list1)\n",
        "list1.insert(3,'DOREMON');print(list1)\n",
        "list1.reverse();print(list1)\n",
        "del list1[2];print(list1)\n",
        "list1[2]='AMOL';print(list1)\n",
        "list1.sort();print(list1)\n"
      ]
    },
    {
      "cell_type": "code",
      "execution_count": null,
      "metadata": {
        "colab": {
          "base_uri": "https://localhost:8080/"
        },
        "id": "dzKVSU2OJ8sw",
        "outputId": "326f8b3a-5270-4b4f-8095-9218ae7580b6"
      },
      "outputs": [
        {
          "name": "stdout",
          "output_type": "stream",
          "text": [
            "['DOGS', 'SHEEP', 'cats', 'dogs', 'horeses']\n",
            "['cats', 'DOGS', 'dogs', 'SHEEP', 'horeses']\n",
            "['horeses', 'dogs', 'cats', 'SHEEP', 'DOGS']\n",
            "['cats', 'SHEEP', 'DOGS', 'dogs', 'horeses']\n"
          ]
        }
      ],
      "source": [
        "#more sorting\n",
        "list2=['cats','SHEEP','DOGS','dogs','horeses']\n",
        "#list2.sort()\n",
        "#print(list2)\n",
        "print(sorted(list2))\n",
        "print(sorted(list2,key=len))\n",
        "print(sorted(list2,reverse=True))\n",
        "print(list2)\n",
        "\n"
      ]
    },
    {
      "cell_type": "code",
      "execution_count": null,
      "metadata": {
        "colab": {
          "base_uri": "https://localhost:8080/"
        },
        "id": "5osfuGPwKytC",
        "outputId": "c4144065-ca61-4fa0-bc42-8a35265f89f6"
      },
      "outputs": [
        {
          "name": "stdout",
          "output_type": "stream",
          "text": [
            "['AAKANSHA', 'ANUSHREE', 'TANVI']\n",
            "['AAKANSHA', 'ANUSHREE', 'TANVI']\n",
            "['ANUSHREE', 'AAKANSHA', 'TANVI']\n"
          ]
        }
      ],
      "source": [
        "fri1=['ANUSHREE','AAKANSHA','TANVI']\n",
        "fri2=['ANUSHREE','AAKANSHA','TANVI']\n",
        "print(fri1.sort())\n",
        "print(sorted(fri2))\n",
        "print(fri1)\n",
        "print(fri2)\n"
      ]
    },
    {
      "cell_type": "markdown",
      "metadata": {
        "id": "xUsfe0eXMQWH"
      },
      "source": [
        "sort-modify list\n",
        "sorted-does not moditfy original list\n",
        "sort-return type none\n",
        "sorted-return list\n",
        "sort-applicable for list\n",
        "sorted-applicable for list,tupple(generalized)\n",
        "sort-method(specific to class)\n",
        "sorted-function"
      ]
    },
    {
      "cell_type": "code",
      "execution_count": null,
      "metadata": {
        "colab": {
          "base_uri": "https://localhost:8080/"
        },
        "id": "Degx0wU1LdGv",
        "outputId": "6b34be15-a037-4de6-e8e4-e23dac9b997e"
      },
      "outputs": [
        {
          "name": "stdout",
          "output_type": "stream",
          "text": [
            "true\n"
          ]
        }
      ],
      "source": [
        "#Write a function anagrams that takes in two strings and returns True if the two strings are anagrams (contain the same characters in a different order), and False otherwise\n",
        "a=\"silent\"\n",
        "b=\"listen\"\n",
        "sorted(a)\n",
        "sorted(b)\n",
        "if sorted(a)==sorted(b):\n",
        "  print(\"true\")\n",
        "else:\n",
        "  print(\"false\")\n"
      ]
    },
    {
      "cell_type": "code",
      "execution_count": null,
      "metadata": {
        "colab": {
          "base_uri": "https://localhost:8080/"
        },
        "id": "0NzwtED5qvv-",
        "outputId": "0bbce0c1-7a31-4255-b36e-1a23f9138457"
      },
      "outputs": [
        {
          "data": {
            "text/plain": [
              "['cats', 'DOGS', 'dogs', 'horeses', 'SHEEP']"
            ]
          },
          "execution_count": 3,
          "metadata": {},
          "output_type": "execute_result"
        }
      ],
      "source": [
        "#sort by lowercase\n",
        "sorted(list2,key=str.lower)"
      ]
    },
    {
      "cell_type": "code",
      "execution_count": null,
      "metadata": {
        "colab": {
          "base_uri": "https://localhost:8080/",
          "height": 259
        },
        "id": "5LELcEFtwZzO",
        "outputId": "7c406e12-fd21-4d8b-c241-f24d4d644181"
      },
      "outputs": [
        {
          "name": "stdout",
          "output_type": "stream",
          "text": [
            "enter name:krutika\n",
            "WELCOME KRUTIKA\n",
            "WELCOME krutika\n"
          ]
        },
        {
          "ename": "AttributeError",
          "evalue": "ignored",
          "output_type": "error",
          "traceback": [
            "\u001b[0;31m---------------------------------------------------------------------------\u001b[0m",
            "\u001b[0;31mAttributeError\u001b[0m                            Traceback (most recent call last)",
            "\u001b[0;32m<ipython-input-4-5c8a4339f5c4>\u001b[0m in \u001b[0;36m<cell line: 4>\u001b[0;34m()\u001b[0m\n\u001b[1;32m      2\u001b[0m \u001b[0mname\u001b[0m\u001b[0;34m=\u001b[0m\u001b[0;34m(\u001b[0m\u001b[0minput\u001b[0m\u001b[0;34m(\u001b[0m\u001b[0;34m'enter name:'\u001b[0m\u001b[0;34m)\u001b[0m\u001b[0;34m)\u001b[0m\u001b[0;34m\u001b[0m\u001b[0;34m\u001b[0m\u001b[0m\n\u001b[1;32m      3\u001b[0m \u001b[0mprint\u001b[0m\u001b[0;34m(\u001b[0m\u001b[0;34m'WELCOME'\u001b[0m\u001b[0;34m,\u001b[0m\u001b[0mname\u001b[0m\u001b[0;34m.\u001b[0m\u001b[0mupper\u001b[0m\u001b[0;34m(\u001b[0m\u001b[0;34m)\u001b[0m\u001b[0;34m)\u001b[0m\u001b[0;34m\u001b[0m\u001b[0;34m\u001b[0m\u001b[0m\n\u001b[0;32m----> 4\u001b[0;31m \u001b[0mprint\u001b[0m\u001b[0;34m(\u001b[0m\u001b[0;34m'WELCOME'\u001b[0m\u001b[0;34m,\u001b[0m\u001b[0mname\u001b[0m\u001b[0;34m)\u001b[0m\u001b[0;34m.\u001b[0m\u001b[0mupper\u001b[0m\u001b[0;34m(\u001b[0m\u001b[0;34m)\u001b[0m\u001b[0;34m\u001b[0m\u001b[0;34m\u001b[0m\u001b[0m\n\u001b[0m",
            "\u001b[0;31mAttributeError\u001b[0m: 'NoneType' object has no attribute 'upper'"
          ]
        }
      ],
      "source": [
        "#assignment 3a\n",
        "name=(input('enter name:'))\n",
        "print('WELCOME',name.upper())\n"
      ]
    },
    {
      "cell_type": "code",
      "execution_count": null,
      "metadata": {
        "colab": {
          "base_uri": "https://localhost:8080/"
        },
        "id": "-nVvUACdxe_B",
        "outputId": "6c011634-f36f-4ba5-9582-a0a9dca30ec0"
      },
      "outputs": [
        {
          "name": "stdout",
          "output_type": "stream",
          "text": [
            "enter hour worked and rate per hour42 3.25\n",
            "136.5\n"
          ]
        }
      ],
      "source": [
        "#assignment 3b\n",
        "a,b=(input(\"enter hour worked and rate per hour\")).split()\n",
        "salary = float(a)*float(b)\n",
        "print(salary)\n"
      ]
    },
    {
      "cell_type": "code",
      "execution_count": null,
      "metadata": {
        "colab": {
          "base_uri": "https://localhost:8080/"
        },
        "id": "UlB8YOWnzS3S",
        "outputId": "a33a6988-59fd-4c5c-b292-31278a781c54"
      },
      "outputs": [
        {
          "name": "stdout",
          "output_type": "stream",
          "text": [
            "enter a stringNITIN\n",
            "True\n",
            "enter a string SYMBIOSIS\n"
          ]
        },
        {
          "data": {
            "text/plain": [
              "False"
            ]
          },
          "execution_count": 5,
          "metadata": {},
          "output_type": "execute_result"
        }
      ],
      "source": [
        "#assignment 4a\n",
        "str=input(\"enter a string\")\n",
        "a=str[::]==str[::-1]\n",
        "print(a)\n",
        "str=input(\"enter a string\")\n",
        "b=str[::]==str[::-1]\n",
        "b"
      ]
    },
    {
      "cell_type": "code",
      "execution_count": null,
      "metadata": {
        "colab": {
          "base_uri": "https://localhost:8080/"
        },
        "id": "NCyFaAh30S4z",
        "outputId": "b48c8159-33cf-412f-93f3-06a6bf6d72da"
      },
      "outputs": [
        {
          "name": "stdout",
          "output_type": "stream",
          "text": [
            "enter a number0123456789\n",
            "97531\n",
            "86420\n"
          ]
        }
      ],
      "source": [
        "#assignment 4b\n",
        "a=input('enter a number')\n",
        "\n",
        "print(a[-1::-2])\n",
        "print(a[-2::-2])\n",
        "\n"
      ]
    },
    {
      "cell_type": "markdown",
      "metadata": {
        "id": "DcGzJ61a3MHp"
      },
      "source": [
        "# TUPPLE\n"
      ]
    },
    {
      "cell_type": "code",
      "execution_count": null,
      "metadata": {
        "colab": {
          "base_uri": "https://localhost:8080/"
        },
        "id": "Vs5Tkrp13ay1",
        "outputId": "78c2946c-ea3a-463e-92d4-86acc98a730e"
      },
      "outputs": [
        {
          "name": "stdout",
          "output_type": "stream",
          "text": [
            "(1, 'two', 3)\n",
            "(1, 'two', 3)\n",
            "()\n"
          ]
        }
      ],
      "source": [
        "my_tup=(1,'two',3)\n",
        "print(my_tup)\n",
        "my_tuple=1,'two',3\n",
        "print(my_tuple)\n",
        "#enplty tuple\n",
        "my_empty_tuple=()\n",
        "print(my_empty_tuple)\n",
        "\n"
      ]
    },
    {
      "cell_type": "code",
      "execution_count": null,
      "metadata": {
        "colab": {
          "base_uri": "https://localhost:8080/"
        },
        "id": "XuVOGztd4Q7k",
        "outputId": "dbb55c52-feab-4d69-c4c6-dcf051dadded"
      },
      "outputs": [
        {
          "name": "stdout",
          "output_type": "stream",
          "text": [
            "(50,)\n"
          ]
        },
        {
          "data": {
            "text/plain": [
              "tuple"
            ]
          },
          "execution_count": 1,
          "metadata": {},
          "output_type": "execute_result"
        }
      ],
      "source": [
        "#you have to include a comma,even though there is only one value\n",
        "tup1=(50,);\n",
        "print(tup1)\n",
        "type(tup1)\n"
      ]
    },
    {
      "cell_type": "code",
      "execution_count": null,
      "metadata": {
        "colab": {
          "base_uri": "https://localhost:8080/"
        },
        "id": "D1gxiT_L7T6C",
        "outputId": "adc6c6a1-20c2-4a10-b651-015e84eef25f"
      },
      "outputs": [
        {
          "name": "stdout",
          "output_type": "stream",
          "text": [
            "<class 'tuple'>\n"
          ]
        },
        {
          "data": {
            "text/plain": [
              "tuple"
            ]
          },
          "execution_count": 32,
          "metadata": {},
          "output_type": "execute_result"
        }
      ],
      "source": [
        "tup2=(50,23)\n",
        "print(type(tup2))\n",
        "#tup2=50,\n",
        "type(tup2)"
      ]
    },
    {
      "cell_type": "code",
      "execution_count": null,
      "metadata": {
        "colab": {
          "base_uri": "https://localhost:8080/",
          "height": 167
        },
        "id": "oMFewW338GpB",
        "outputId": "5a84bbef-3347-4ee3-f902-b46b6a33388b"
      },
      "outputs": [
        {
          "ename": "NameError",
          "evalue": "ignored",
          "output_type": "error",
          "traceback": [
            "\u001b[0;31m---------------------------------------------------------------------------\u001b[0m",
            "\u001b[0;31mNameError\u001b[0m                                 Traceback (most recent call last)",
            "\u001b[0;32m<ipython-input-31-cf7b3345d602>\u001b[0m in \u001b[0;36m<module>\u001b[0;34m\u001b[0m\n\u001b[0;32m----> 1\u001b[0;31m \u001b[0mtup\u001b[0m\u001b[0;34m[\u001b[0m\u001b[0;36m1\u001b[0m\u001b[0;34m]\u001b[0m\u001b[0;34m=\u001b[0m\u001b[0;36m32\u001b[0m\u001b[0;34m\u001b[0m\u001b[0;34m\u001b[0m\u001b[0m\n\u001b[0m",
            "\u001b[0;31mNameError\u001b[0m: name 'tup' is not defined"
          ]
        }
      ],
      "source": [
        "tup[1]=32\n"
      ]
    },
    {
      "cell_type": "code",
      "execution_count": null,
      "metadata": {
        "colab": {
          "background_save": true,
          "base_uri": "https://localhost:8080/"
        },
        "id": "2JZozvZ98qdt",
        "outputId": "caf0401b-8266-4a29-a34e-0aa971bf424c"
      },
      "outputs": [
        {
          "name": "stdout",
          "output_type": "stream",
          "text": [
            "(4, 0)\n"
          ]
        },
        {
          "data": {
            "text/plain": [
              "tuple"
            ]
          },
          "execution_count": 1,
          "metadata": {},
          "output_type": "execute_result"
        }
      ],
      "source": [
        "my_tup1=(2,8,3,1)\n",
        "a,b,c,d=my_tup1\n",
        "b=(4,0)\n",
        "print(b)\n",
        "type(b)"
      ]
    },
    {
      "cell_type": "code",
      "execution_count": null,
      "metadata": {
        "colab": {
          "base_uri": "https://localhost:8080/"
        },
        "id": "si1vzmr59Llt",
        "outputId": "e7bd070d-7810-40d6-f2ef-8a95d724b863"
      },
      "outputs": [
        {
          "name": "stdout",
          "output_type": "stream",
          "text": [
            "2\n"
          ]
        }
      ],
      "source": [
        "print(my_tup1[0])"
      ]
    },
    {
      "cell_type": "code",
      "execution_count": null,
      "metadata": {
        "id": "3Fpjyt0T91aO"
      },
      "outputs": [],
      "source": [
        "tup=('physics','chemistry',1997,2000)\n",
        "print(tup)"
      ]
    },
    {
      "cell_type": "code",
      "execution_count": null,
      "metadata": {
        "colab": {
          "base_uri": "https://localhost:8080/",
          "height": 201
        },
        "id": "lTtBbMXe-HsF",
        "outputId": "b65e2dfa-6622-4e78-98c1-9fa926d0fbe9"
      },
      "outputs": [
        {
          "ename": "NameError",
          "evalue": "ignored",
          "output_type": "error",
          "traceback": [
            "\u001b[0;31m---------------------------------------------------------------------------\u001b[0m",
            "\u001b[0;31mNameError\u001b[0m                                 Traceback (most recent call last)",
            "\u001b[0;32m<ipython-input-45-6ca5bb8879d2>\u001b[0m in \u001b[0;36m<module>\u001b[0;34m\u001b[0m\n\u001b[0;32m----> 1\u001b[0;31m \u001b[0;32mdel\u001b[0m \u001b[0mtup\u001b[0m\u001b[0;34m\u001b[0m\u001b[0;34m\u001b[0m\u001b[0m\n\u001b[0m\u001b[1;32m      2\u001b[0m \u001b[0mprint\u001b[0m\u001b[0;34m(\u001b[0m\u001b[0;34m'afte deleting tuple:'\u001b[0m\u001b[0;34m)\u001b[0m\u001b[0;34m\u001b[0m\u001b[0;34m\u001b[0m\u001b[0m\n\u001b[1;32m      3\u001b[0m \u001b[0mtup\u001b[0m\u001b[0;34m\u001b[0m\u001b[0;34m\u001b[0m\u001b[0m\n",
            "\u001b[0;31mNameError\u001b[0m: name 'tup' is not defined"
          ]
        }
      ],
      "source": [
        "del tup\n",
        "print('afte deleting tuple:')\n",
        "tup\n"
      ]
    },
    {
      "cell_type": "code",
      "execution_count": null,
      "metadata": {
        "id": "lSvUx_jfDb6F"
      },
      "outputs": [],
      "source": []
    },
    {
      "cell_type": "code",
      "execution_count": null,
      "metadata": {
        "colab": {
          "base_uri": "https://localhost:8080/"
        },
        "id": "5IJJK7Gc-dIp",
        "outputId": "c4c98461-2606-49a9-b0c8-b69e07a12bc5"
      },
      "outputs": [
        {
          "name": "stdout",
          "output_type": "stream",
          "text": [
            "True\n",
            "False\n"
          ]
        },
        {
          "data": {
            "text/plain": [
              "(139778982800384, 139778982444160)"
            ]
          },
          "execution_count": 40,
          "metadata": {},
          "output_type": "execute_result"
        }
      ],
      "source": [
        "dum=('2000 12-34',['poetry','pretented flight'])\n",
        "dee=('2000 12-34',['poetry','pretented flight'])\n",
        "print(dum==dee)\n",
        "print(dum is dee)\n",
        "id(dum),id(dee)"
      ]
    },
    {
      "cell_type": "code",
      "execution_count": null,
      "metadata": {
        "colab": {
          "base_uri": "https://localhost:8080/"
        },
        "id": "GJAh0Wim_8ex",
        "outputId": "15ae1322-e8ce-4efe-b64f-0dec4913c543"
      },
      "outputs": [
        {
          "name": "stdout",
          "output_type": "stream",
          "text": [
            "('2000 12-34', ['poetery', 'pretented flight']) ('2000 12-34', ['poetery', 'pretented flight'])\n",
            "True\n",
            "True\n"
          ]
        },
        {
          "data": {
            "text/plain": [
              "(139778982800384, 139778982800384)"
            ]
          },
          "execution_count": 42,
          "metadata": {},
          "output_type": "execute_result"
        }
      ],
      "source": [
        "t_doom=dum\n",
        "print(dum,t_doom)\n",
        "print(t_doom==dum)\n",
        "print(t_doom is dum)\n",
        "id(t_doom),id(dum)"
      ]
    },
    {
      "cell_type": "code",
      "execution_count": null,
      "metadata": {
        "colab": {
          "base_uri": "https://localhost:8080/"
        },
        "id": "9bwIXKkBAdEA",
        "outputId": "7657098d-d617-4a74-cc89-37b53bdbe222"
      },
      "outputs": [
        {
          "name": "stdout",
          "output_type": "stream",
          "text": [
            "['poetery', 'pretented flight', 'rap']\n",
            "('2000 12-34', ['poetery', 'pretented flight', 'rap', 'rap'])\n"
          ]
        }
      ],
      "source": [
        "skills=t_doom[1]\n",
        "print(skills)\n",
        "skills.append('rap')\n",
        "print(t_doom)"
      ]
    },
    {
      "cell_type": "markdown",
      "metadata": {
        "id": "WwsgaixzoeKX"
      },
      "source": [
        "# SET"
      ]
    },
    {
      "cell_type": "markdown",
      "metadata": {
        "id": "ssMY3rzzu7Ov"
      },
      "source": [
        "**Set** is an unordered collection of unique items"
      ]
    },
    {
      "cell_type": "code",
      "execution_count": null,
      "metadata": {
        "colab": {
          "base_uri": "https://localhost:8080/"
        },
        "id": "rrrVVeXjwZUw",
        "outputId": "fd255f75-d80b-4bad-d71d-3d575fe35585"
      },
      "outputs": [
        {
          "name": "stdout",
          "output_type": "stream",
          "text": [
            "{2, 3, 4, 5, 6}\n"
          ]
        }
      ],
      "source": [
        "#Python set\n",
        "set1={6,4,3,2,5}\n",
        "print(set1)"
      ]
    },
    {
      "cell_type": "code",
      "execution_count": null,
      "metadata": {
        "colab": {
          "base_uri": "https://localhost:8080/"
        },
        "id": "SFkRLF2Xyy_l",
        "outputId": "47244cf7-92a3-41b2-9e5a-17c71f49872d"
      },
      "outputs": [
        {
          "name": "stdout",
          "output_type": "stream",
          "text": [
            "{2, 3, 4, 5, 6, 9}\n",
            "{2, 3, 4, 5, 6, 21, 9}\n",
            "{2, 3, 4, 6, 21, 9}\n",
            "{2, 3, 6, 21, 9}\n",
            "{3, 6, 21, 9}\n",
            "set()\n"
          ]
        }
      ],
      "source": [
        "set1.add(9)\n",
        "print(set1)\n",
        "set1.update([3,21])\n",
        "print(set1)\n",
        "set1.discard(5)\n",
        "print(set1)\n",
        "set1.remove(4)\n",
        "print(set1)\n",
        "set1.pop()\n",
        "print(set1)\n",
        "set1.clear()\n",
        "print(set1)\n"
      ]
    },
    {
      "cell_type": "code",
      "execution_count": null,
      "metadata": {
        "colab": {
          "base_uri": "https://localhost:8080/"
        },
        "id": "QvUgAAkT1LwA",
        "outputId": "2adb1789-95b9-4e47-f8e1-3029d9faada7"
      },
      "outputs": [
        {
          "name": "stdout",
          "output_type": "stream",
          "text": [
            "{1, 2, 3, 4, 5}\n",
            "{1, 2, 3, 4}\n",
            "{1, 2, 3, 4, 5}\n",
            "{1, 2, 3, 4}\n"
          ]
        }
      ],
      "source": [
        "set1={1,2,3,4}\n",
        "set2={3,4,5}\n",
        "print(set1|set2)\n",
        "print(set1.union(set2))"
      ]
    },
    {
      "cell_type": "code",
      "execution_count": null,
      "metadata": {
        "colab": {
          "base_uri": "https://localhost:8080/"
        },
        "id": "1CIf68Hi2IOx",
        "outputId": "90ffc548-6790-4d6f-e701-d1f6fe5fc6bc"
      },
      "outputs": [
        {
          "name": "stdout",
          "output_type": "stream",
          "text": [
            "{3, 4}\n",
            "{3, 4}\n"
          ]
        }
      ],
      "source": [
        "set1={1,2,3,4}\n",
        "set2={3,4,5}\n",
        "print(set1&set2)\n",
        "print(set1.intersection(set2))"
      ]
    },
    {
      "cell_type": "code",
      "execution_count": null,
      "metadata": {
        "colab": {
          "base_uri": "https://localhost:8080/"
        },
        "id": "xqRcFOf926H4",
        "outputId": "f28c5adb-6d46-4cc1-9c44-6ee1631dcc81"
      },
      "outputs": [
        {
          "name": "stdout",
          "output_type": "stream",
          "text": [
            "{1, 2}\n",
            "{1, 2}\n"
          ]
        }
      ],
      "source": [
        "print(set1-set2)\n",
        "print(set1.difference(set2))"
      ]
    },
    {
      "cell_type": "code",
      "execution_count": null,
      "metadata": {
        "colab": {
          "base_uri": "https://localhost:8080/"
        },
        "id": "fa3l1Nf0zyeG",
        "outputId": "37d93ddb-6637-43bd-cd1a-b8e414965cb3"
      },
      "outputs": [
        {
          "name": "stdout",
          "output_type": "stream",
          "text": [
            "{1, 2, 5}\n",
            "{1, 2, 5}\n"
          ]
        }
      ],
      "source": [
        "print(set1^set2)\n",
        "print(set1.symmetric_difference(set2))"
      ]
    },
    {
      "cell_type": "markdown",
      "metadata": {
        "id": "ddEPjZ-S4Spn"
      },
      "source": [
        "# DICTIONARIES\n",
        "**Dictionaries** is an unorderd collection of key.\"value\" pairs.It is generally used when we have huge amount of data.Dictionaries are optimized for retrieving data.\n",
        "\n",
        "\n",
        "*   List of key-value pairs{}\n",
        "*   Unordered collection of objects , not indexed\n",
        "\n",
        "*   Store objects in a random order to provide faster look up\n",
        "*   Data types are heterogenous\n",
        "\n",
        "*   Element are accessed by keyword, not index\n",
        "*   Elements are mutable\n",
        "- dict = {'Key1':value1,'key2':value2}\n",
        "\n",
        "\n",
        "\n",
        "\n",
        "\n"
      ]
    },
    {
      "cell_type": "code",
      "execution_count": null,
      "metadata": {
        "colab": {
          "base_uri": "https://localhost:8080/"
        },
        "id": "tlh-kKMp4DSE",
        "outputId": "cad8ab23-9184-4502-ec90-4d9a31ed6025"
      },
      "outputs": [
        {
          "name": "stdout",
          "output_type": "stream",
          "text": [
            "<class 'dict'>\n"
          ]
        },
        {
          "data": {
            "text/plain": [
              "{1: 'value', 'key': 2}"
            ]
          },
          "execution_count": 20,
          "metadata": {},
          "output_type": "execute_result"
        }
      ],
      "source": [
        "#Python Dictionaries\n",
        "dict1={1:'value','key':2}\n",
        "print(type(dict1))\n",
        "dict1"
      ]
    },
    {
      "cell_type": "markdown",
      "metadata": {
        "id": "KvDtJ3KP-bXn"
      },
      "source": []
    },
    {
      "cell_type": "code",
      "execution_count": null,
      "metadata": {
        "colab": {
          "base_uri": "https://localhost:8080/"
        },
        "id": "NIb14EJr9zEd",
        "outputId": "3bb532f5-5a46-44ad-a873-3ab804431e6f"
      },
      "outputs": [
        {
          "data": {
            "text/plain": [
              "2"
            ]
          },
          "execution_count": 21,
          "metadata": {},
          "output_type": "execute_result"
        }
      ],
      "source": [
        "dict1['key']"
      ]
    },
    {
      "cell_type": "markdown",
      "metadata": {
        "id": "DLZNAexR-dLD"
      },
      "source": [
        "WAP to create dictionary to store name,prn,mobile no,blood group and display value of mobile number."
      ]
    },
    {
      "cell_type": "code",
      "execution_count": null,
      "metadata": {
        "colab": {
          "base_uri": "https://localhost:8080/"
        },
        "id": "ZeTMieXH-r_W",
        "outputId": "fe0ec8f0-3b48-47f4-abc2-ff1dd32848ac"
      },
      "outputs": [
        {
          "name": "stdout",
          "output_type": "stream",
          "text": [
            "1234\n",
            "{'Name': 'Krutika', 'PRN': 178, 'mobile no': 234587, 'blood group': 'A+'}\n",
            "cultural\n",
            "{'Name': 'Krutika', 'PRN': 178, 'mobile no': 234587, 'blood group': 'A+', 'src member': 'cultural'}\n",
            "['Name', 'PRN', 'blood group', 'mobile no', 'src member']\n",
            "<class 'list'>\n",
            "dict_values(['Krutika', 178, 234587, 'A+', 'cultural'])\n",
            "dict_keys(['Name', 'PRN', 'mobile no', 'blood group', 'src member'])\n"
          ]
        }
      ],
      "source": [
        "dict2={'Name':'Krutika','PRN':178,'mobile no':1234,'blood group':'A+'}\n",
        "print(dict2['mobile no'])\n",
        "dict2['mobile no']=234587\n",
        "print(dict2)\n",
        "dict2['src member']='cultural'\n",
        "print(dict2['src member'])\n",
        "print(dict2)\n",
        "dict3=sorted(dict2)\n",
        "print(dict3)\n",
        "print(type(dict3))\n",
        "print(dict2.values())\n",
        "print(dict2.keys())"
      ]
    },
    {
      "cell_type": "code",
      "execution_count": null,
      "metadata": {
        "colab": {
          "base_uri": "https://localhost:8080/"
        },
        "id": "Kv7eQRsT_uBb",
        "outputId": "59349b90-c974-4cb0-e16d-a17935eb9b71"
      },
      "outputs": [
        {
          "name": "stdout",
          "output_type": "stream",
          "text": [
            "5,7,Krutika,7.77$Hello\n"
          ]
        }
      ],
      "source": [
        "#Input/Output in Python\n",
        "#print(*objects,sep=',end='\\n',file=sys.std.out,flush=False)\n",
        "print(5,7,'Krutika',7.77,sep=',',end='$');print(\"Hello\")"
      ]
    },
    {
      "cell_type": "code",
      "execution_count": null,
      "metadata": {
        "id": "drFAmKkTGa_W"
      },
      "outputs": [],
      "source": []
    },
    {
      "cell_type": "code",
      "execution_count": null,
      "metadata": {
        "colab": {
          "base_uri": "https://localhost:8080/",
          "height": 132
        },
        "id": "W5-PGZfoDpR6",
        "outputId": "25263ee2-b1c4-4431-8ce3-a70df7a09d04"
      },
      "outputs": [
        {
          "ename": "SyntaxError",
          "evalue": "ignored",
          "output_type": "error",
          "traceback": [
            "\u001b[0;36m  File \u001b[0;32m\"<ipython-input-11-78ecfc665459>\"\u001b[0;36m, line \u001b[0;32m2\u001b[0m\n\u001b[0;31m    for second in range(3,0,-1)\u001b[0m\n\u001b[0m                               ^\u001b[0m\n\u001b[0;31mSyntaxError\u001b[0m\u001b[0;31m:\u001b[0m invalid syntax\n"
          ]
        }
      ],
      "source": [
        "from time import sleep\n",
        "for second in range(3,0,-1)\n",
        "print(second)\n",
        "sleep(-1)\n",
        "print('go!')\n"
      ]
    },
    {
      "cell_type": "code",
      "execution_count": null,
      "metadata": {
        "colab": {
          "base_uri": "https://localhost:8080/"
        },
        "id": "GKRn8oFAGcNq",
        "outputId": "f9561b3c-6902-464b-a2b7-763a64803307"
      },
      "outputs": [
        {
          "name": "stdout",
          "output_type": "stream",
          "text": [
            "Krutika Gadge\n",
            "Jay\n",
            "\n",
            "Krutika Gadge\n",
            "Jay\n",
            "\n"
          ]
        }
      ],
      "source": [
        "#open and read the file\n",
        "my_file=open(\"python.txt\",\"r\")\n",
        "print(my_file.read())\n",
        "my_file=open(\"python.txt\",\"w\")\n",
        "print('Krutika','Gadge',file=my_file)\n",
        "print('Jay',file=my_file)\n",
        "#print the contents of the file\n",
        "my_file=open(\"python.txt\",\"r\")\n",
        "print(my_file.read())"
      ]
    },
    {
      "cell_type": "code",
      "execution_count": null,
      "metadata": {
        "colab": {
          "base_uri": "https://localhost:8080/"
        },
        "id": "0LYVdGRyN0gg",
        "outputId": "8903fba7-d384-4cfd-f6e2-6b9eb0291f09"
      },
      "outputs": [
        {
          "name": "stdout",
          "output_type": "stream",
          "text": [
            "The two values are9 and5\n",
            "The two values are5 and9\n"
          ]
        }
      ],
      "source": [
        "x=5\n",
        "y=9\n",
        "print(\"The two values are{1} and{0}\".format(x,y))\n",
        "print(f'The two values are{x} and{y}')"
      ]
    },
    {
      "cell_type": "code",
      "execution_count": null,
      "metadata": {
        "colab": {
          "base_uri": "https://localhost:8080/"
        },
        "id": "QXs2LR2BStQW",
        "outputId": "b707a5db-5688-48ec-e08f-d50cffd05f30"
      },
      "outputs": [
        {
          "name": "stdout",
          "output_type": "stream",
          "text": [
            "Enter a charecter:u\n",
            "Vowel\n"
          ]
        }
      ],
      "source": [
        "x=5\n",
        "x+=5\n",
        "x*5\n",
        "8<<2\n",
        "letter=input('Enter a charecter:')\n",
        "print('Vowel') if letter in 'aeiou' else print('not vowel')"
      ]
    },
    {
      "cell_type": "code",
      "execution_count": null,
      "metadata": {
        "colab": {
          "base_uri": "https://localhost:8080/"
        },
        "id": "Snydz4koV6ZT",
        "outputId": "9989dd5f-70b4-4424-c126-14e6699d4e05"
      },
      "outputs": [
        {
          "name": "stdout",
          "output_type": "stream",
          "text": [
            "Enter 1St number:3\n",
            "Enter 2St number:2\n",
            "3\n"
          ]
        }
      ],
      "source": [
        "#Ternary Operater in Python:[on true] if(exp) else[on false]\n",
        "a=int(input(\"Enter 1St number:\"))\n",
        "b=int(input(\"Enter 2St number:\"))\n",
        "min=a if(a>b) else b\n",
        "print(min)\n"
      ]
    },
    {
      "cell_type": "code",
      "execution_count": null,
      "metadata": {
        "id": "z68PXDMvX8xR"
      },
      "outputs": [],
      "source": []
    },
    {
      "cell_type": "markdown",
      "metadata": {
        "id": "anrC-DemX9Hp"
      },
      "source": [
        "Wap to check whether the person sitting beside is in your friend list for not if not add"
      ]
    },
    {
      "cell_type": "code",
      "execution_count": null,
      "metadata": {
        "colab": {
          "base_uri": "https://localhost:8080/"
        },
        "id": "gr1uHojBYIjH",
        "outputId": "06146d27-e92f-412d-aa0f-fc022fe39568"
      },
      "outputs": [
        {
          "name": "stdout",
          "output_type": "stream",
          "text": [
            "['AMOL', 'ANUSHREE', 'DOREMON', 'SINCHAN', 'jay']\n"
          ]
        }
      ],
      "source": [
        "'jay' in  list1\n",
        "list1.insert(5,'jay');print(list1)"
      ]
    },
    {
      "cell_type": "code",
      "execution_count": null,
      "metadata": {
        "id": "ZOOZZB5J7xh0"
      },
      "outputs": [],
      "source": []
    },
    {
      "cell_type": "markdown",
      "metadata": {
        "id": "THs3sVZF3Eg4"
      },
      "source": [
        "# CONTROL STRUCTURES"
      ]
    },
    {
      "cell_type": "code",
      "execution_count": null,
      "metadata": {
        "colab": {
          "base_uri": "https://localhost:8080/"
        },
        "id": "7AM2agRw1PgX",
        "outputId": "28884997-e55b-4810-b899-647615c36128"
      },
      "outputs": [
        {
          "name": "stdout",
          "output_type": "stream",
          "text": [
            "49\n",
            "8\n"
          ]
        }
      ],
      "source": [
        "if 1>5:\n",
        "  print('7 is greater')\n",
        "print(7*7)\n",
        "print(3+5)\n",
        "\n"
      ]
    },
    {
      "cell_type": "code",
      "execution_count": null,
      "metadata": {
        "colab": {
          "base_uri": "https://localhost:8080/"
        },
        "id": "LGJ-kbkd3bEj",
        "outputId": "705fbcce-943d-4632-fd5a-60afa6efe879"
      },
      "outputs": [
        {
          "name": "stdout",
          "output_type": "stream",
          "text": [
            "Enter no 1: 2\n",
            "Enter no 2: 3\n",
            "Enter no 3: 4\n",
            "Largest is 4\n"
          ]
        }
      ],
      "source": [
        "x=int(input(\"Enter no 1: \"))\n",
        "y=int(input(\"Enter no 2: \"))\n",
        "z=int(input(\"Enter no 3: \"))\n",
        "l=x\n",
        "if(l<y):\n",
        "  l=y\n",
        "if l<z:\n",
        "  l=z\n",
        "print(f\"Largest is {l}\")\n",
        "\n"
      ]
    },
    {
      "cell_type": "code",
      "execution_count": null,
      "metadata": {
        "colab": {
          "background_save": true
        },
        "id": "U1BOP6Ywj-xl",
        "outputId": "1074eeaa-e34f-4d32-b05f-c8a7fa1b7283"
      },
      "outputs": [
        {
          "name": "stdout",
          "output_type": "stream",
          "text": [
            "The GCD of 56 and 32 is: 8\n"
          ]
        }
      ],
      "source": [
        "def find_gcd(a, b):\n",
        "    while b != 0:\n",
        "        a, b = b, a % b\n",
        "    return a\n",
        "\n",
        "# Example usage\n",
        "num1 = 24\n",
        "num2 = 36\n",
        "result = find_gcd(num1, num2)\n",
        "print(\"The GCD of\", num1, \"and\", num2, \"is:\", result)\n"
      ]
    },
    {
      "cell_type": "code",
      "execution_count": null,
      "metadata": {
        "colab": {
          "base_uri": "https://localhost:8080/"
        },
        "id": "xkoLxb5D6BUm",
        "outputId": "67e06cc7-f8ec-4923-ebd2-230ab3d0eb91"
      },
      "outputs": [
        {
          "name": "stdout",
          "output_type": "stream",
          "text": [
            "Enter no  to be searched67\n",
            "Element found\n",
            "SIT\n"
          ]
        }
      ],
      "source": [
        "##if.....else\n",
        "list2=[32,34,67,87,77]\n",
        "x=int(input(\"Enter no  to be searched\"))\n",
        "if x in list2:\n",
        "  print(\"Element found\")\n",
        "else:\n",
        "   print(\"Element found\")\n",
        "print(\"SIT\")"
      ]
    },
    {
      "cell_type": "markdown",
      "metadata": {
        "id": "92DTLvJ1-8wZ"
      },
      "source": [
        "WAP to check wether the no is greater than ,less than or equal to 45"
      ]
    },
    {
      "cell_type": "code",
      "execution_count": null,
      "metadata": {
        "colab": {
          "base_uri": "https://localhost:8080/"
        },
        "id": "ONqT5JMs_LE5",
        "outputId": "68ed675c-dc0a-4994-87c5-7b99362d7b6a"
      },
      "outputs": [
        {
          "name": "stdout",
          "output_type": "stream",
          "text": [
            "Enter no 1: 33\n",
            "smaller than 45\n"
          ]
        }
      ],
      "source": [
        "##if......elif......else\n",
        "x=int(input(\"Enter no 1: \"))\n",
        "if(x>45):\n",
        "  print(\"greater than 45\")\n",
        "elif (x<45):\n",
        "   print(\"smaller than 45\")\n",
        "else:\n",
        "  print('x=30')\n",
        "\n",
        "\n"
      ]
    },
    {
      "cell_type": "code",
      "execution_count": null,
      "metadata": {
        "colab": {
          "base_uri": "https://localhost:8080/"
        },
        "id": "MI4TlTeGAccr",
        "outputId": "8221dacd-ab14-4fad-c1ac-a59126a8de04"
      },
      "outputs": [
        {
          "name": "stdout",
          "output_type": "stream",
          "text": [
            "0\n",
            "1\n",
            "2\n",
            "3\n",
            "4\n",
            "5\n",
            "6\n",
            "7\n",
            "8\n",
            "9\n"
          ]
        }
      ],
      "source": [
        "#for using range\n",
        "for i in range(10):\n",
        "  print(i)"
      ]
    },
    {
      "cell_type": "code",
      "execution_count": null,
      "metadata": {
        "colab": {
          "base_uri": "https://localhost:8080/"
        },
        "id": "PNMS0cjGCKBU",
        "outputId": "663edb35-597e-4ced-ae08-183d236ae1e8"
      },
      "outputs": [
        {
          "name": "stdout",
          "output_type": "stream",
          "text": [
            "1 Krutika\n",
            "2 Krutika\n",
            "3 Krutika\n",
            "4 Krutika\n",
            "5 Krutika\n",
            "6 Krutika\n",
            "7 Krutika\n",
            "8 Krutika\n",
            "9 Krutika\n",
            "10 Krutika\n",
            "11 Krutika\n",
            "12 Krutika\n",
            "13 Krutika\n",
            "14 Krutika\n",
            "15 Krutika\n",
            "16 Krutika\n",
            "17 Krutika\n",
            "18 Krutika\n",
            "19 Krutika\n",
            "20 Krutika\n",
            "21 Krutika\n",
            "22 Krutika\n",
            "23 Krutika\n",
            "24 Krutika\n",
            "25 Krutika\n",
            "26 Krutika\n",
            "27 Krutika\n",
            "28 Krutika\n",
            "29 Krutika\n",
            "30 Krutika\n",
            "31 Krutika\n",
            "32 Krutika\n",
            "33 Krutika\n",
            "34 Krutika\n",
            "35 Krutika\n",
            "36 Krutika\n",
            "37 Krutika\n",
            "38 Krutika\n",
            "39 Krutika\n",
            "40 Krutika\n",
            "41 Krutika\n",
            "42 Krutika\n",
            "43 Krutika\n",
            "44 Krutika\n",
            "45 Krutika\n",
            "46 Krutika\n",
            "47 Krutika\n",
            "48 Krutika\n",
            "49 Krutika\n",
            "50 Krutika\n",
            "51 Krutika\n",
            "52 Krutika\n",
            "53 Krutika\n",
            "54 Krutika\n",
            "55 Krutika\n",
            "56 Krutika\n",
            "57 Krutika\n",
            "58 Krutika\n",
            "59 Krutika\n",
            "60 Krutika\n",
            "61 Krutika\n",
            "62 Krutika\n",
            "63 Krutika\n",
            "64 Krutika\n",
            "65 Krutika\n",
            "66 Krutika\n",
            "67 Krutika\n",
            "68 Krutika\n",
            "69 Krutika\n",
            "70 Krutika\n",
            "71 Krutika\n",
            "72 Krutika\n",
            "73 Krutika\n",
            "74 Krutika\n",
            "75 Krutika\n",
            "76 Krutika\n",
            "77 Krutika\n",
            "78 Krutika\n",
            "79 Krutika\n",
            "80 Krutika\n",
            "81 Krutika\n",
            "82 Krutika\n",
            "83 Krutika\n",
            "84 Krutika\n",
            "85 Krutika\n",
            "86 Krutika\n",
            "87 Krutika\n",
            "88 Krutika\n",
            "89 Krutika\n",
            "90 Krutika\n",
            "91 Krutika\n",
            "92 Krutika\n",
            "93 Krutika\n",
            "94 Krutika\n",
            "95 Krutika\n",
            "96 Krutika\n",
            "97 Krutika\n",
            "98 Krutika\n",
            "99 Krutika\n",
            "100 Krutika\n"
          ]
        }
      ],
      "source": [
        "for i in range(100):\n",
        "  print(i+1,'Krutika')"
      ]
    },
    {
      "cell_type": "markdown",
      "metadata": {
        "id": "KTivm0geCvGA"
      },
      "source": [
        "WAP tp print all even no upto 20"
      ]
    },
    {
      "cell_type": "code",
      "execution_count": null,
      "metadata": {
        "colab": {
          "base_uri": "https://localhost:8080/"
        },
        "id": "gcklJ3YrCuWo",
        "outputId": "c3caa35f-596f-46b1-cddc-d7ddb09de656"
      },
      "outputs": [
        {
          "name": "stdout",
          "output_type": "stream",
          "text": [
            "1 0\n",
            "3 2\n",
            "5 4\n",
            "7 6\n",
            "9 8\n",
            "11 10\n",
            "13 12\n",
            "15 14\n",
            "17 16\n",
            "19 18\n"
          ]
        }
      ],
      "source": [
        "for i in range(0,20,2):\n",
        "      print(i+1,i)\n"
      ]
    },
    {
      "cell_type": "markdown",
      "metadata": {
        "id": "1j0S8c_OEt9C"
      },
      "source": [
        "WAP to print name of each friend in the list along with length of their name"
      ]
    },
    {
      "cell_type": "code",
      "execution_count": null,
      "metadata": {
        "colab": {
          "base_uri": "https://localhost:8080/"
        },
        "id": "f2TsnNWQFGW4",
        "outputId": "dd2f2fa4-a7a4-47d7-936e-c1e9badf2686"
      },
      "outputs": [
        {
          "name": "stdout",
          "output_type": "stream",
          "text": [
            "AMOL 4\n",
            "ANUSHREE 8\n",
            "DOREMON 7\n",
            "SINCHAN 7\n",
            "jay 3\n"
          ]
        }
      ],
      "source": [
        "for i in list1:\n",
        "  print(i,len(i))"
      ]
    },
    {
      "cell_type": "code",
      "execution_count": null,
      "metadata": {
        "colab": {
          "base_uri": "https://localhost:8080/"
        },
        "id": "SzJa9KG-H_9c",
        "outputId": "e24401de-c073-4db3-91c4-e7eee9ad4209"
      },
      "outputs": [
        {
          "name": "stdout",
          "output_type": "stream",
          "text": [
            "give a number456788\n",
            "the sum of digit of 0 is 38\n"
          ]
        }
      ],
      "source": [
        "#While\n",
        "num=int(input('give a number'))\n",
        "num1,sum=sum,0\n",
        "while num!=0:\n",
        "  sum+=num%10\n",
        "  num//=10\n",
        "print(f\"the sum of digit of {num} is {sum}\")\n",
        "\n",
        "\n",
        "\n",
        "\n"
      ]
    },
    {
      "cell_type": "markdown",
      "metadata": {
        "id": "Dk1XPwO4I4N6"
      },
      "source": [
        "WAP to check wether no is amstromg number or not"
      ]
    },
    {
      "cell_type": "code",
      "execution_count": null,
      "metadata": {
        "id": "3dDzM4NfI3LC"
      },
      "outputs": [],
      "source": [
        "num=int(input('give a number'))\n"
      ]
    },
    {
      "cell_type": "code",
      "execution_count": null,
      "metadata": {
        "id": "nyw7B06RGEvx"
      },
      "outputs": [],
      "source": [
        "#Assignment 5a\n",
        "# Create a list of 5 friends\n",
        "friends_list = ['Poornima', 'Sucheti', 'Kritika', 'Ishwari', 'Mansee']\n",
        "\n",
        "# Prompt the user to enter a friend's name\n",
        "name = input(\"Enter your friend's name: \")\n",
        "\n",
        "# Check if the name is already in the friends list\n",
        "if name in friends_list:\n",
        "    print(\"Your friend\", name, \"is already in the list.\")\n",
        "else:\n",
        "    # If the name is not in the list, add it\n",
        "    friends_list.append(name)\n",
        "    print(\"Your friend\", name, \"has been added to the list.\")\n",
        "\n",
        "# Print the updated friends list\n",
        "print(\"Updated friends list:\", friends_list)"
      ]
    },
    {
      "cell_type": "code",
      "execution_count": null,
      "metadata": {
        "colab": {
          "base_uri": "https://localhost:8080/"
        },
        "id": "77hcDtJoGKNM",
        "outputId": "d5496bd1-e54a-44b6-feab-2c5f52258cc0"
      },
      "outputs": [
        {
          "name": "stdout",
          "output_type": "stream",
          "text": [
            "Enter a string: \"the quick brown fox jumps over the lazy dog\"\n",
            "{'\"the': 1, 'quick': 1, 'brown': 1, 'fox': 1, 'jumps': 1, 'over': 1, 'the': 1, 'lazy': 1, 'dog\"': 1}\n"
          ]
        }
      ],
      "source": [
        "#Assignment 6A\n",
        "string_input = input(\"Enter a string: \")\n",
        "words = string_input.lower().split()\n",
        "word_count = {}\n",
        "for word in words:\n",
        "    if word in word_count:\n",
        "        word_count[word] += 1\n",
        "    else:\n",
        "        word_count[word] = 1\n",
        "\n",
        "print(word_count)"
      ]
    },
    {
      "cell_type": "code",
      "execution_count": null,
      "metadata": {
        "id": "niG3mXVxVyku"
      },
      "outputs": [],
      "source": [
        "#6b\n",
        "a=(2,3,4,5,6,6,6)\n",
        "element = int(input(\"Enter element: \"))\n",
        "freq = a.count(element)\n",
        "print(freq)"
      ]
    },
    {
      "cell_type": "code",
      "execution_count": null,
      "metadata": {
        "colab": {
          "base_uri": "https://localhost:8080/"
        },
        "id": "Qjt95p9pBqGp",
        "outputId": "b7404ca6-dc37-4895-c72a-01b1f0b77240"
      },
      "outputs": [
        {
          "name": "stdout",
          "output_type": "stream",
          "text": [
            "enter a number:5\n",
            "5 Is prime number\n"
          ]
        }
      ],
      "source": [
        "#Checking Prime Number\n",
        "num=int(input(\"enter a number:\"))\n",
        "for i in range(2,num):\n",
        "  if num%i==0:\n",
        "    print(\"{} Is not prime number\".format(num))\n",
        "    break\n",
        "else:\n",
        "  print(\"{} Is prime number\".format(num))"
      ]
    },
    {
      "cell_type": "code",
      "execution_count": null,
      "metadata": {
        "colab": {
          "base_uri": "https://localhost:8080/"
        },
        "id": "lNrgpUgfG0vq",
        "outputId": "fde54290-958e-40e8-c784-1090a006bff6"
      },
      "outputs": [
        {
          "name": "stdout",
          "output_type": "stream",
          "text": [
            "1 Before\n",
            "1 After\n",
            "2 Before\n",
            "2 After\n",
            "3 Before\n",
            "3 After\n",
            "4 Before\n",
            "4 After\n",
            "4 After loop\n"
          ]
        }
      ],
      "source": [
        "for i in range(1,5):\n",
        "  print(i,\"Before\")\n",
        "  #break\n",
        "  pass\n",
        " #continue\n",
        "  print(i,\"After\")\n",
        "print(i,\"After loop\")\n"
      ]
    },
    {
      "cell_type": "code",
      "execution_count": null,
      "metadata": {
        "colab": {
          "base_uri": "https://localhost:8080/",
          "height": 132
        },
        "id": "T7-NPLHvNHEw",
        "outputId": "be1c967a-eac4-4388-d800-c01417c73c38"
      },
      "outputs": [
        {
          "ename": "SyntaxError",
          "evalue": "ignored",
          "output_type": "error",
          "traceback": [
            "\u001b[0;36m  File \u001b[0;32m\"<ipython-input-14-0bcd0e8a4728>\"\u001b[0;36m, line \u001b[0;32m3\u001b[0m\n\u001b[0;31m    match col:\u001b[0m\n\u001b[0m          ^\u001b[0m\n\u001b[0;31mSyntaxError\u001b[0m\u001b[0;31m:\u001b[0m invalid syntax\n"
          ]
        }
      ],
      "source": [
        "col=input(\"enter any color(r/b/g\")\n",
        "print('Color is :',end=\"\")\n",
        "match col:\n",
        "  case 'r':\n",
        "    print('RED')\n",
        "  case 'g':\n",
        "    print(\"GREEN\")\n",
        "  case 'b':\n",
        "    print(\"BLUE\")\n",
        "  case _ :\n",
        "      print(\"INPUT SYNTAX\")"
      ]
    },
    {
      "cell_type": "code",
      "execution_count": null,
      "metadata": {
        "colab": {
          "base_uri": "https://localhost:8080/",
          "height": 305
        },
        "id": "u_bEn6KJR2Os",
        "outputId": "c738cc97-ff54-4125-ad1a-c8d7f5399556"
      },
      "outputs": [
        {
          "ename": "TypeError",
          "evalue": "ignored",
          "output_type": "error",
          "traceback": [
            "\u001b[0;31m---------------------------------------------------------------------------\u001b[0m",
            "\u001b[0;31mTypeError\u001b[0m                                 Traceback (most recent call last)",
            "\u001b[0;32m<ipython-input-18-40baf4e6c0f7>\u001b[0m in \u001b[0;36m<cell line: 2>\u001b[0;34m()\u001b[0m\n\u001b[1;32m      1\u001b[0m \u001b[0;32mimport\u001b[0m \u001b[0mrandom\u001b[0m\u001b[0;34m\u001b[0m\u001b[0;34m\u001b[0m\u001b[0m\n\u001b[0;32m----> 2\u001b[0;31m \u001b[0mrandom\u001b[0m\u001b[0;34m.\u001b[0m\u001b[0mrandint\u001b[0m\u001b[0;34m(\u001b[0m\u001b[0;34m\"stone\"\u001b[0m\u001b[0;34m,\u001b[0m\u001b[0;34m'paper'\u001b[0m\u001b[0;34m)\u001b[0m\u001b[0;34m\u001b[0m\u001b[0;34m\u001b[0m\u001b[0m\n\u001b[0m",
            "\u001b[0;32m/usr/lib/python3.9/random.py\u001b[0m in \u001b[0;36mrandint\u001b[0;34m(self, a, b)\u001b[0m\n\u001b[1;32m    336\u001b[0m         \"\"\"\n\u001b[1;32m    337\u001b[0m \u001b[0;34m\u001b[0m\u001b[0m\n\u001b[0;32m--> 338\u001b[0;31m         \u001b[0;32mreturn\u001b[0m \u001b[0mself\u001b[0m\u001b[0;34m.\u001b[0m\u001b[0mrandrange\u001b[0m\u001b[0;34m(\u001b[0m\u001b[0ma\u001b[0m\u001b[0;34m,\u001b[0m \u001b[0mb\u001b[0m\u001b[0;34m+\u001b[0m\u001b[0;36m1\u001b[0m\u001b[0;34m)\u001b[0m\u001b[0;34m\u001b[0m\u001b[0;34m\u001b[0m\u001b[0m\n\u001b[0m\u001b[1;32m    339\u001b[0m \u001b[0;34m\u001b[0m\u001b[0m\n\u001b[1;32m    340\u001b[0m \u001b[0;34m\u001b[0m\u001b[0m\n",
            "\u001b[0;31mTypeError\u001b[0m: can only concatenate str (not \"int\") to str"
          ]
        }
      ],
      "source": [
        "import random\n",
        "list\n",
        "random.randint()"
      ]
    },
    {
      "cell_type": "code",
      "execution_count": null,
      "metadata": {
        "colab": {
          "base_uri": "https://localhost:8080/"
        },
        "id": "II4w7mkjTWPW",
        "outputId": "343fbc44-6b41-4c62-be42-71654a0818bc"
      },
      "outputs": [
        {
          "name": "stdout",
          "output_type": "stream",
          "text": [
            "enter a number:-4\n",
            "negative\n"
          ]
        }
      ],
      "source": [
        "#WAP to check wether the number entered by the user is positive negative or zero\n",
        "a=int(input(\"enter a number:\"))\n",
        "if a>0:\n",
        "  print(\"positive\")\n",
        "elif a<0:\n",
        "  print(\"negative\")\n",
        "else:\n",
        "  print(\"zero\")"
      ]
    },
    {
      "cell_type": "markdown",
      "metadata": {
        "id": "HD28K8_-3NGa"
      },
      "source": [
        "# FUNCTIONS"
      ]
    },
    {
      "cell_type": "code",
      "execution_count": null,
      "metadata": {
        "colab": {
          "base_uri": "https://localhost:8080/"
        },
        "id": "Ci-TYT8D3ROi",
        "outputId": "4f82d781-965b-40dd-9191-cae8f5fcb4e8"
      },
      "outputs": [
        {
          "name": "stdout",
          "output_type": "stream",
          "text": [
            "8\n"
          ]
        }
      ],
      "source": [
        "#addition\n",
        "def my_add(x,y):   #name space\n",
        "  return x+y\n",
        "\n",
        "sum=my_add(3,5)   #main\n",
        "print(sum)\n"
      ]
    },
    {
      "cell_type": "code",
      "execution_count": null,
      "metadata": {
        "colab": {
          "base_uri": "https://localhost:8080/"
        },
        "id": "Z8aywsMZ3zYG",
        "outputId": "305f3641-174d-4641-9697-0ce4e3e2328e"
      },
      "outputs": [
        {
          "data": {
            "text/plain": [
              "(9, 27)"
            ]
          },
          "execution_count": 3,
          "metadata": {},
          "output_type": "execute_result"
        }
      ],
      "source": [
        "#return multiples values\n",
        "def power(a):\n",
        "  return a**2,a**3\n",
        "\n",
        "power(3)"
      ]
    },
    {
      "cell_type": "code",
      "execution_count": null,
      "metadata": {
        "colab": {
          "base_uri": "https://localhost:8080/"
        },
        "id": "K2pmINUQ6N5Y",
        "outputId": "bd0a6ab7-f8b9-4113-c6d4-fb060e93fa80"
      },
      "outputs": [
        {
          "name": "stdout",
          "output_type": "stream",
          "text": [
            "Enter your marks:56\n",
            "C\n",
            "grade:None\n",
            "B\n"
          ]
        }
      ],
      "source": [
        "def grade(marks):\n",
        "  \"\"\"Compute Grade of Students\"\"\"\n",
        "  if marks>90:\n",
        "    print(\"A\")\n",
        "  elif marks>70:\n",
        "    print(\"B\")\n",
        "  elif marks>50:\n",
        "    print(\"C\")\n",
        "  else:\n",
        "    print(\"D\")\n",
        "\n",
        "marks= int(input(\"Enter your marks:\"))\n",
        "print(f\"grade:{grade(marks)}\")\n",
        "\n",
        "grade(90)\n",
        "\n",
        "\n",
        "\n"
      ]
    },
    {
      "cell_type": "code",
      "execution_count": null,
      "metadata": {
        "colab": {
          "base_uri": "https://localhost:8080/",
          "height": 35
        },
        "id": "nRJF6upk9HMj",
        "outputId": "8bc6cf72-e48c-49f6-ff8c-e2f6ac5a18be"
      },
      "outputs": [
        {
          "data": {
            "application/vnd.google.colaboratory.intrinsic+json": {
              "type": "string"
            },
            "text/plain": [
              "'Compute Grade of Students'"
            ]
          },
          "execution_count": 11,
          "metadata": {},
          "output_type": "execute_result"
        }
      ],
      "source": [
        "#help(grade)\n",
        "grade.__doc__"
      ]
    },
    {
      "cell_type": "markdown",
      "metadata": {
        "id": "8KLexmNc9Rai"
      },
      "source": [
        "WAP to fnd sum of digits of a number using function"
      ]
    },
    {
      "cell_type": "code",
      "execution_count": null,
      "metadata": {
        "colab": {
          "base_uri": "https://localhost:8080/"
        },
        "id": "nIHl8XEl9fCa",
        "outputId": "bd4a7d7e-9bae-4abc-910a-566b35ae1376"
      },
      "outputs": [
        {
          "name": "stdout",
          "output_type": "stream",
          "text": [
            "6\n"
          ]
        }
      ],
      "source": [
        "def digitsum(num):\n",
        "  sum=0\n",
        "  while(num!=0):\n",
        "    sum=sum+num%10\n",
        "    num=num//10\n",
        "  return print(sum)\n",
        "\n",
        "digitsum(123)\n"
      ]
    },
    {
      "cell_type": "code",
      "execution_count": null,
      "metadata": {
        "colab": {
          "base_uri": "https://localhost:8080/"
        },
        "id": "f8QSxJPf_zZ_",
        "outputId": "38ea30af-1053-4123-b380-bac682508a16"
      },
      "outputs": [
        {
          "name": "stdout",
          "output_type": "stream",
          "text": [
            "Enter a number5\n",
            "0\n",
            "1\n",
            "1\n",
            "2\n",
            "3\n"
          ]
        }
      ],
      "source": [
        "def fibb(num):\n",
        "  sum=0\n",
        "  n1,n2=0,1\n",
        "  while num>sum:\n",
        "    print(sum)\n",
        "    n1=n2\n",
        "    n2=sum\n",
        "    sum=n1+n2\n",
        "num=int(input(\"Enter a number\"))\n",
        "fibb(num)\n"
      ]
    },
    {
      "cell_type": "code",
      "execution_count": null,
      "metadata": {
        "id": "2alQCNPKg9nL"
      },
      "outputs": [],
      "source": [
        "def fibbo(n):\n",
        "  n1=0\n",
        "  n2=1\n",
        "  temp=0\n",
        "  sum=0\n",
        "  print(n1)\n",
        "  print(n2)\n",
        "  while n>0:\n",
        "    t\n"
      ]
    },
    {
      "cell_type": "code",
      "execution_count": null,
      "metadata": {
        "colab": {
          "base_uri": "https://localhost:8080/"
        },
        "id": "aGz038T1GDuQ",
        "outputId": "abb4cd47-661e-4dac-845f-b56312902c18"
      },
      "outputs": [
        {
          "name": "stdout",
          "output_type": "stream",
          "text": [
            "SIT\n",
            "(10, 'SIT', 12.34)\n"
          ]
        }
      ],
      "source": [
        "def PRINTNAME():\n",
        "  print(\"SIT\")\n",
        "  return 10,'SIT',12.34\n",
        "print(PRINTNAME())\n"
      ]
    },
    {
      "cell_type": "code",
      "execution_count": null,
      "metadata": {
        "colab": {
          "base_uri": "https://localhost:8080/"
        },
        "id": "D2gontm9HfMX",
        "outputId": "c6a72511-4844-4100-b6bc-b16cf9e8c9d5"
      },
      "outputs": [
        {
          "name": "stdout",
          "output_type": "stream",
          "text": [
            "321\n"
          ]
        }
      ],
      "source": [
        "def rev(p):\n",
        "  x=0\n",
        "  while p!=0:\n",
        "    x=x*10+p%10\n",
        "    p=p//10\n",
        "  print(x)\n",
        "rev(123)\n"
      ]
    },
    {
      "cell_type": "code",
      "execution_count": null,
      "metadata": {
        "colab": {
          "base_uri": "https://localhost:8080/"
        },
        "id": "QqsI62_hIjyJ",
        "outputId": "97fab9c8-3fba-4602-ed09-91cf4c9dc724"
      },
      "outputs": [
        {
          "name": "stdout",
          "output_type": "stream",
          "text": [
            "3\n",
            "2\n",
            "1\n"
          ]
        }
      ],
      "source": [
        "def rev(p):\n",
        "  x=0\n",
        "  while p!=0:\n",
        "    x=p%10\n",
        "    print(x)\n",
        "    p=p//10\n",
        "\n",
        "rev(123)\n"
      ]
    },
    {
      "cell_type": "markdown",
      "metadata": {
        "id": "JT9aRajsK3no"
      },
      "source": [
        "WAP write a user defined function that prints the count of vowels present in name entered by the user"
      ]
    },
    {
      "cell_type": "code",
      "execution_count": null,
      "metadata": {
        "id": "2QMIUDGvLMVP"
      },
      "outputs": [],
      "source": [
        "name=input(\"Enter name:\")\n",
        "\n",
        "n=len(name)\n",
        "def vowels(count):\n",
        "  Count=0\n",
        "  for i in range(0,n):\n",
        "    if (name[i]=='a' or name[i]=='e' or name[i] ==\"i\" or name[i] =='o' or name[i] =='u'):\n",
        "      count+=1\n",
        "      return count\n",
        "\n",
        "#name=input(\"Enter name:\")\n",
        "vowel=vowels(name)"
      ]
    },
    {
      "cell_type": "code",
      "execution_count": null,
      "metadata": {
        "colab": {
          "base_uri": "https://localhost:8080/"
        },
        "id": "zg_ql-CbnII0",
        "outputId": "311938a3-f4f8-4788-ca84-f07527978890"
      },
      "outputs": [
        {
          "data": {
            "text/plain": [
              "3"
            ]
          },
          "execution_count": 3,
          "metadata": {},
          "output_type": "execute_result"
        }
      ],
      "source": [
        "def vowels(name):\n",
        "  count=0\n",
        "  vow=\"aeiouAEIOU\"\n",
        "  for i in name:\n",
        "    if i in vow:\n",
        "      count+=1\n",
        "  return count\n",
        "name=\"Krutika\"\n",
        "vowels(name)\n"
      ]
    },
    {
      "cell_type": "code",
      "execution_count": null,
      "metadata": {
        "colab": {
          "background_save": true,
          "base_uri": "https://localhost:8080/"
        },
        "id": "tHwWya4ussIV",
        "outputId": "0c86a5da-ed1b-4d63-86b2-98d25fdda9ce"
      },
      "outputs": [
        {
          "name": "stdout",
          "output_type": "stream",
          "text": [
            "You select paper.\n",
            "The computer select rock.\n",
            "You win!\n"
          ]
        }
      ],
      "source": [
        "import random\n",
        "\n",
        "game_choices = [\"rock\", \"paper\", \"scissors\"]\n",
        "computer_choice = random.choice(game_choices)\n",
        "\n",
        "player_choice = input(\" rock, paper, or scissors: \").lower()\n",
        "\n",
        "if player_choice not in choices:\n",
        "    print(\"Invalid choice!\")\n",
        "else:\n",
        "    print(f\"You chose {player_choice}.\")\n",
        "    print(f\"The computer chose {computer_choice}.\")\n",
        "\n",
        "    if player_choice == computer_choice:\n",
        "        print(\"It's a tie!\")\n",
        "    elif player_choice == \"rock\" and computer_choice == \"scissors\":\n",
        "        print(\"You win!\")\n",
        "    elif player_choice == \"paper\" and computer_choice == \"rock\":\n",
        "        print(\"You win!\")\n",
        "    elif player_choice == \"scissors\" and computer_choice == \"paper\":\n",
        "        print(\"You win!\")\n",
        "    else:\n",
        "        print(\"You lose!\")"
      ]
    },
    {
      "cell_type": "code",
      "execution_count": null,
      "metadata": {
        "colab": {
          "base_uri": "https://localhost:8080/"
        },
        "id": "OPzWgO-qFu1L",
        "outputId": "97bb2684-fdd3-4dea-bbb9-bb2278aa7a4a"
      },
      "outputs": [
        {
          "name": "stdout",
          "output_type": "stream",
          "text": [
            "Inside function y is :5 & id:140169779984816\n",
            "Outside function x is :5 & id:140169779984816\n"
          ]
        }
      ],
      "source": [
        "def f(x):\n",
        "  y=5\n",
        "  print(f\"Inside function y is :{y} & id:{id(y)}\")\n",
        "\n",
        "x=5\n",
        "f(x)\n",
        "print(f\"Outside function x is :{x} & id:{id(x)}\")"
      ]
    },
    {
      "cell_type": "code",
      "execution_count": null,
      "metadata": {
        "colab": {
          "base_uri": "https://localhost:8080/"
        },
        "id": "fE3eMr_uFu6M",
        "outputId": "b181d49f-e3ef-4a93-cd51-091b365b0daa"
      },
      "outputs": [
        {
          "name": "stdout",
          "output_type": "stream",
          "text": [
            "x is ['Nagpur', 'Pune', 'Mumbai', 'Nashik'] & id:140168514309888\n",
            "city_list is ['Nagpur', 'Pune', 'Mumbai', 'Nashik'] & id:140168726455552\n"
          ]
        }
      ],
      "source": [
        "x=['Nagpur','Pune','Mumbai','Nashik']\n",
        "print(f'x is {x} & id:{id(x)}')\n",
        "\n",
        "city_list=['Nagpur','Pune','Mumbai','Nashik']\n",
        "print(f'city_list is {city_list} & id:{id(city_list)}')"
      ]
    },
    {
      "cell_type": "code",
      "execution_count": null,
      "metadata": {
        "id": "MtNNMKqxRKXP"
      },
      "outputs": [],
      "source": [
        "def f(x):\n",
        "  x=['Nagpur','Pune','Mumbai','Nashik']\n",
        "  print(f'x is {x} & id:{id(x)}')\n",
        "\n",
        "city_list=['Nagpur','Pune','Mumbai','Nashik']\n",
        "print(f'city_list is {city_list} & id:{id(city_list)}')\n",
        "f(city_list)\n",
        "print\n"
      ]
    },
    {
      "cell_type": "markdown",
      "metadata": {
        "id": "tdIgbw-IShy6"
      },
      "source": [
        "WAP to check whether the number enterd by the user is amstrong or not"
      ]
    },
    {
      "cell_type": "code",
      "execution_count": null,
      "metadata": {
        "colab": {
          "base_uri": "https://localhost:8080/"
        },
        "id": "XNTrZpKlSyNa",
        "outputId": "83c7183b-f429-45f8-8abc-80cbd9e15a01"
      },
      "outputs": [
        {
          "name": "stdout",
          "output_type": "stream",
          "text": [
            "enter number456\n"
          ]
        },
        {
          "data": {
            "text/plain": [
              "3"
            ]
          },
          "execution_count": 17,
          "metadata": {},
          "output_type": "execute_result"
        }
      ],
      "source": [
        "def count(n):\n",
        "  c=0\n",
        "  while(n!=0):\n",
        "    n//=10\n",
        "    c+=1\n",
        "  return c\n",
        "n=int(input(\"enter number\"))\n",
        "count(n)\n",
        "\n"
      ]
    },
    {
      "cell_type": "code",
      "execution_count": null,
      "metadata": {
        "colab": {
          "base_uri": "https://localhost:8080/"
        },
        "id": "6K_l-IuhWE7u",
        "outputId": "2f806bc5-eb9d-4929-f7b0-419f45a29886"
      },
      "outputs": [
        {
          "name": "stdout",
          "output_type": "stream",
          "text": [
            "Enter a number:153\n",
            "amstrong number\n"
          ]
        }
      ],
      "source": [
        "'''def count(num):\n",
        "  c=0\n",
        "  while(num!=0):\n",
        "    num//=10\n",
        "    c+=1\n",
        "  return c\n",
        "#n=int(input(\"enter number\"))\n",
        "count(num)'''\n",
        "\n",
        "def amstrong(num):\n",
        "  #count(num)\n",
        "  sum=0\n",
        "  temp=num\n",
        "  while temp>0:\n",
        "    digit = temp%10\n",
        "    sum+=digit**count(num)\n",
        "    temp//=10\n",
        "  #return sum\n",
        "  if num==sum:\n",
        "    print(\"amstrong number\")\n",
        "  else:\n",
        "    print('not')\n",
        "\n",
        "\n",
        "\n",
        "num=int(input(\"Enter a number:\"))\n",
        "amstrong(num)\n"
      ]
    },
    {
      "cell_type": "code",
      "execution_count": null,
      "metadata": {
        "id": "nTvsbizjck3o"
      },
      "outputs": [],
      "source": [
        "'''def count(num):\n",
        "  c=0\n",
        "  while(num!=0):\n",
        "    num//=10\n",
        "    c+=1\n",
        "  return c\n",
        "#n=int(input(\"enter number\"))\n",
        "count(num)'''\n",
        "\n",
        "def amstrong(num):\n",
        "  #count(num)\n",
        "  sum=0\n",
        "  temp=num\n",
        "  while temp>0:\n",
        "    digit = temp%10\n",
        "    sum+=digit**count(num)\n",
        "    temp//=10\n",
        "  #return sum\n",
        "  if num==sum:\n",
        "    print(\"amstrong number\")\n",
        "  else:\n",
        "    print('not')\n",
        "\n",
        "\n",
        "\n",
        "num=int(input(\"Enter a number:\"))\n",
        "amstrong(num)\n"
      ]
    },
    {
      "cell_type": "markdown",
      "metadata": {
        "id": "yYsRgzpodl1F"
      },
      "source": [
        "WAP that accepts the list and position to be insterted from the user.\n",
        "Print the updated list using fumction"
      ]
    },
    {
      "cell_type": "code",
      "execution_count": null,
      "metadata": {
        "colab": {
          "base_uri": "https://localhost:8080/"
        },
        "id": "dRBAuhVqS0xM",
        "outputId": "d19a142a-6e34-4814-efd4-973f9e8e0628"
      },
      "outputs": [
        {
          "name": "stdout",
          "output_type": "stream",
          "text": [
            "Enter the list size 3\n",
            "Enter number at index 0\n",
            "4\n",
            "Enter number at index 1\n",
            "4\n",
            "Enter number at index 2\n",
            "3\n",
            "User list is  [4, 4, 3]\n"
          ]
        }
      ],
      "source": [
        "list_0 = []\n",
        "n = int(input(\"Enter the list size \"))\n",
        "\n",
        "for i in range(0, n):\n",
        "    print(\"Enter number at index\", i, )\n",
        "    item = int(input())\n",
        "    list_0.append(item)\n",
        "print(\"User list is \",list_04)"
      ]
    },
    {
      "cell_type": "code",
      "execution_count": null,
      "metadata": {
        "colab": {
          "background_save": true,
          "base_uri": "https://localhost:8080/",
          "height": 132
        },
        "id": "FmdkCaXmdlID",
        "outputId": "cd2974e7-541e-449b-dbbf-6d7ee78c9b82"
      },
      "outputs": [
        {
          "ename": "SyntaxError",
          "evalue": "ignored",
          "output_type": "error",
          "traceback": [
            "\u001b[0;36m  File \u001b[0;32m\"<ipython-input-1-e76f9379c1c4>\"\u001b[0;36m, line \u001b[0;32m12\u001b[0m\n\u001b[0;31m    print(f\"outside function list is:{num_list} {id(num_list)}\"\u001b[0m\n\u001b[0m                                                               ^\u001b[0m\n\u001b[0;31mSyntaxError\u001b[0m\u001b[0;31m:\u001b[0m incomplete input\n"
          ]
        }
      ],
      "source": [
        "#using function\n",
        "def f(x):\n",
        "  x.insert(0,5)\n",
        "  x.insert(2,15)\n",
        "  x.insert(4,25)\n",
        "  x.insert(6,35)\n",
        "  print(f\"update list is:{x} {id(x)}\")\n",
        "\n",
        "num_list=[10,20,30,60,50]\n",
        "print(f\"original list is: {num_list}\")\n",
        "f(num_list)\n",
        "print(f\"outside function list is:{num_list} {id(num_list)}\"\n"
      ]
    },
    {
      "cell_type": "code",
      "execution_count": null,
      "metadata": {
        "colab": {
          "base_uri": "https://localhost:8080/",
          "height": 323
        },
        "id": "qxlWrVd1TzbO",
        "outputId": "13883975-08c6-4977-a33f-9482eb406e79"
      },
      "outputs": [
        {
          "name": "stdout",
          "output_type": "stream",
          "text": [
            "Enter the list size 2\n",
            "Enter number at index 0\n",
            "2\n",
            "Enter number at index 1\n",
            "\n"
          ]
        },
        {
          "ename": "ValueError",
          "evalue": "ignored",
          "output_type": "error",
          "traceback": [
            "\u001b[0;31m---------------------------------------------------------------------------\u001b[0m",
            "\u001b[0;31mValueError\u001b[0m                                Traceback (most recent call last)",
            "\u001b[0;32m<ipython-input-4-a847f87476a3>\u001b[0m in \u001b[0;36m<cell line: 12>\u001b[0;34m()\u001b[0m\n\u001b[1;32m     12\u001b[0m \u001b[0;32mfor\u001b[0m \u001b[0mi\u001b[0m \u001b[0;32min\u001b[0m \u001b[0mrange\u001b[0m\u001b[0;34m(\u001b[0m\u001b[0;36m0\u001b[0m\u001b[0;34m,\u001b[0m \u001b[0mn\u001b[0m\u001b[0;34m)\u001b[0m\u001b[0;34m:\u001b[0m\u001b[0;34m\u001b[0m\u001b[0;34m\u001b[0m\u001b[0m\n\u001b[1;32m     13\u001b[0m     \u001b[0mprint\u001b[0m\u001b[0;34m(\u001b[0m\u001b[0;34m\"Enter number at index\"\u001b[0m\u001b[0;34m,\u001b[0m \u001b[0mi\u001b[0m\u001b[0;34m,\u001b[0m \u001b[0;34m)\u001b[0m\u001b[0;34m\u001b[0m\u001b[0;34m\u001b[0m\u001b[0m\n\u001b[0;32m---> 14\u001b[0;31m     \u001b[0mitem\u001b[0m \u001b[0;34m=\u001b[0m \u001b[0mint\u001b[0m\u001b[0;34m(\u001b[0m\u001b[0minput\u001b[0m\u001b[0;34m(\u001b[0m\u001b[0;34m)\u001b[0m\u001b[0;34m)\u001b[0m\u001b[0;34m\u001b[0m\u001b[0;34m\u001b[0m\u001b[0m\n\u001b[0m\u001b[1;32m     15\u001b[0m     \u001b[0mlist_0\u001b[0m\u001b[0;34m.\u001b[0m\u001b[0mappend\u001b[0m\u001b[0;34m(\u001b[0m\u001b[0mitem\u001b[0m\u001b[0;34m)\u001b[0m\u001b[0;34m\u001b[0m\u001b[0;34m\u001b[0m\u001b[0m\n\u001b[1;32m     16\u001b[0m \u001b[0mprint\u001b[0m\u001b[0;34m(\u001b[0m\u001b[0;34m\"User list is \"\u001b[0m\u001b[0;34m,\u001b[0m\u001b[0mlist_04\u001b[0m\u001b[0;34m)\u001b[0m\u001b[0;34m\u001b[0m\u001b[0;34m\u001b[0m\u001b[0m\n",
            "\u001b[0;31mValueError\u001b[0m: invalid literal for int() with base 10: ''"
          ]
        }
      ],
      "source": [
        "#1using function\n",
        "def f(x):\n",
        "  x.insert(0,5)\n",
        "  x.insert(1,15)\n",
        "  x.insert(3,25)\n",
        "  x.insert(3,35)\n",
        "  print(f\"update list is:{x} {id(x)}\")\n",
        "\n",
        "num_list=[]\n",
        "n = int(input(\"Enter the list size \"))\n",
        "\n",
        "for i in range(0, n):\n",
        "    print(\"Enter number at index\", i, )\n",
        "    item = int(input())\n",
        "    list_0.append(item)\n",
        "print(\"User list is \",list_04)\n",
        "\n",
        "f(num_list)\n",
        "\n"
      ]
    },
    {
      "cell_type": "code",
      "execution_count": null,
      "metadata": {
        "colab": {
          "base_uri": "https://localhost:8080/"
        },
        "id": "2GSjS2UtHrFk",
        "outputId": "277957eb-fca3-46c9-df88-83bfdb692662"
      },
      "outputs": [
        {
          "name": "stdout",
          "output_type": "stream",
          "text": [
            "Enter a integer346575\n",
            "6\n"
          ]
        }
      ],
      "source": [
        "a=int(input(\"Enter a integer\"))\n",
        "count=0\n",
        "while a!=0:\n",
        "  a//=10\n",
        "  count+=1\n",
        "print(count)\n",
        "\n"
      ]
    },
    {
      "cell_type": "code",
      "execution_count": null,
      "metadata": {
        "colab": {
          "base_uri": "https://localhost:8080/"
        },
        "id": "dPVKdvy4LS9L",
        "outputId": "eb16d8b7-1ff9-4bad-a35a-da62331813bb"
      },
      "outputs": [
        {
          "name": "stdout",
          "output_type": "stream",
          "text": [
            "4\n",
            "firstdigit: 1\n",
            "last digit: 4\n",
            "After swapping 4\n",
            "After swapping 1\n",
            "1234\n"
          ]
        }
      ],
      "source": [
        "a=str(1234)\n",
        "b=len(a)\n",
        "print(b)\n",
        "y=a[0]\n",
        "firstdigit=(print(\"firstdigit:\",y))\n",
        "x=int(a)%10\n",
        "lastdigit=print(\"last digit:\",x)\n",
        "\n",
        "#swapping\n",
        "temp=0\n",
        "temp=y\n",
        "y=x\n",
        "x=temp\n",
        "print(\"After swapping\",y)\n",
        "print(\"After swapping\",x)\n",
        "print(a)\n",
        "\n",
        "\n"
      ]
    },
    {
      "cell_type": "code",
      "execution_count": null,
      "metadata": {
        "colab": {
          "base_uri": "https://localhost:8080/"
        },
        "id": "hMnm4JTnPR1_",
        "outputId": "e30e4ac3-31cf-4b96-d7be-35a025766444"
      },
      "outputs": [
        {
          "name": "stdout",
          "output_type": "stream",
          "text": [
            "Reversed Number:  14641\n",
            "It is palindrome number\n"
          ]
        }
      ],
      "source": [
        "num = 14641\n",
        "reversed_num = 0\n",
        "temp=num\n",
        "\n",
        "while temp != 0:\n",
        "    digit = temp % 10\n",
        "    reversed_num = reversed_num * 10 + digit\n",
        "    temp //= 10\n",
        "\n",
        "print(\"Reversed Number: \" , (reversed_num))\n",
        "\n",
        "if reversed_num == num:\n",
        "  print(\"It is palindrome number\")\n",
        "else:\n",
        "  print(\"Not a palindrome number\")\n"
      ]
    },
    {
      "cell_type": "code",
      "execution_count": null,
      "metadata": {
        "colab": {
          "base_uri": "https://localhost:8080/"
        },
        "id": "vcx4HfnuLTCl",
        "outputId": "47c6692b-a7a3-450f-9d34-77f463ffa178"
      },
      "outputs": [
        {
          "name": "stdout",
          "output_type": "stream",
          "text": [
            "0b100\n",
            "4\n"
          ]
        }
      ],
      "source": [
        "a=4\n",
        "print(bin(a))\n",
        "\n",
        "print(int(0b100))"
      ]
    },
    {
      "cell_type": "code",
      "execution_count": null,
      "metadata": {
        "colab": {
          "base_uri": "https://localhost:8080/"
        },
        "id": "1c7Y52anHpJ3",
        "outputId": "c36b6831-ec4e-40c3-8fb7-93ddb7ac11d9"
      },
      "outputs": [
        {
          "name": "stdout",
          "output_type": "stream",
          "text": [
            "enter 1st number3\n",
            "enter 2st number2\n",
            "6\n"
          ]
        }
      ],
      "source": [
        "a=int(input(\"enter 1st number\"))\n",
        "b=int(input(\"enter 2st number\"))\n",
        "z=a*b+1\n",
        "if a>b:\n",
        "  greater=a\n",
        "else:\n",
        "  greater=b\n",
        "\n",
        "while greater in range(1,z):\n",
        "  if(greater%a==0) and (greater%b==0):\n",
        "    lcm=greater\n",
        "    break\n",
        "  greater+=1\n",
        "print(lcm)\n",
        "\n",
        "\n",
        "\n",
        "\n"
      ]
    },
    {
      "cell_type": "code",
      "execution_count": null,
      "metadata": {
        "id": "yOC7Vj2Chbsp"
      },
      "outputs": [],
      "source": [
        "def compute_lcm(x, y):\n",
        "\n",
        "   # choose the greater number\n",
        "   if x > y:\n",
        "       greater = x\n",
        "   else:\n",
        "       greater = y\n",
        "\n",
        "   while(True):\n",
        "       if((greater % x == 0) and (greater % y == 0)):\n",
        "           lcm = greater\n",
        "           break\n",
        "       greater += 1\n",
        "\n",
        "   return lcm\n",
        "\n",
        "num1 = 54\n",
        "num2 = 24\n",
        "\n",
        "print(\"The L.C.M. is\", compute_lcm(num1, num2))"
      ]
    },
    {
      "cell_type": "markdown",
      "metadata": {
        "id": "dmel79GXMypK"
      },
      "source": [
        "# FUNCTIONS"
      ]
    },
    {
      "cell_type": "code",
      "execution_count": null,
      "metadata": {
        "id": "LwNHE5l6Xaop"
      },
      "outputs": [],
      "source": []
    },
    {
      "cell_type": "code",
      "execution_count": null,
      "metadata": {
        "colab": {
          "base_uri": "https://localhost:8080/"
        },
        "id": "UHEryVeLhevI",
        "outputId": "c3ddb709-e078-467a-c5e1-482f1cf74e82"
      },
      "outputs": [
        {
          "name": "stdout",
          "output_type": "stream",
          "text": [
            "1\n",
            "None\n",
            "1\n",
            "False\n"
          ]
        }
      ],
      "source": [
        "def f():\n",
        "  print(1)\n",
        "  pass\n",
        "print(f())\n",
        "print(\"True\") if f() else print(\"False\")\n"
      ]
    },
    {
      "cell_type": "code",
      "execution_count": null,
      "metadata": {
        "colab": {
          "base_uri": "https://localhost:8080/"
        },
        "id": "KMK-y9M_LuSp",
        "outputId": "81ea1195-6daf-4caf-e199-1c50a68fb1a6"
      },
      "outputs": [
        {
          "name": "stdout",
          "output_type": "stream",
          "text": [
            "The pow(4) is 16\n",
            "The pow(5,3) is 125\n",
            "The pow(5) is 25\n"
          ]
        }
      ],
      "source": [
        "def pow(x,y=2):\n",
        "  return x**y\n",
        "print(f\"The pow(4) is {pow(4)}\")\n",
        "print(f\"The pow(5,3) is {pow(5,3)}\")\n",
        "print(f\"The pow(5) is {pow(5)}\")"
      ]
    },
    {
      "cell_type": "code",
      "execution_count": null,
      "metadata": {
        "colab": {
          "base_uri": "https://localhost:8080/"
        },
        "id": "-cwJTWxxO2ek",
        "outputId": "2e58303e-e3c2-4133-e0cb-da2665a4ecd8"
      },
      "outputs": [
        {
          "name": "stdout",
          "output_type": "stream",
          "text": [
            "Super pow(2) is 16\n",
            "Super pow(2,3) is 64\n",
            "Super pow(2,3,3) is 512\n"
          ]
        }
      ],
      "source": [
        "def sup_pow(x,y=2,z=2):\n",
        "  return (x**y)**z\n",
        "\n",
        "print(f\"Super pow(2) is {sup_pow(2)}\")\n",
        "print(f\"Super pow(2,3) is {sup_pow(2,3)}\")\n",
        "print(f\"Super pow(2,3,3) is {sup_pow(2,3,3)}\")"
      ]
    },
    {
      "cell_type": "code",
      "execution_count": null,
      "metadata": {
        "colab": {
          "base_uri": "https://localhost:8080/",
          "height": 70
        },
        "id": "-u7huDH4JyLA",
        "outputId": "86cfa3be-f7af-425f-a261-8e3abde99f87"
      },
      "outputs": [
        {
          "name": "stdout",
          "output_type": "stream",
          "text": [
            "dhfhji\n",
            "{'Name': 'dhfhji'}\n"
          ]
        },
        {
          "data": {
            "application/vnd.google.colaboratory.intrinsic+json": {
              "type": "string"
            },
            "text/plain": [
              "'dhfhji'"
            ]
          },
          "execution_count": 7,
          "metadata": {},
          "output_type": "execute_result"
        }
      ],
      "source": [
        "#input in dictonary\n",
        "a = input()\n",
        "dict1={'Name':a}\n",
        "print(dict1)\n",
        "dict1['Name']"
      ]
    },
    {
      "cell_type": "code",
      "execution_count": null,
      "metadata": {
        "colab": {
          "base_uri": "https://localhost:8080/"
        },
        "id": "YW6r2d_tQMZC",
        "outputId": "eb3d4553-1b4b-4a1d-ec68-327b49976adb"
      },
      "outputs": [
        {
          "name": "stdout",
          "output_type": "stream",
          "text": [
            " THe argument outside before function is 5 \n",
            "The argument is 5\n",
            "The argument is 6\n",
            "The argument is 5\n",
            " THe argument outside after function is 7 \n"
          ]
        }
      ],
      "source": [
        "i=5\n",
        "print(f\" THe argument outside before function is {i} \")\n",
        "def f(arg1=i):\n",
        "  print(f\"The argument is {arg1}\")\n",
        "\n",
        "i=7\n",
        "f()\n",
        "f(6)\n",
        "f()\n",
        "print(f\" THe argument outside after function is {i} \")\n"
      ]
    },
    {
      "cell_type": "code",
      "execution_count": null,
      "metadata": {
        "colab": {
          "base_uri": "https://localhost:8080/"
        },
        "id": "e2qRlqPmMI5X",
        "outputId": "76448911-adca-4c63-8629-5a34d7760896"
      },
      "outputs": [
        {
          "data": {
            "text/plain": [
              "50.0"
            ]
          },
          "execution_count": 8,
          "metadata": {},
          "output_type": "execute_result"
        }
      ],
      "source": [
        "def amt(qty, price, discount=0):\n",
        "  t = qty*price\n",
        "  return (t-(t*(discount/100)))\n",
        "#amt(6, discount=10, price=5)\n",
        "#amt(6,price=5) #30\n",
        "#amt(6,5,10)\n",
        "#amt()\n",
        "#amt(discount=10, price=5,6)\n",
        "#amt(qty=6,5,discount=10)\n",
        "amt(10,price=5)\n",
        "#amt(6,dis=10,price=5)\n",
        "#amt(price=5,qty=6)\n"
      ]
    },
    {
      "cell_type": "markdown",
      "metadata": {
        "id": "hkVGpUAkTZuv"
      },
      "source": [
        "WAP to show use of default argument my writing a function to find factorial of a number"
      ]
    },
    {
      "cell_type": "code",
      "execution_count": null,
      "metadata": {
        "colab": {
          "base_uri": "https://localhost:8080/"
        },
        "id": "cnEziIEKSf1p",
        "outputId": "f1d916c8-c6c8-4acf-ee8e-f57c7ec1915c"
      },
      "outputs": [
        {
          "name": "stdout",
          "output_type": "stream",
          "text": [
            "enter no:3\n",
            "Factorial with argument 6\n",
            "Factorial without argument 120\n"
          ]
        }
      ],
      "source": [
        "def fact(n=5):\n",
        "  factorial=1\n",
        "  x=n+1``\n",
        "  for i in range(1 , x):\n",
        "    factorial=factorial*i\n",
        "  return factorial\n",
        "\n",
        "\n",
        "\n",
        "a=int(input(\"enter no:\"))\n",
        "print(f\"Factorial with argument {fact(a)}\")\n",
        "print(f\"Factorial without argument {fact()}\")\n",
        "\n"
      ]
    },
    {
      "cell_type": "code",
      "execution_count": null,
      "metadata": {
        "colab": {
          "base_uri": "https://localhost:8080/"
        },
        "id": "KyML97ibbPW_",
        "outputId": "587162ea-900c-4167-ed82-ba395b3f1e92"
      },
      "outputs": [
        {
          "name": "stdout",
          "output_type": "stream",
          "text": [
            "5\n",
            "55\n",
            "555\n",
            "5555\n"
          ]
        }
      ],
      "source": [
        "def pattern(n='5'):\n",
        "\n",
        "\n",
        "  for i in range(0 , 4):\n",
        "    b=n+n*i\n",
        "    print(b)\n",
        "\n",
        "\n",
        "\n",
        "pattern()"
      ]
    },
    {
      "cell_type": "code",
      "execution_count": null,
      "metadata": {
        "colab": {
          "base_uri": "https://localhost:8080/"
        },
        "id": "-lMcomV9eu3B",
        "outputId": "81d97143-c0b6-4a21-9bbb-7b5fa150dad5"
      },
      "outputs": [
        {
          "name": "stdout",
          "output_type": "stream",
          "text": [
            "139759986872000:[1]\n",
            "139759986872000:[1, 2]\n",
            "139759986872000:[1, 2, 3]\n"
          ]
        }
      ],
      "source": [
        "def f(a,L=[]):\n",
        "  L.append(a)\n",
        "  print(id(L),end=':')\n",
        "  return L\n",
        "\n",
        "print(f(1))\n",
        "print(f(2))\n",
        "print(f(3))\n",
        "\n"
      ]
    },
    {
      "cell_type": "code",
      "execution_count": null,
      "metadata": {
        "id": "5EnTxPEdfd9x"
      },
      "outputs": [],
      "source": [
        "def f(L)"
      ]
    },
    {
      "cell_type": "markdown",
      "metadata": {
        "id": "P7OsrqcxAncf"
      },
      "source": [
        "WAP that stores age,college and branch of a female student and mobile,semester and branch of male student .Use concept of tuple,dictonary and control flow statements to fetch these details based on the entered by the user.\n",
        "\n",
        "```\n",
        "# This is formatted as code\n",
        "```\n",
        "\n"
      ]
    },
    {
      "cell_type": "code",
      "execution_count": null,
      "metadata": {
        "colab": {
          "base_uri": "https://localhost:8080/"
        },
        "id": "fVHM43KuBTM1",
        "outputId": "400642d1-688a-4b32-d91d-381b7078bab7"
      },
      "outputs": [
        {
          "name": "stdout",
          "output_type": "stream",
          "text": [
            "Enter namekrutika\n",
            "Enter GENDER (F/M)F\n",
            "{'age': 20, 'college': 'SIT', 'branch': 'CSE'}\n"
          ]
        }
      ],
      "source": [
        "name=input(\"Enter name\")\n",
        "gender=input(\"Enter GENDER (F/M)\")\n",
        "girls={}\n",
        "boys={}\n",
        "if gender=='F':\n",
        "  girls['age']=20\n",
        "  girls['college']='SIT'\n",
        "  girls['branch']=\"CSE\"\n",
        "  print(girls)\n",
        "else:\n",
        "  boys['mobile no']=20345\n",
        "  boys['semester']='2'\n",
        "  boys['branch']=\"CSE\"\n",
        "  print(boys)"
      ]
    },
    {
      "cell_type": "code",
      "execution_count": null,
      "metadata": {
        "colab": {
          "base_uri": "https://localhost:8080/"
        },
        "id": "_oXDJWPXJART",
        "outputId": "d445cb7d-ab52-4877-e28f-0af0f7688878"
      },
      "outputs": [
        {
          "name": "stdout",
          "output_type": "stream",
          "text": [
            "Enter name: Jay\n",
            "Mobile: 9776542 \n",
            " Semester: 2 \n",
            " Branch: Computer Science\n"
          ]
        }
      ],
      "source": [
        "girls_stu = {\n",
        "    'Krutika': ('19','SIT','Computer Science'),\n",
        "    'Kritika' : ('19','SIT','Computer Science'),\n",
        "    'Sucheti' : ('19','SIT','Computer Science')\n",
        "\n",
        "}\n",
        "\n",
        "boys_stu = {\n",
        "    'Jay' : ('9776542','2','Computer Science'),\n",
        "    'Abhishek' : ('75345245','2','Computer Science'),\n",
        "    'Shreyash' : ('56545354','2','Computer Science')\n",
        "\n",
        "}\n",
        "\n",
        "def data(name):\n",
        "  if name in girls_stu:\n",
        "    age, college, branch = girls_stu[name]\n",
        "    print(f'Name: {name} \\nAge: {age} \\nCollege: {college} \\nBranch: {branch}')\n",
        "  elif name in boys_stu:\n",
        "    mobile, semester, branch = boys_stu[name]\n",
        "    print(f'Mobile: {mobile} \\n Semester: {semester} \\n Branch: {branch}')\n",
        "  else:\n",
        "    print('Name not found')\n",
        "\n",
        "name=input(\"Enter name: \")\n",
        "data(name)\n"
      ]
    },
    {
      "cell_type": "code",
      "execution_count": null,
      "metadata": {
        "colab": {
          "base_uri": "https://localhost:8080/"
        },
        "id": "cRcBCWr-PH3B",
        "outputId": "45ac8951-0bed-476f-ac39-41c9dc1b428f"
      },
      "outputs": [
        {
          "name": "stdout",
          "output_type": "stream",
          "text": [
            "Enter name: Jay\n"
          ]
        }
      ],
      "source": [
        "\n",
        "\n",
        "'''def data(name):\n",
        "  if name in girls_stu:\n",
        "    age, college, branch = girls_stu[name]\n",
        "    print(f'Name: {name} \\nAge: {age} \\nCollege: {college} \\nBranch: {branch}')\n",
        "  elif name in boys_stu:\n",
        "    mobile, semester, branch = boys_stu[name]\n",
        "    print(f'Mobile: {mobile} \\n Semester: {semester} \\n Branch: {branch}')\n",
        "  else:\n",
        "    print('Name not found')'''\n",
        "while name!=0:\n",
        "\n",
        "  name=input(\"Enter name: \")\n",
        "  gender=input(\"Enter GENDER (F/M)\")\n",
        "  girls={}\n",
        "  boys={}\n",
        "  if gender=='F':\n",
        "    girls['age']=int(input(\"Enter age: \"))\n",
        "    girls['college']=(input(\"Enter college: \"))\n",
        "    girls['branch']=(input(\"Enter Branch: \"))\n",
        "    print(girls)\n",
        "  else:\n",
        "    boys['mobile no']=int(input(\"Enter mobile no: \"))\n",
        "    boys['semester']=(input(\"Enter smeester: \"))\n",
        "    boys['branch']=(input(\"Enter branch: \"))\n",
        "    print(boys)\n",
        "\n",
        "\n",
        "\n",
        "\n",
        "\n",
        "\n",
        "\n"
      ]
    },
    {
      "cell_type": "code",
      "execution_count": null,
      "metadata": {
        "id": "DC7GOuJI0Ut7"
      },
      "outputs": [],
      "source": []
    },
    {
      "cell_type": "code",
      "execution_count": null,
      "metadata": {
        "colab": {
          "base_uri": "https://localhost:8080/",
          "height": 132
        },
        "id": "oA708ef8qwNJ",
        "outputId": "5721cee2-525e-411c-d2f4-970aff279ba2"
      },
      "outputs": [
        {
          "ename": "IndentationError",
          "evalue": "ignored",
          "output_type": "error",
          "traceback": [
            "\u001b[0;36m  File \u001b[0;32m\"<ipython-input-2-02ec190fa6dd>\"\u001b[0;36m, line \u001b[0;32m4\u001b[0m\n\u001b[0;31m    break\u001b[0m\n\u001b[0m    ^\u001b[0m\n\u001b[0;31mIndentationError\u001b[0m\u001b[0;31m:\u001b[0m unexpected indent\n"
          ]
        }
      ],
      "source": [
        "while name!=0:\n",
        "  name=input(\"Enter name:\")\n",
        "  break\n",
        "  gender=input(\"Enter GENDER (F/M)\")\n",
        "  girls={}\n",
        "  boys={}\n",
        "  if gender=='F':\n",
        "    girls['age']=int(input(\"Enter age: \"))\n",
        "    girls['college']=(input(\"Enter college: \"))\n",
        "    girls['branch']=(input(\"Enter Branch: \"))\n",
        "    print(girls)\n",
        "  else:\n",
        "    boys['mobile no']=int(input(\"Enter mobile no: \"))\n",
        "    boys['semester']=(input(\"Enter smeester: \"))\n",
        "    boys['branch']=(input(\"Enter branch: \"))\n",
        "    print(boys)\n"
      ]
    },
    {
      "cell_type": "code",
      "execution_count": null,
      "metadata": {
        "colab": {
          "base_uri": "https://localhost:8080/"
        },
        "id": "x1CWDBSOX00n",
        "outputId": "98c01429-063f-432e-9037-bf98505f31b1"
      },
      "outputs": [
        {
          "name": "stdout",
          "output_type": "stream",
          "text": [
            "140384037119296:[1]\n",
            "140384030722304:[2]\n",
            "140383972653056:[3]\n"
          ]
        }
      ],
      "source": [
        "def f1(a,L=None):\n",
        "  if L is None:\n",
        "    L=[]\n",
        "  L.append(a)\n",
        "  print(id(L),end=\":\")\n",
        "  return L\n",
        "\n",
        "print(f1(1,None))\n",
        "print(f1(2))\n",
        "print(f1(3))"
      ]
    },
    {
      "cell_type": "code",
      "execution_count": null,
      "metadata": {
        "colab": {
          "base_uri": "https://localhost:8080/"
        },
        "id": "EdtoRdpO0WaV",
        "outputId": "aec55ff9-42c4-45a6-8d99-67870b6da60b"
      },
      "outputs": [
        {
          "name": "stdout",
          "output_type": "stream",
          "text": [
            "College Name: SIT\n",
            "Name of Student: Krutika\n",
            "Passing Year: 2026\n"
          ]
        }
      ],
      "source": [
        "def student(college,name,pass_year=2026):\n",
        "  print(\"College Name:\",college)\n",
        "  print(\"Name of Student:\",name)\n",
        "  print(\"Passing Year:\",pass_year)\n",
        "\n",
        "student(name=\"Krutika\",college=\"SIT\")\n"
      ]
    },
    {
      "cell_type": "markdown",
      "metadata": {
        "id": "AaDm-euHeBSd"
      },
      "source": [
        "\n",
        "# KEYWORD ARGUMENTS\n",
        "*   Keyword arguments are the values that whwn passed to a function are identifiable by specific parameters names.\n",
        "*   Keyword arguments is preceded by a parameter and the argument operater(=),\n",
        "*   It is similar to dictionary that maps a value to keyword.\n",
        "\n",
        "\n",
        "\n",
        "\n",
        "\n",
        "\n",
        "\n"
      ]
    },
    {
      "cell_type": "code",
      "execution_count": null,
      "metadata": {
        "id": "bi_SKrVXdeqU"
      },
      "outputs": [],
      "source": [
        "def amt(qty,price,discount=0):\n",
        "  t=qty*price\n",
        "  return(t-(t(discount/100)))\n",
        "\n"
      ]
    },
    {
      "cell_type": "code",
      "execution_count": null,
      "metadata": {
        "colab": {
          "base_uri": "https://localhost:8080/"
        },
        "id": "r5_26-ouH8Gw",
        "outputId": "aba5e9ed-fd4c-4da4-dbb9-33a61eba7f96"
      },
      "outputs": [
        {
          "name": "stdout",
          "output_type": "stream",
          "text": [
            "colleg_namebranchstudents('colleg_name', 'branch', 'students')\n"
          ]
        }
      ],
      "source": [
        "#tuple in function\n",
        "#arbitary constant\n",
        "def fun(*arg_list):\n",
        "  for arg in arg_list:\n",
        "    print(arg,end=\"\")\n",
        "  print(arg_list)\n",
        "\n",
        "fun(\"colleg_name\",\"branch\",\"students\")\n"
      ]
    },
    {
      "cell_type": "code",
      "execution_count": null,
      "metadata": {
        "colab": {
          "base_uri": "https://localhost:8080/"
        },
        "id": "dlN0pPBRIAG9",
        "outputId": "3a467e24-9c3d-4ef9-fe84-ff28345d50a2"
      },
      "outputs": [
        {
          "name": "stdout",
          "output_type": "stream",
          "text": [
            "SIT\n",
            "{'streetno': 1, 'city': 'Nagpur', 'pincode': 1234}\n"
          ]
        }
      ],
      "source": [
        "def college(name,**data):\n",
        "  print(name)\n",
        "  print(data)\n",
        "\n",
        "college(\"SIT\",streetno=1,city=\"Nagpur\",pincode=1234)"
      ]
    },
    {
      "cell_type": "code",
      "execution_count": null,
      "metadata": {
        "colab": {
          "base_uri": "https://localhost:8080/"
        },
        "id": "3NjB5JhafvfQ",
        "outputId": "29010fdc-8cb7-4aab-8807-559190854aef"
      },
      "outputs": [
        {
          "name": "stdout",
          "output_type": "stream",
          "text": [
            "enter elements2 3 kru\n",
            "('2', '3', 'kru')\n"
          ]
        }
      ],
      "source": [
        "list1=tuple(input(\"enter elements\").split())\n",
        "print(list1)"
      ]
    },
    {
      "cell_type": "markdown",
      "metadata": {
        "id": "FY3UTKGvLK5Q"
      },
      "source": [
        "# LAMBDA FUNCTION\n",
        "\n",
        "\n",
        "*   A lambda function is a small anonymous\n",
        "*   List item\n",
        "\n"
      ]
    },
    {
      "cell_type": "code",
      "execution_count": null,
      "metadata": {
        "colab": {
          "base_uri": "https://localhost:8080/"
        },
        "id": "YEbfFTUKNGKO",
        "outputId": "edd0a697-198c-4ef0-8369-d03999e89b83"
      },
      "outputs": [
        {
          "name": "stdout",
          "output_type": "stream",
          "text": [
            "17\n",
            "<function <lambda> at 0x7f706d2f6700>\n"
          ]
        }
      ],
      "source": [
        "x=lambda a,b,c:a+b*c\n",
        "print(x(5,6,2))\n",
        "print(x)"
      ]
    },
    {
      "cell_type": "code",
      "execution_count": null,
      "metadata": {
        "colab": {
          "base_uri": "https://localhost:8080/"
        },
        "id": "XEnFwoSIP569",
        "outputId": "fe2beb21-80aa-408b-e0f4-a046c740cc69"
      },
      "outputs": [
        {
          "name": "stdout",
          "output_type": "stream",
          "text": [
            "2.5\n"
          ]
        }
      ],
      "source": [
        "#line of code can be reduced by lambda function\n",
        "#saves ram memory\n",
        "# convient for smaller problems\n",
        "def average(x,y):\n",
        "  return(x+y)/2\n",
        "\n",
        "print(average(2,3))\n"
      ]
    },
    {
      "cell_type": "code",
      "execution_count": null,
      "metadata": {
        "colab": {
          "base_uri": "https://localhost:8080/"
        },
        "id": "RmqdwTWpQYQ3",
        "outputId": "9015624c-3524-44a5-81b7-f9d398cebe99"
      },
      "outputs": [
        {
          "name": "stdout",
          "output_type": "stream",
          "text": [
            "3.5\n"
          ]
        }
      ],
      "source": [
        "print((lambda x,y:(x+y)/2)(4,3))\n"
      ]
    },
    {
      "cell_type": "code",
      "execution_count": null,
      "metadata": {
        "colab": {
          "base_uri": "https://localhost:8080/"
        },
        "id": "qRTUloF6RTmb",
        "outputId": "754dbe60-97ce-4216-861a-b917f336cfb1"
      },
      "outputs": [
        {
          "name": "stdout",
          "output_type": "stream",
          "text": [
            "3.5\n"
          ]
        }
      ],
      "source": [
        "z=(lambda x,y:(x+y)/2)(4,3)\n",
        "print(z)"
      ]
    },
    {
      "cell_type": "markdown",
      "metadata": {
        "id": "F8SUfLaiUnlD"
      },
      "source": [
        "Python lambda expressions support all the different ways of passing arguments\n",
        "\n",
        "\n",
        "*   Positional arguments\n",
        "*   Named arguments(somestimes called as keyword arguments)\n",
        "\n",
        "\n",
        "*   Variable List of arguments(often refered to as varargs)\n",
        "*  variable list of keyword argument\n",
        "\n",
        "\n",
        "*   Keyword only arguments\n",
        "\n",
        "\n",
        "\n",
        "\n",
        "\n"
      ]
    },
    {
      "cell_type": "code",
      "execution_count": null,
      "metadata": {
        "colab": {
          "base_uri": "https://localhost:8080/"
        },
        "id": "NGJrPw9OU2NE",
        "outputId": "4782dbea-bbe0-4edf-d68a-1e1db7f29c98"
      },
      "outputs": [
        {
          "name": "stdout",
          "output_type": "stream",
          "text": [
            "6\n",
            "6\n",
            "6\n",
            "6\n",
            "6\n",
            "6\n"
          ]
        }
      ],
      "source": [
        "print((lambda x,y,z:x+y+z)(1,2,3))\n",
        "print((lambda x,y,z=3:x+y+z)(1,2))\n",
        "print((lambda x,y,z=3:x+y+z)(1,y=2))\n",
        "print((lambda *args:sum(args))(1,2,3))\n",
        "print((lambda **kwarg:sum(kwarg.values()))(one=1,two=2,three=3))\n",
        "print((lambda x,y=0,z=0:x+y+z)(1,y=2,z=3))"
      ]
    },
    {
      "cell_type": "markdown",
      "metadata": {
        "id": "zThdKVM_bn5f"
      },
      "source": [
        "# Filter Method\n",
        "-The filter() method filters the given sequences with the help of a function that test each element in the sequence to be true or not\n",
        "-Syntax:filter(function,sequence)\n",
        "-Parameters:function that tests if each element of a sequence true or not\n",
        "-Sequence:Sequence which needs to be filtered ,"
      ]
    },
    {
      "cell_type": "code",
      "execution_count": null,
      "metadata": {
        "colab": {
          "background_save": true,
          "base_uri": "https://localhost:8080/"
        },
        "id": "ajxW1YkNbt1y",
        "outputId": "748fed67-7ae5-421c-ba29-af9938ddd98f"
      },
      "outputs": [
        {
          "name": "stdout",
          "output_type": "stream",
          "text": [
            "[[8, 9, 'Ishu'], [10, 10, 'Sucheti'], [9, 9, 'Kri']]\n"
          ]
        }
      ],
      "source": [
        "#Write a program to filter students based on CGPA of 1st and 2nd semester such that averafe CGPA is greater than 6.5.\n",
        "#Use concept of  multi-dimentional list ,function,filter function\n",
        "Scorecard=[[8,9,'Ishu'],[10,10,'Sucheti'],[9,9,'Kri'],[1,2,'BEVYDA']]\n",
        "def FilterStudent(Scorecard):\n",
        "  afterfilter=[]\n",
        "  for i in Scorecard:\n",
        "    average=i[0]+i[1]/2\n",
        "    if average>6.5:\n",
        "      afterfilter.append(i)\n",
        "  return afterfilter\n",
        "\n",
        "afterfilter=FilterStudent(Scorecard)\n",
        "\n",
        "print(afterfilter)"
      ]
    },
    {
      "cell_type": "markdown",
      "metadata": {
        "id": "7rcN-XtICfnH"
      },
      "source": [
        "# map Function\n",
        "map() function returns a mao object (which is an operater) of the results after applying the given function to each item of a given iterable (list,tuple,etc)\n",
        "\n",
        "##Syntax:\n",
        "map(fun,iter)\n",
        "\n",
        "##Parameters:\n",
        "fun:It is a function to which map passes each element of given iterable\n",
        "iter:It is Iterable which it is to be mapped\n",
        "Note:you can one or more iterable to the map function\n",
        "\n",
        "##Returns:\n",
        "Returns the list of the results after applying the given iterable(list,tuple)\n",
        "Note:the returned value from map()(map,object) then can be passed to functions like list(),set()(to create a list)"
      ]
    },
    {
      "cell_type": "code",
      "execution_count": null,
      "metadata": {
        "colab": {
          "base_uri": "https://localhost:8080/",
          "height": 223
        },
        "id": "9imxdSNlBc19",
        "outputId": "21b1765e-5bcc-4490-e44d-0e11062bab6b"
      },
      "outputs": [
        {
          "name": "stdout",
          "output_type": "stream",
          "text": [
            "5.6 6.7\n"
          ]
        },
        {
          "ename": "ValueError",
          "evalue": "ignored",
          "output_type": "error",
          "traceback": [
            "\u001b[0;31m---------------------------------------------------------------------------\u001b[0m",
            "\u001b[0;31mValueError\u001b[0m                                Traceback (most recent call last)",
            "\u001b[0;32m<ipython-input-8-a0c0a0d1c2c4>\u001b[0m in \u001b[0;36m<cell line: 1>\u001b[0;34m()\u001b[0m\n\u001b[0;32m----> 1\u001b[0;31m \u001b[0mx\u001b[0m\u001b[0;34m=\u001b[0m\u001b[0mlist\u001b[0m\u001b[0;34m(\u001b[0m\u001b[0mmap\u001b[0m\u001b[0;34m(\u001b[0m\u001b[0mint\u001b[0m\u001b[0;34m,\u001b[0m\u001b[0minput\u001b[0m\u001b[0;34m(\u001b[0m\u001b[0;34m)\u001b[0m\u001b[0;34m.\u001b[0m\u001b[0msplit\u001b[0m\u001b[0;34m(\u001b[0m\u001b[0;34m)\u001b[0m\u001b[0;34m)\u001b[0m\u001b[0;34m)\u001b[0m\u001b[0;34m\u001b[0m\u001b[0;34m\u001b[0m\u001b[0m\n\u001b[0m\u001b[1;32m      2\u001b[0m \u001b[0mprint\u001b[0m\u001b[0;34m(\u001b[0m\u001b[0mx\u001b[0m\u001b[0;34m)\u001b[0m\u001b[0;34m\u001b[0m\u001b[0;34m\u001b[0m\u001b[0m\n\u001b[1;32m      3\u001b[0m \u001b[0mtype\u001b[0m\u001b[0;34m(\u001b[0m\u001b[0mx\u001b[0m\u001b[0;34m)\u001b[0m\u001b[0;34m\u001b[0m\u001b[0;34m\u001b[0m\u001b[0m\n",
            "\u001b[0;31mValueError\u001b[0m: invalid literal for int() with base 10: '5.6'"
          ]
        }
      ],
      "source": [
        "x=list(map(int,input().split()))\n",
        "print(x)\n",
        "type(x)"
      ]
    },
    {
      "cell_type": "code",
      "execution_count": null,
      "metadata": {
        "id": "tgVkUaVnHr8-"
      },
      "outputs": [],
      "source": [
        "def addition(x):\n",
        "  return x+x"
      ]
    },
    {
      "cell_type": "code",
      "execution_count": null,
      "metadata": {
        "colab": {
          "base_uri": "https://localhost:8080/"
        },
        "id": "yLhWUa4jH04G",
        "outputId": "581e50f9-02cb-43e9-dc5d-4818699ad241"
      },
      "outputs": [
        {
          "name": "stdout",
          "output_type": "stream",
          "text": [
            "<class 'map'>\n",
            "[2, 4, 6, 8]\n",
            "<map object at 0x7f47eaf73be0>\n"
          ]
        }
      ],
      "source": [
        "number=(1,2,3,4)\n",
        "result=map(addition,number)\n",
        "print(type(result))\n",
        "print(list(result))\n",
        "print(result)"
      ]
    },
    {
      "cell_type": "markdown",
      "metadata": {
        "id": "9CQafLCsHQ1s"
      },
      "source": [
        "WAP to take numbers in the form of list and print the square square of numbers.Output should be in form of tuple"
      ]
    },
    {
      "cell_type": "code",
      "execution_count": null,
      "metadata": {
        "id": "eq8fsHqNIPZd"
      },
      "outputs": [],
      "source": [
        "def square(x):\n",
        "  return x**2"
      ]
    },
    {
      "cell_type": "code",
      "execution_count": null,
      "metadata": {
        "colab": {
          "base_uri": "https://localhost:8080/"
        },
        "id": "iP7YWLYTInFp",
        "outputId": "77324954-8d4c-49df-a9c8-57c6c69bf937"
      },
      "outputs": [
        {
          "name": "stdout",
          "output_type": "stream",
          "text": [
            "<class 'map'>\n",
            "(1, 4, 9, 16)\n",
            "<map object at 0x7f480b44aa70>\n"
          ]
        }
      ],
      "source": [
        "number=(1,2,3,4)\n",
        "result=map(square,number)\n",
        "print(type(result))\n",
        "print(tuple(result))\n",
        "print(result)"
      ]
    },
    {
      "cell_type": "code",
      "execution_count": null,
      "metadata": {
        "colab": {
          "base_uri": "https://localhost:8080/"
        },
        "id": "ctd95pF1I1ia",
        "outputId": "3dac9029-74c9-44e1-e7f6-f4f93463be05"
      },
      "outputs": [
        {
          "name": "stdout",
          "output_type": "stream",
          "text": [
            "[3, 7, 11, 15]\n"
          ]
        }
      ],
      "source": [
        "#Add two list using map and lambda function\n",
        "a=[2,4,6,8]\n",
        "b=[1,3,5,7]\n",
        "store=map((lambda x,y:x+y),a,b)\n",
        "print(list(store))"
      ]
    },
    {
      "cell_type": "code",
      "execution_count": null,
      "metadata": {
        "colab": {
          "base_uri": "https://localhost:8080/"
        },
        "id": "w3544GFZKkNo",
        "outputId": "1c131254-ef6c-459f-ce87-bd7f432ebe7b"
      },
      "outputs": [
        {
          "name": "stdout",
          "output_type": "stream",
          "text": [
            "[10, 40, 90, 160, 250]\n"
          ]
        }
      ],
      "source": [
        "#using Multiple iterables with python map()\n",
        "lst=[1,2,3,4,5]\n",
        "mul=[10,20,30,40,50]\n",
        "print(list(map((lambda x,y:x*y),lst,mul)))"
      ]
    },
    {
      "cell_type": "code",
      "execution_count": null,
      "metadata": {
        "colab": {
          "base_uri": "https://localhost:8080/"
        },
        "id": "H6JE2MItLkak",
        "outputId": "8272655e-4a82-4da0-d029-28bfabaa5a03"
      },
      "outputs": [
        {
          "name": "stdout",
          "output_type": "stream",
          "text": [
            "8 9 7 \n",
            "[40320, 362880, 5040]\n"
          ]
        }
      ],
      "source": [
        "num=list(map(int,input().split()))\n",
        "def fact(x):\n",
        "  j=1\n",
        "  for i in range(1,x+1):\n",
        "    j=j*i\n",
        "  return j\n",
        "store=list(map(fact,num))\n",
        "print(store)"
      ]
    },
    {
      "cell_type": "code",
      "execution_count": null,
      "metadata": {
        "colab": {
          "base_uri": "https://localhost:8080/"
        },
        "id": "D0mgCycggCaf",
        "outputId": "4f46e31c-462d-42c7-f22e-b8a47975e181"
      },
      "outputs": [
        {
          "name": "stdout",
          "output_type": "stream",
          "text": [
            "[1, 4, 9, 16, 25]\n",
            "[]\n"
          ]
        }
      ],
      "source": [
        "numbers = [1, 2, 3, 4, 5]\n",
        "squares = map(lambda x: x**2, numbers)\n",
        "print(list(squares))\n",
        "even_squares = filter((lambda x: x % 2 == 0),list(squares))\n",
        "print(list(even_squares))\n"
      ]
    },
    {
      "cell_type": "markdown",
      "metadata": {
        "id": "A16XjuvKOyNc"
      },
      "source": [
        "# Python Module\n",
        "- A python script with python functions and statements.\n",
        "- Import a module before having access to all the functions within.\n",
        "- Most python distributions come with plenty of built-in modules."
      ]
    },
    {
      "cell_type": "markdown",
      "metadata": {
        "id": "_FCRjs07Rdiv"
      },
      "source": [
        "# Python modules\n",
        "\n",
        "- math, sys, os..\n",
        "- NumPy, high performance in vector & matrix using vector computation\n",
        "- SciPy: based on Numpy, ncluding many scientific algorithms.\n",
        "- pandas\n",
        "- matplotlib, pyplot, pylab"
      ]
    },
    {
      "cell_type": "code",
      "execution_count": null,
      "metadata": {
        "colab": {
          "base_uri": "https://localhost:8080/"
        },
        "id": "m1zBAbRdO3k5",
        "outputId": "c7b5e3f5-5ca7-4c52-dc23-5f764294e602"
      },
      "outputs": [
        {
          "name": "stdout",
          "output_type": "stream",
          "text": [
            "3.141592653589793\n",
            "-0.3048106211022167\n",
            "2.0\n"
          ]
        }
      ],
      "source": [
        "#import a module\n",
        "import math as mat\n",
        "print(mat.pi)\n",
        "print(mat.sin(60))\n",
        "print(mat.sqrt(4))\n"
      ]
    },
    {
      "cell_type": "code",
      "execution_count": null,
      "metadata": {
        "colab": {
          "base_uri": "https://localhost:8080/"
        },
        "id": "U4fROjAuRX2x",
        "outputId": "337a8b8e-e48c-4472-ba43-226508c13e75"
      },
      "outputs": [
        {
          "data": {
            "text/plain": [
              "3.0"
            ]
          },
          "execution_count": 18,
          "metadata": {},
          "output_type": "execute_result"
        }
      ],
      "source": [
        "from math import sqrt\n",
        "sqrt(9)"
      ]
    },
    {
      "cell_type": "code",
      "execution_count": null,
      "metadata": {
        "colab": {
          "base_uri": "https://localhost:8080/"
        },
        "id": "x26M-i_XR2iY",
        "outputId": "ea00b8b9-b859-43b4-9015-87efa176df81"
      },
      "outputs": [
        {
          "data": {
            "text/plain": [
              "['__doc__',\n",
              " '__loader__',\n",
              " '__name__',\n",
              " '__package__',\n",
              " '__spec__',\n",
              " 'acos',\n",
              " 'acosh',\n",
              " 'asin',\n",
              " 'asinh',\n",
              " 'atan',\n",
              " 'atan2',\n",
              " 'atanh',\n",
              " 'ceil',\n",
              " 'comb',\n",
              " 'copysign',\n",
              " 'cos',\n",
              " 'cosh',\n",
              " 'degrees',\n",
              " 'dist',\n",
              " 'e',\n",
              " 'erf',\n",
              " 'erfc',\n",
              " 'exp',\n",
              " 'expm1',\n",
              " 'fabs',\n",
              " 'factorial',\n",
              " 'floor',\n",
              " 'fmod',\n",
              " 'frexp',\n",
              " 'fsum',\n",
              " 'gamma',\n",
              " 'gcd',\n",
              " 'hypot',\n",
              " 'inf',\n",
              " 'isclose',\n",
              " 'isfinite',\n",
              " 'isinf',\n",
              " 'isnan',\n",
              " 'isqrt',\n",
              " 'lcm',\n",
              " 'ldexp',\n",
              " 'lgamma',\n",
              " 'log',\n",
              " 'log10',\n",
              " 'log1p',\n",
              " 'log2',\n",
              " 'modf',\n",
              " 'nan',\n",
              " 'nextafter',\n",
              " 'perm',\n",
              " 'pi',\n",
              " 'pow',\n",
              " 'prod',\n",
              " 'radians',\n",
              " 'remainder',\n",
              " 'sin',\n",
              " 'sinh',\n",
              " 'sqrt',\n",
              " 'tan',\n",
              " 'tanh',\n",
              " 'tau',\n",
              " 'trunc',\n",
              " 'ulp']"
            ]
          },
          "execution_count": 22,
          "metadata": {},
          "output_type": "execute_result"
        }
      ],
      "source": [
        "import math\n",
        "dir(math)"
      ]
    },
    {
      "cell_type": "code",
      "execution_count": null,
      "metadata": {
        "colab": {
          "base_uri": "https://localhost:8080/"
        },
        "id": "G_lb0QlXR617",
        "outputId": "70bf9e1f-82a0-4abf-adcb-345baa68118d"
      },
      "outputs": [
        {
          "name": "stdout",
          "output_type": "stream",
          "text": [
            "Help on built-in module math:\n",
            "\n",
            "NAME\n",
            "    math\n",
            "\n",
            "DESCRIPTION\n",
            "    This module provides access to the mathematical functions\n",
            "    defined by the C standard.\n",
            "\n",
            "FUNCTIONS\n",
            "    acos(x, /)\n",
            "        Return the arc cosine (measured in radians) of x.\n",
            "        \n",
            "        The result is between 0 and pi.\n",
            "    \n",
            "    acosh(x, /)\n",
            "        Return the inverse hyperbolic cosine of x.\n",
            "    \n",
            "    asin(x, /)\n",
            "        Return the arc sine (measured in radians) of x.\n",
            "        \n",
            "        The result is between -pi/2 and pi/2.\n",
            "    \n",
            "    asinh(x, /)\n",
            "        Return the inverse hyperbolic sine of x.\n",
            "    \n",
            "    atan(x, /)\n",
            "        Return the arc tangent (measured in radians) of x.\n",
            "        \n",
            "        The result is between -pi/2 and pi/2.\n",
            "    \n",
            "    atan2(y, x, /)\n",
            "        Return the arc tangent (measured in radians) of y/x.\n",
            "        \n",
            "        Unlike atan(y/x), the signs of both x and y are considered.\n",
            "    \n",
            "    atanh(x, /)\n",
            "        Return the inverse hyperbolic tangent of x.\n",
            "    \n",
            "    ceil(x, /)\n",
            "        Return the ceiling of x as an Integral.\n",
            "        \n",
            "        This is the smallest integer >= x.\n",
            "    \n",
            "    comb(n, k, /)\n",
            "        Number of ways to choose k items from n items without repetition and without order.\n",
            "        \n",
            "        Evaluates to n! / (k! * (n - k)!) when k <= n and evaluates\n",
            "        to zero when k > n.\n",
            "        \n",
            "        Also called the binomial coefficient because it is equivalent\n",
            "        to the coefficient of k-th term in polynomial expansion of the\n",
            "        expression (1 + x)**n.\n",
            "        \n",
            "        Raises TypeError if either of the arguments are not integers.\n",
            "        Raises ValueError if either of the arguments are negative.\n",
            "    \n",
            "    copysign(x, y, /)\n",
            "        Return a float with the magnitude (absolute value) of x but the sign of y.\n",
            "        \n",
            "        On platforms that support signed zeros, copysign(1.0, -0.0)\n",
            "        returns -1.0.\n",
            "    \n",
            "    cos(x, /)\n",
            "        Return the cosine of x (measured in radians).\n",
            "    \n",
            "    cosh(x, /)\n",
            "        Return the hyperbolic cosine of x.\n",
            "    \n",
            "    degrees(x, /)\n",
            "        Convert angle x from radians to degrees.\n",
            "    \n",
            "    dist(p, q, /)\n",
            "        Return the Euclidean distance between two points p and q.\n",
            "        \n",
            "        The points should be specified as sequences (or iterables) of\n",
            "        coordinates.  Both inputs must have the same dimension.\n",
            "        \n",
            "        Roughly equivalent to:\n",
            "            sqrt(sum((px - qx) ** 2.0 for px, qx in zip(p, q)))\n",
            "    \n",
            "    erf(x, /)\n",
            "        Error function at x.\n",
            "    \n",
            "    erfc(x, /)\n",
            "        Complementary error function at x.\n",
            "    \n",
            "    exp(x, /)\n",
            "        Return e raised to the power of x.\n",
            "    \n",
            "    expm1(x, /)\n",
            "        Return exp(x)-1.\n",
            "        \n",
            "        This function avoids the loss of precision involved in the direct evaluation of exp(x)-1 for small x.\n",
            "    \n",
            "    fabs(x, /)\n",
            "        Return the absolute value of the float x.\n",
            "    \n",
            "    factorial(x, /)\n",
            "        Find x!.\n",
            "        \n",
            "        Raise a ValueError if x is negative or non-integral.\n",
            "    \n",
            "    floor(x, /)\n",
            "        Return the floor of x as an Integral.\n",
            "        \n",
            "        This is the largest integer <= x.\n",
            "    \n",
            "    fmod(x, y, /)\n",
            "        Return fmod(x, y), according to platform C.\n",
            "        \n",
            "        x % y may differ.\n",
            "    \n",
            "    frexp(x, /)\n",
            "        Return the mantissa and exponent of x, as pair (m, e).\n",
            "        \n",
            "        m is a float and e is an int, such that x = m * 2.**e.\n",
            "        If x is 0, m and e are both 0.  Else 0.5 <= abs(m) < 1.0.\n",
            "    \n",
            "    fsum(seq, /)\n",
            "        Return an accurate floating point sum of values in the iterable seq.\n",
            "        \n",
            "        Assumes IEEE-754 floating point arithmetic.\n",
            "    \n",
            "    gamma(x, /)\n",
            "        Gamma function at x.\n",
            "    \n",
            "    gcd(*integers)\n",
            "        Greatest Common Divisor.\n",
            "    \n",
            "    hypot(...)\n",
            "        hypot(*coordinates) -> value\n",
            "        \n",
            "        Multidimensional Euclidean distance from the origin to a point.\n",
            "        \n",
            "        Roughly equivalent to:\n",
            "            sqrt(sum(x**2 for x in coordinates))\n",
            "        \n",
            "        For a two dimensional point (x, y), gives the hypotenuse\n",
            "        using the Pythagorean theorem:  sqrt(x*x + y*y).\n",
            "        \n",
            "        For example, the hypotenuse of a 3/4/5 right triangle is:\n",
            "        \n",
            "            >>> hypot(3.0, 4.0)\n",
            "            5.0\n",
            "    \n",
            "    isclose(a, b, *, rel_tol=1e-09, abs_tol=0.0)\n",
            "        Determine whether two floating point numbers are close in value.\n",
            "        \n",
            "          rel_tol\n",
            "            maximum difference for being considered \"close\", relative to the\n",
            "            magnitude of the input values\n",
            "          abs_tol\n",
            "            maximum difference for being considered \"close\", regardless of the\n",
            "            magnitude of the input values\n",
            "        \n",
            "        Return True if a is close in value to b, and False otherwise.\n",
            "        \n",
            "        For the values to be considered close, the difference between them\n",
            "        must be smaller than at least one of the tolerances.\n",
            "        \n",
            "        -inf, inf and NaN behave similarly to the IEEE 754 Standard.  That\n",
            "        is, NaN is not close to anything, even itself.  inf and -inf are\n",
            "        only close to themselves.\n",
            "    \n",
            "    isfinite(x, /)\n",
            "        Return True if x is neither an infinity nor a NaN, and False otherwise.\n",
            "    \n",
            "    isinf(x, /)\n",
            "        Return True if x is a positive or negative infinity, and False otherwise.\n",
            "    \n",
            "    isnan(x, /)\n",
            "        Return True if x is a NaN (not a number), and False otherwise.\n",
            "    \n",
            "    isqrt(n, /)\n",
            "        Return the integer part of the square root of the input.\n",
            "    \n",
            "    lcm(*integers)\n",
            "        Least Common Multiple.\n",
            "    \n",
            "    ldexp(x, i, /)\n",
            "        Return x * (2**i).\n",
            "        \n",
            "        This is essentially the inverse of frexp().\n",
            "    \n",
            "    lgamma(x, /)\n",
            "        Natural logarithm of absolute value of Gamma function at x.\n",
            "    \n",
            "    log(...)\n",
            "        log(x, [base=math.e])\n",
            "        Return the logarithm of x to the given base.\n",
            "        \n",
            "        If the base not specified, returns the natural logarithm (base e) of x.\n",
            "    \n",
            "    log10(x, /)\n",
            "        Return the base 10 logarithm of x.\n",
            "    \n",
            "    log1p(x, /)\n",
            "        Return the natural logarithm of 1+x (base e).\n",
            "        \n",
            "        The result is computed in a way which is accurate for x near zero.\n",
            "    \n",
            "    log2(x, /)\n",
            "        Return the base 2 logarithm of x.\n",
            "    \n",
            "    modf(x, /)\n",
            "        Return the fractional and integer parts of x.\n",
            "        \n",
            "        Both results carry the sign of x and are floats.\n",
            "    \n",
            "    nextafter(x, y, /)\n",
            "        Return the next floating-point value after x towards y.\n",
            "    \n",
            "    perm(n, k=None, /)\n",
            "        Number of ways to choose k items from n items without repetition and with order.\n",
            "        \n",
            "        Evaluates to n! / (n - k)! when k <= n and evaluates\n",
            "        to zero when k > n.\n",
            "        \n",
            "        If k is not specified or is None, then k defaults to n\n",
            "        and the function returns n!.\n",
            "        \n",
            "        Raises TypeError if either of the arguments are not integers.\n",
            "        Raises ValueError if either of the arguments are negative.\n",
            "    \n",
            "    pow(x, y, /)\n",
            "        Return x**y (x to the power of y).\n",
            "    \n",
            "    prod(iterable, /, *, start=1)\n",
            "        Calculate the product of all the elements in the input iterable.\n",
            "        \n",
            "        The default start value for the product is 1.\n",
            "        \n",
            "        When the iterable is empty, return the start value.  This function is\n",
            "        intended specifically for use with numeric values and may reject\n",
            "        non-numeric types.\n",
            "    \n",
            "    radians(x, /)\n",
            "        Convert angle x from degrees to radians.\n",
            "    \n",
            "    remainder(x, y, /)\n",
            "        Difference between x and the closest integer multiple of y.\n",
            "        \n",
            "        Return x - n*y where n*y is the closest integer multiple of y.\n",
            "        In the case where x is exactly halfway between two multiples of\n",
            "        y, the nearest even value of n is used. The result is always exact.\n",
            "    \n",
            "    sin(x, /)\n",
            "        Return the sine of x (measured in radians).\n",
            "    \n",
            "    sinh(x, /)\n",
            "        Return the hyperbolic sine of x.\n",
            "    \n",
            "    sqrt(x, /)\n",
            "        Return the square root of x.\n",
            "    \n",
            "    tan(x, /)\n",
            "        Return the tangent of x (measured in radians).\n",
            "    \n",
            "    tanh(x, /)\n",
            "        Return the hyperbolic tangent of x.\n",
            "    \n",
            "    trunc(x, /)\n",
            "        Truncates the Real x to the nearest Integral toward 0.\n",
            "        \n",
            "        Uses the __trunc__ magic method.\n",
            "    \n",
            "    ulp(x, /)\n",
            "        Return the value of the least significant bit of the float x.\n",
            "\n",
            "DATA\n",
            "    e = 2.718281828459045\n",
            "    inf = inf\n",
            "    nan = nan\n",
            "    pi = 3.141592653589793\n",
            "    tau = 6.283185307179586\n",
            "\n",
            "FILE\n",
            "    (built-in)\n",
            "\n",
            "\n"
          ]
        }
      ],
      "source": [
        "import math\n",
        "help(math)"
      ]
    },
    {
      "cell_type": "code",
      "execution_count": null,
      "metadata": {
        "colab": {
          "base_uri": "https://localhost:8080/"
        },
        "id": "HFjCe1p3S3K4",
        "outputId": "c7677b08-51b1-4c93-9a2e-74a6028ff5fc"
      },
      "outputs": [
        {
          "name": "stdout",
          "output_type": "stream",
          "text": [
            "3 5\n",
            "Your list is : [6, 120]\n"
          ]
        }
      ],
      "source": [
        "import math\n",
        "nums = list(map(int, input().split()))\n",
        "pst = list(map(math.factorial, nums))\n",
        "print('Your list is :',pst)\n",
        "\n"
      ]
    },
    {
      "cell_type": "code",
      "execution_count": null,
      "metadata": {
        "colab": {
          "base_uri": "https://localhost:8080/"
        },
        "id": "HIudFt8Q8nE1",
        "outputId": "e92ed6f6-c6de-41f1-a4f0-490c0808fddd"
      },
      "outputs": [
        {
          "name": "stdout",
          "output_type": "stream",
          "text": [
            "<filter object at 0x7f1d4d99fd90>\n"
          ]
        }
      ],
      "source": [
        "numbers = [1, 2, 3, 4, 5, 6, 7, 8, 9, 10]\n",
        "\n",
        "def is_even(number):\n",
        "    return number % 2 == 0\n",
        "\n",
        "filtered_numbers = filter(is_even, numbers)\n",
        "print(filtered_numbers)\n",
        "# filtered_numbers will be an iterable containing [2, 4, 6, 8, 10]\n"
      ]
    },
    {
      "cell_type": "code",
      "execution_count": null,
      "metadata": {
        "colab": {
          "base_uri": "https://localhost:8080/"
        },
        "id": "8bM6HeuoU0t7",
        "outputId": "5f50b7d0-f3ea-40c7-8077-a1b04cd4af82"
      },
      "outputs": [
        {
          "name": "stdout",
          "output_type": "stream",
          "text": [
            "<class 'function'>\n",
            "  3           0 LOAD_FAST                0 (x)\n",
            "              2 LOAD_FAST                1 (y)\n",
            "              4 BINARY_ADD\n",
            "              6 RETURN_VALUE\n",
            "<function <lambda> at 0x7f1d3ccc76d0>\n"
          ]
        }
      ],
      "source": [
        "import dis\n",
        "\n",
        "add = lambda x,y:x+y\n",
        "print(type(add))\n",
        "dis.dis(add)\n",
        "print(add)"
      ]
    },
    {
      "cell_type": "code",
      "execution_count": null,
      "metadata": {
        "colab": {
          "base_uri": "https://localhost:8080/"
        },
        "id": "A_GQCT8tQqFn",
        "outputId": "2744950c-0d0f-4842-cad3-d94c970b33ce"
      },
      "outputs": [
        {
          "data": {
            "text/plain": [
              "9"
            ]
          },
          "execution_count": 2,
          "metadata": {},
          "output_type": "execute_result"
        }
      ],
      "source": [
        "def fun(n):\n",
        "  if n==1:\n",
        "    return 1\n",
        "  else:\n",
        "    return 1+fun(n-1)\n",
        "\n",
        "fun(9)"
      ]
    },
    {
      "cell_type": "code",
      "execution_count": null,
      "metadata": {
        "colab": {
          "base_uri": "https://localhost:8080/"
        },
        "id": "d0UgxE8yXUR2",
        "outputId": "b3b66e79-f760-40e9-a8e6-18490c958f78"
      },
      "outputs": [
        {
          "data": {
            "text/plain": [
              "120"
            ]
          },
          "execution_count": 5,
          "metadata": {},
          "output_type": "execute_result"
        }
      ],
      "source": [
        "def fact(n):\n",
        "  if n==1:\n",
        "    return 1\n",
        "  else:\n",
        "    return n*fact(n-1)\n",
        "\n",
        "fact(5)"
      ]
    },
    {
      "cell_type": "code",
      "execution_count": null,
      "metadata": {
        "colab": {
          "base_uri": "https://localhost:8080/"
        },
        "id": "tjWVX3ptYLSB",
        "outputId": "6e5f2a98-bb5e-4307-db4e-6a564c077e82"
      },
      "outputs": [
        {
          "name": "stdout",
          "output_type": "stream",
          "text": [
            "The factorial of 5 is 120 and time is 9.036064147949219e-05\n"
          ]
        }
      ],
      "source": [
        "import time\n",
        "n=5\n",
        "fact=1\n",
        "start_time=time.time()\n",
        "for i in range(1,n+1):\n",
        "  fact=fact*i\n",
        "end_time=time.time()\n",
        "print(f\"The factorial of {n} is {fact} and time is {end_time-start_time}\")"
      ]
    },
    {
      "cell_type": "code",
      "execution_count": null,
      "metadata": {
        "colab": {
          "base_uri": "https://localhost:8080/"
        },
        "id": "egyD-oR5aknE",
        "outputId": "559ae584-1812-4eca-fd7a-24b7b2786241"
      },
      "outputs": [
        {
          "name": "stdout",
          "output_type": "stream",
          "text": [
            "The factorial of 5 is 120 and time is 5.745887756347656e-05\n"
          ]
        }
      ],
      "source": [
        "def fact(n):\n",
        "  if n==1:\n",
        "    return 1\n",
        "  else:\n",
        "    return n*fact(n-1)\n",
        "import time\n",
        "start_time=time.time()\n",
        "fac=fact(5)\n",
        "end_time=time.time()\n",
        "print(f\"The factorial of {n} is {fac} and time is {end_time-start_time}\")"
      ]
    },
    {
      "cell_type": "code",
      "execution_count": null,
      "metadata": {
        "colab": {
          "base_uri": "https://localhost:8080/",
          "height": 36
        },
        "id": "I9PoQqBweCla",
        "outputId": "610c9e4b-b675-4be9-f3dc-5ba1c6580647"
      },
      "outputs": [
        {
          "data": {
            "application/vnd.google.colaboratory.intrinsic+json": {
              "type": "string"
            },
            "text/plain": [
              "'Look its a cat'"
            ]
          },
          "execution_count": 3,
          "metadata": {},
          "output_type": "execute_result"
        }
      ],
      "source": [
        "def puntuation(str1):\n",
        "  l=['.','/',';',',','\"',\"'\",'!','@','&',':','{}','[]','.']\n",
        "  b=\"\"\n",
        "  for i in str1:\n",
        "    if i not in l:\n",
        "      b+=i\n",
        "  return b\n",
        "\n",
        "str1=\"'Look, it's a cat!'\"\n",
        "puntuation(str1)\n",
        "\n"
      ]
    },
    {
      "cell_type": "code",
      "execution_count": null,
      "metadata": {
        "id": "VtzxvaLt5dOL"
      },
      "outputs": [],
      "source": [
        "def reverse_string(input_string):\n",
        "    # Convert the input string to a list of characters\n",
        "    char_list = list(input_string)\n",
        "\n",
        "    # Reverse the list using the reverse() method\n",
        "    char_list.reverse()\n",
        "\n",
        "    # Convert the list back to a string\n",
        "    reversed_string = ''.join(char_list)\n",
        "\n",
        "    # Return the reversed string\n",
        "    return reversed_string\n",
        "\n",
        "# Example usage:\n",
        "input_string = \"Hello, world!\"\n",
        "reversed_string = reverse_string(input_string)\n",
        "print(\"Input string: \", input_string)\n",
        "print(\"Reversed string: \", reversed_string)"
      ]
    },
    {
      "cell_type": "code",
      "execution_count": null,
      "metadata": {
        "colab": {
          "base_uri": "https://localhost:8080/"
        },
        "id": "JJkwP48p7KQw",
        "outputId": "9229a6d1-b2ea-49dd-a6e7-e51600a2882e"
      },
      "outputs": [
        {
          "name": "stdout",
          "output_type": "stream",
          "text": [
            "Input string:  Hello, world!\n",
            "Reversed string:  !dlrow ,olleH\n"
          ]
        }
      ],
      "source": [
        "def reverse_string(str1):\n",
        "    reversed_str = \"\"\n",
        "    for i in str1[::-1]:\n",
        "        reversed_str +=i\n",
        "    return reversed_str\n",
        "str1 = \"Hello, world!\"\n",
        "reversed_str = reverse_string(str1)\n",
        "print(\"Input string: \", str1)\n",
        "print(\"Reversed string: \", reversed_str)\n"
      ]
    },
    {
      "cell_type": "code",
      "execution_count": null,
      "metadata": {
        "colab": {
          "base_uri": "https://localhost:8080/"
        },
        "id": "z-QDWr-hOYtx",
        "outputId": "92b959fd-bbe8-4a70-fe33-c68f9f55a72b"
      },
      "outputs": [
        {
          "name": "stdout",
          "output_type": "stream",
          "text": [
            "Enter 10 numbers: 12 34 56 78 09 87 65 43 \n",
            "[12, 78, 9, 87, 65]\n",
            "251\n"
          ]
        }
      ],
      "source": [
        "def div3and5(l):\n",
        "    a= list(filter(lambda x: int(x) % 5 == 0 or int(x) % 3 == 0,map(int, l)))\n",
        "    print(a)\n",
        "    z=int(0)\n",
        "    for i in a:\n",
        "        z+=i\n",
        "    return z\n",
        "t = tuple(input(\"Enter 10 numbers: \").split())\n",
        "\n",
        "print(div3and5(t))"
      ]
    },
    {
      "cell_type": "code",
      "execution_count": null,
      "metadata": {
        "colab": {
          "base_uri": "https://localhost:8080/"
        },
        "id": "w5N7n24NS7Rv",
        "outputId": "3ab2011a-ab58-47b2-94da-6ba1f7525954"
      },
      "outputs": [
        {
          "name": "stdout",
          "output_type": "stream",
          "text": [
            "3\n"
          ]
        }
      ],
      "source": [
        "def Recursion(i):\n",
        "    if i==\"\":\n",
        "        return 0\n",
        "    else:\n",
        "        return 1+Recursion(i[:-1])\n",
        "print(Recursion(\"kru\"))"
      ]
    },
    {
      "cell_type": "code",
      "execution_count": null,
      "metadata": {
        "colab": {
          "base_uri": "https://localhost:8080/"
        },
        "id": "eTnrlnIFzqgF",
        "outputId": "7fdc0c28-4598-4d06-bb4b-08359893a3d1"
      },
      "outputs": [
        {
          "name": "stdout",
          "output_type": "stream",
          "text": [
            "Overwriting fibbo.py\n"
          ]
        }
      ],
      "source": [
        "%%writefile fibbo.py\n",
        "def fibbo(n):\n",
        "    '''\n",
        "    this is a function that prints fibonacci series\n",
        "    '''\n",
        "    a=0\n",
        "    b=1\n",
        "    print(a,b, end=\" \")\n",
        "    for i in range(n-2):\n",
        "        c=a+b\n",
        "        print(c,end=\" \")\n",
        "        a=b\n",
        "        b=c\n",
        "if __name__==\"__main__\":\n",
        "    print(\"<>running the module  as a script!!\")\n",
        "    print(\"the value of n is\",n)\n",
        "    fibbo()"
      ]
    },
    {
      "cell_type": "code",
      "execution_count": null,
      "metadata": {
        "colab": {
          "base_uri": "https://localhost:8080/"
        },
        "id": "MbaKrXVIzrx2",
        "outputId": "f214a6cf-7053-461e-82f8-0ec8d67060e1"
      },
      "outputs": [
        {
          "name": "stdout",
          "output_type": "stream",
          "text": [
            "def fibbo(n):\n",
            "    '''\n",
            "    this is a function that prints fibonacci series\n",
            "    '''\n",
            "    a=0\n",
            "    b=1\n",
            "    print(a,b, end=\" \")\n",
            "    for i in range(n-2):\n",
            "        c=a+b\n",
            "        print(c,end=\" \")\n",
            "        a=b\n",
            "        b=c\n",
            "if __name__==\"__main__\":\n",
            "    print(\"<>running the module  as a script!!\")\n",
            "    print(\"the value of n is\",n)\n",
            "    fibbo()\n"
          ]
        }
      ],
      "source": [
        "%cat fibbo.py"
      ]
    },
    {
      "cell_type": "code",
      "execution_count": null,
      "metadata": {
        "colab": {
          "base_uri": "https://localhost:8080/"
        },
        "id": "wcyEMofbzzG9",
        "outputId": "b761e5fb-7f54-40ea-a94a-ba5ab3f6757f"
      },
      "outputs": [
        {
          "name": "stdout",
          "output_type": "stream",
          "text": [
            "enter thee number of terms: 10\n",
            "0 1 1 2 3 5 8 13 21 34 "
          ]
        }
      ],
      "source": [
        "import fibbo\n",
        "l=int(input(\"enter thee number of terms: \"))\n",
        "fibbo.fibbo(l)"
      ]
    },
    {
      "cell_type": "code",
      "execution_count": null,
      "metadata": {
        "colab": {
          "base_uri": "https://localhost:8080/"
        },
        "id": "foAevDERiBwB",
        "outputId": "85bff767-0b13-4a89-82d7-5e6557f2a6a9"
      },
      "outputs": [
        {
          "name": "stdout",
          "output_type": "stream",
          "text": [
            "Writing calc.py\n"
          ]
        }
      ],
      "source": [
        "%%writefile calc.py\n",
        "def addition(x,y):\n",
        "   return x+y\n",
        "def multiplication(x,y):\n",
        "  return x*y\n",
        "def division(x,y):\n",
        "  return x/y\n",
        "def subtraction(x,y):\n",
        "  return x-y\n",
        "\n",
        "if __name__ == \"__main__\":\n",
        "  print(\"<> Running the module as a script!<>\")\n"
      ]
    },
    {
      "cell_type": "code",
      "execution_count": null,
      "metadata": {
        "colab": {
          "base_uri": "https://localhost:8080/"
        },
        "id": "cSi5p-n5j-yl",
        "outputId": "478c3a09-5b30-45e2-8548-5258c0cc9382"
      },
      "outputs": [
        {
          "name": "stdout",
          "output_type": "stream",
          "text": [
            "def addition(x,y):\n",
            "   return x+y\n",
            "def multiplication(x,y):\n",
            "  return x*y \n",
            "def division(x,y):\n",
            "  return x/y \n",
            "def subtraction(x,y):\n",
            "  return x-y \n",
            "\n",
            "if __name__ == \"__main__\":\n",
            "  print(\"<> Running the module as a script!<>\")\n"
          ]
        }
      ],
      "source": [
        "%cat calc.py"
      ]
    },
    {
      "cell_type": "code",
      "execution_count": null,
      "metadata": {
        "colab": {
          "base_uri": "https://localhost:8080/"
        },
        "id": "QeFDKeaylXPy",
        "outputId": "6c734fe1-b156-4bb8-845a-12327f37d6b9"
      },
      "outputs": [
        {
          "data": {
            "text/plain": [
              "10"
            ]
          },
          "execution_count": 24,
          "metadata": {},
          "output_type": "execute_result"
        }
      ],
      "source": [
        "from calc import addition\n",
        "addition(4,6)"
      ]
    },
    {
      "cell_type": "code",
      "execution_count": null,
      "metadata": {
        "colab": {
          "base_uri": "https://localhost:8080/"
        },
        "id": "mfncmwHnl5kQ",
        "outputId": "e13f4a97-bd84-42a5-c4f8-e05d46100222"
      },
      "outputs": [
        {
          "name": "stdout",
          "output_type": "stream",
          "text": [
            "Overwriting sample_module.py\n"
          ]
        }
      ],
      "source": [
        "%%writefile sample_module.py\n",
        "x = 2\n",
        "\n",
        "def func():\n",
        "  '''\n",
        "      This is a sample function\n",
        "      contains in a module.\n",
        "  '''\n",
        "  print('Hi from a module!')\n",
        "\n",
        "if __name__ == '__main__':\n",
        "  print(\"<> Running the module as a script!<>\")\n"
      ]
    },
    {
      "cell_type": "code",
      "execution_count": null,
      "metadata": {
        "colab": {
          "base_uri": "https://localhost:8080/"
        },
        "id": "qKZRWw8lnBDz",
        "outputId": "f7a3a806-edc9-4c61-9f1b-3acb01d5842a"
      },
      "outputs": [
        {
          "name": "stdout",
          "output_type": "stream",
          "text": [
            "['__builtins__', '__cached__', '__doc__', '__file__', '__loader__', '__name__', '__package__', '__spec__', 'func', 'x']\n"
          ]
        }
      ],
      "source": [
        "import sample_module\n",
        "print(dir(sample_module))"
      ]
    },
    {
      "cell_type": "code",
      "execution_count": null,
      "metadata": {
        "colab": {
          "base_uri": "https://localhost:8080/",
          "height": 448
        },
        "id": "vMz1m1AyoImX",
        "outputId": "0eb1cb7c-7192-40a7-f92e-1e0c3303f7fa"
      },
      "outputs": [
        {
          "data": {
            "text/plain": [
              "[<matplotlib.lines.Line2D at 0x7ffb3f6ed6c0>]"
            ]
          },
          "execution_count": 10,
          "metadata": {},
          "output_type": "execute_result"
        },
        {
          "data": {
            "image/png": "[encoded data removed]",
            "text/plain": [
              "<Figure size 640x480 with 1 Axes>"
            ]
          },
          "metadata": {},
          "output_type": "display_data"
        }
      ],
      "source": [
        "x=[1,2,3,4,5]\n",
        "y=[1,2,3,1,5]\n",
        "import matplotlib.pyplot as pit\n",
        "#pit.plot(x,y,marker='o',color=\"green\",ls=\":\",lw=2)\n",
        "pit.plot(x,y,color=\"green\",ls=\"-\",lw=2)\n"
      ]
    },
    {
      "cell_type": "code",
      "execution_count": null,
      "metadata": {
        "id": "Hhp6GBRDI6CV"
      },
      "outputs": [],
      "source": [
        "x=[Germany,Turkey,]\n",
        "y=[1,2,3,1,5]\n",
        "import matplotlib.pyplot as pit\n",
        "#pit.plot(x,y,marker='o',color=\"green\",ls=\":\",lw=2)\n",
        "pit.plot(x,y,color=\"green\",ls=\"-\",lw=2)\n"
      ]
    },
    {
      "cell_type": "code",
      "execution_count": null,
      "metadata": {
        "colab": {
          "base_uri": "https://localhost:8080/",
          "height": 408
        },
        "id": "PAPMwtRtjXko",
        "outputId": "a1347d1e-2f03-449c-b3e8-8fdaa91c627d"
      },
      "outputs": [
        {
          "name": "stdout",
          "output_type": "stream",
          "text": [
            "kru\n"
          ]
        },
        {
          "ename": "RecursionError",
          "evalue": "ignored",
          "output_type": "error",
          "traceback": [
            "\u001b[0;31m---------------------------------------------------------------------------\u001b[0m",
            "\u001b[0;31mRecursionError\u001b[0m                            Traceback (most recent call last)",
            "\u001b[0;32m<ipython-input-9-4296e1958bc2>\u001b[0m in \u001b[0;36m<cell line: 9>\u001b[0;34m()\u001b[0m\n\u001b[1;32m      7\u001b[0m \u001b[0;34m\u001b[0m\u001b[0m\n\u001b[1;32m      8\u001b[0m     \u001b[0mprint\u001b[0m\u001b[0;34m(\u001b[0m\u001b[0mrev\u001b[0m\u001b[0;34m(\u001b[0m\u001b[0ml\u001b[0m\u001b[0;34m)\u001b[0m\u001b[0;34m)\u001b[0m\u001b[0;34m\u001b[0m\u001b[0;34m\u001b[0m\u001b[0m\n\u001b[0;32m----> 9\u001b[0;31m \u001b[0mrev\u001b[0m\u001b[0;34m(\u001b[0m\u001b[0mstr\u001b[0m\u001b[0;34m)\u001b[0m\u001b[0;34m\u001b[0m\u001b[0;34m\u001b[0m\u001b[0m\n\u001b[0m",
            "\u001b[0;32m<ipython-input-9-4296e1958bc2>\u001b[0m in \u001b[0;36mrev\u001b[0;34m(l)\u001b[0m\n\u001b[1;32m      4\u001b[0m         \u001b[0;32mreturn\u001b[0m \u001b[0;34m\" \"\u001b[0m\u001b[0;34m\u001b[0m\u001b[0;34m\u001b[0m\u001b[0m\n\u001b[1;32m      5\u001b[0m     \u001b[0;32melse\u001b[0m\u001b[0;34m:\u001b[0m\u001b[0;34m\u001b[0m\u001b[0;34m\u001b[0m\u001b[0m\n\u001b[0;32m----> 6\u001b[0;31m         \u001b[0;32mreturn\u001b[0m \u001b[0ml\u001b[0m\u001b[0;34m[\u001b[0m\u001b[0;34m-\u001b[0m\u001b[0;36m1\u001b[0m\u001b[0;34m:\u001b[0m\u001b[0;34m:\u001b[0m\u001b[0;34m]\u001b[0m\u001b[0;34m+\u001b[0m\u001b[0mrev\u001b[0m\u001b[0;34m(\u001b[0m\u001b[0ml\u001b[0m\u001b[0;34m[\u001b[0m\u001b[0;34m-\u001b[0m\u001b[0;36m2\u001b[0m\u001b[0;34m:\u001b[0m\u001b[0;34m:\u001b[0m\u001b[0;34m]\u001b[0m\u001b[0;34m)\u001b[0m\u001b[0;34m\u001b[0m\u001b[0;34m\u001b[0m\u001b[0m\n\u001b[0m\u001b[1;32m      7\u001b[0m \u001b[0;34m\u001b[0m\u001b[0m\n\u001b[1;32m      8\u001b[0m     \u001b[0mprint\u001b[0m\u001b[0;34m(\u001b[0m\u001b[0mrev\u001b[0m\u001b[0;34m(\u001b[0m\u001b[0ml\u001b[0m\u001b[0;34m)\u001b[0m\u001b[0;34m)\u001b[0m\u001b[0;34m\u001b[0m\u001b[0;34m\u001b[0m\u001b[0m\n",
            "... last 1 frames repeated, from the frame below ...\n",
            "\u001b[0;32m<ipython-input-9-4296e1958bc2>\u001b[0m in \u001b[0;36mrev\u001b[0;34m(l)\u001b[0m\n\u001b[1;32m      4\u001b[0m         \u001b[0;32mreturn\u001b[0m \u001b[0;34m\" \"\u001b[0m\u001b[0;34m\u001b[0m\u001b[0;34m\u001b[0m\u001b[0m\n\u001b[1;32m      5\u001b[0m     \u001b[0;32melse\u001b[0m\u001b[0;34m:\u001b[0m\u001b[0;34m\u001b[0m\u001b[0;34m\u001b[0m\u001b[0m\n\u001b[0;32m----> 6\u001b[0;31m         \u001b[0;32mreturn\u001b[0m \u001b[0ml\u001b[0m\u001b[0;34m[\u001b[0m\u001b[0;34m-\u001b[0m\u001b[0;36m1\u001b[0m\u001b[0;34m:\u001b[0m\u001b[0;34m:\u001b[0m\u001b[0;34m]\u001b[0m\u001b[0;34m+\u001b[0m\u001b[0mrev\u001b[0m\u001b[0;34m(\u001b[0m\u001b[0ml\u001b[0m\u001b[0;34m[\u001b[0m\u001b[0;34m-\u001b[0m\u001b[0;36m2\u001b[0m\u001b[0;34m:\u001b[0m\u001b[0;34m:\u001b[0m\u001b[0;34m]\u001b[0m\u001b[0;34m)\u001b[0m\u001b[0;34m\u001b[0m\u001b[0;34m\u001b[0m\u001b[0m\n\u001b[0m\u001b[1;32m      7\u001b[0m \u001b[0;34m\u001b[0m\u001b[0m\n\u001b[1;32m      8\u001b[0m     \u001b[0mprint\u001b[0m\u001b[0;34m(\u001b[0m\u001b[0mrev\u001b[0m\u001b[0;34m(\u001b[0m\u001b[0ml\u001b[0m\u001b[0;34m)\u001b[0m\u001b[0;34m)\u001b[0m\u001b[0;34m\u001b[0m\u001b[0;34m\u001b[0m\u001b[0m\n",
            "\u001b[0;31mRecursionError\u001b[0m: maximum recursion depth exceeded while calling a Python object"
          ]
        }
      ],
      "source": [
        "str=input()\n",
        "def rev(l):\n",
        "    if len(l)==0:\n",
        "        return \" \"\n",
        "    else:\n",
        "        return l[-1::]+rev(l[-2::])\n",
        "\n",
        "    print(rev(l))\n",
        "rev(str)"
      ]
    },
    {
      "cell_type": "code",
      "execution_count": null,
      "metadata": {
        "colab": {
          "base_uri": "https://localhost:8080/",
          "height": 312
        },
        "id": "n505YUWzd6SZ",
        "outputId": "1c6e11f0-de8f-44bc-a007-c6c63f42bec0"
      },
      "outputs": [
        {
          "ename": "KeyError",
          "evalue": "ignored",
          "output_type": "error",
          "traceback": [
            "\u001b[0;31m---------------------------------------------------------------------------\u001b[0m",
            "\u001b[0;31mKeyError\u001b[0m                                  Traceback (most recent call last)",
            "\u001b[0;32m<ipython-input-1-cd83e761d2d9>\u001b[0m in \u001b[0;36m<cell line: 4>\u001b[0;34m()\u001b[0m\n\u001b[1;32m      2\u001b[0m   \u001b[0mprint\u001b[0m\u001b[0;34m(\u001b[0m\u001b[0;34m\"His last name is \"\u001b[0m \u001b[0;34m+\u001b[0m \u001b[0mkid\u001b[0m\u001b[0;34m[\u001b[0m \u001b[0;34m\"fname\"\u001b[0m\u001b[0;34m,\u001b[0m\u001b[0;34m\"lname\"\u001b[0m\u001b[0;34m]\u001b[0m\u001b[0;34m)\u001b[0m\u001b[0;34m\u001b[0m\u001b[0;34m\u001b[0m\u001b[0m\n\u001b[1;32m      3\u001b[0m \u001b[0;34m\u001b[0m\u001b[0m\n\u001b[0;32m----> 4\u001b[0;31m \u001b[0mmy_function\u001b[0m\u001b[0;34m(\u001b[0m\u001b[0mfname\u001b[0m \u001b[0;34m=\u001b[0m \u001b[0;34m\"Tobias\"\u001b[0m\u001b[0;34m,\u001b[0m \u001b[0mlname\u001b[0m \u001b[0;34m=\u001b[0m \u001b[0;34m\"Refsnes\"\u001b[0m\u001b[0;34m)\u001b[0m\u001b[0;34m\u001b[0m\u001b[0;34m\u001b[0m\u001b[0m\n\u001b[0m",
            "\u001b[0;32m<ipython-input-1-cd83e761d2d9>\u001b[0m in \u001b[0;36mmy_function\u001b[0;34m(**kid)\u001b[0m\n\u001b[1;32m      1\u001b[0m \u001b[0;32mdef\u001b[0m \u001b[0mmy_function\u001b[0m\u001b[0;34m(\u001b[0m\u001b[0;34m**\u001b[0m\u001b[0mkid\u001b[0m\u001b[0;34m)\u001b[0m\u001b[0;34m:\u001b[0m\u001b[0;34m\u001b[0m\u001b[0;34m\u001b[0m\u001b[0m\n\u001b[0;32m----> 2\u001b[0;31m   \u001b[0mprint\u001b[0m\u001b[0;34m(\u001b[0m\u001b[0;34m\"His last name is \"\u001b[0m \u001b[0;34m+\u001b[0m \u001b[0mkid\u001b[0m\u001b[0;34m[\u001b[0m \u001b[0;34m\"fname\"\u001b[0m\u001b[0;34m,\u001b[0m\u001b[0;34m\"lname\"\u001b[0m\u001b[0;34m]\u001b[0m\u001b[0;34m)\u001b[0m\u001b[0;34m\u001b[0m\u001b[0;34m\u001b[0m\u001b[0m\n\u001b[0m\u001b[1;32m      3\u001b[0m \u001b[0;34m\u001b[0m\u001b[0m\n\u001b[1;32m      4\u001b[0m \u001b[0mmy_function\u001b[0m\u001b[0;34m(\u001b[0m\u001b[0mfname\u001b[0m \u001b[0;34m=\u001b[0m \u001b[0;34m\"Tobias\"\u001b[0m\u001b[0;34m,\u001b[0m \u001b[0mlname\u001b[0m \u001b[0;34m=\u001b[0m \u001b[0;34m\"Refsnes\"\u001b[0m\u001b[0;34m)\u001b[0m\u001b[0;34m\u001b[0m\u001b[0;34m\u001b[0m\u001b[0m\n",
            "\u001b[0;31mKeyError\u001b[0m: ('fname', 'lname')"
          ]
        }
      ],
      "source": [
        "def my_function(**kid):\n",
        "  print(\"His last name is \" + kid[ \"fname\",\"lname\"])\n",
        "\n",
        "my_function(fname = \"Tobias\", lname = \"Refsnes\")"
      ]
    },
    {
      "cell_type": "code",
      "execution_count": null,
      "metadata": {
        "colab": {
          "base_uri": "https://localhost:8080/"
        },
        "id": "FjDeSrrKgerH",
        "outputId": "39128a00-d980-45f6-f5e5-c6aa16d278df"
      },
      "outputs": [
        {
          "data": {
            "text/plain": [
              "63"
            ]
          },
          "execution_count": 4,
          "metadata": {},
          "output_type": "execute_result"
        }
      ],
      "source": [
        "def my_function(n):\n",
        "  for i in range(len(n) - 1):\n",
        "    if n[i]>n[i+1]:\n",
        "      return n[i]\n",
        "\n",
        "\n",
        "n = [2,4,5,63,9]\n",
        "\n",
        "my_function(n)"
      ]
    },
    {
      "cell_type": "code",
      "execution_count": null,
      "metadata": {
        "colab": {
          "base_uri": "https://localhost:8080/"
        },
        "id": "t_BCP7Hfl59K",
        "outputId": "30d45f7e-3629-49f2-e031-be895f9e0876"
      },
      "outputs": [
        {
          "data": {
            "text/plain": [
              "4.0"
            ]
          },
          "execution_count": 10,
          "metadata": {},
          "output_type": "execute_result"
        }
      ],
      "source": [
        "def avg(a):\n",
        "  s=int(0)\n",
        "  if a==[]:\n",
        "    return None\n",
        "  else:\n",
        "    for i in a:\n",
        "      s+=i\n",
        "  return s/len(a)\n",
        "\n",
        "a = [3,4,5]\n",
        "\n",
        "avg(a)"
      ]
    },
    {
      "cell_type": "code",
      "execution_count": null,
      "metadata": {
        "colab": {
          "base_uri": "https://localhost:8080/"
        },
        "id": "SIEcjz1fpbl3",
        "outputId": "88d94af4-f6da-4a54-c76b-6229e8fd6d8c"
      },
      "outputs": [
        {
          "data": {
            "text/plain": [
              "3"
            ]
          },
          "execution_count": 13,
          "metadata": {},
          "output_type": "execute_result"
        }
      ],
      "source": [
        "def count_words(s):\n",
        "  if s==\" \":\n",
        "    return 0\n",
        "  else :\n",
        "    words=s.split()\n",
        "  return len(words)\n",
        "\n",
        "\n",
        "\n",
        "\n",
        "\n",
        "s=\"kru ti ka\"\n",
        "count_words(s)\n"
      ]
    },
    {
      "cell_type": "code",
      "execution_count": null,
      "metadata": {
        "colab": {
          "base_uri": "https://localhost:8080/"
        },
        "id": "bjiptz3RuNyn",
        "outputId": "f1445eb6-07d0-4bc7-8b2c-5ff432bc3fe2"
      },
      "outputs": [
        {
          "name": "stdout",
          "output_type": "stream",
          "text": [
            "enter a stringkrutika\n"
          ]
        },
        {
          "data": {
            "text/plain": [
              "7"
            ]
          },
          "execution_count": 26,
          "metadata": {},
          "output_type": "execute_result"
        }
      ],
      "source": [
        "def count_letters(s):\n",
        "  b=0\n",
        "  for i in s:\n",
        "    if(ord('a'))<=(ord('i'))<=(ord('z')) or (ord('A'))<=(ord('i'))<=(ord('z')):\n",
        "      b+=1\n",
        "  return b\n",
        "\n",
        "\n",
        "\n",
        "s=input(\"enter a string\")\n",
        "count_letters(s)"
      ]
    },
    {
      "cell_type": "code",
      "execution_count": null,
      "metadata": {
        "colab": {
          "base_uri": "https://localhost:8080/"
        },
        "id": "XnKs-SwkIOVo",
        "outputId": "b3cfd40f-8d12-4078-fdee-8c8c9c046a09"
      },
      "outputs": [
        {
          "name": "stdout",
          "output_type": "stream",
          "text": [
            "enter elements of list seperated by commash,ab,is,kr\n"
          ]
        },
        {
          "data": {
            "text/plain": [
              "['ab', 'is']"
            ]
          },
          "execution_count": 5,
          "metadata": {},
          "output_type": "execute_result"
        }
      ],
      "source": [
        "def filter_vowels(list1):\n",
        "  list2=[]\n",
        "  v=\"aeiou\"\n",
        "  list2=filter(lambda x:x[0]in v,list1)\n",
        "  return list(list2)\n",
        "\n",
        "\n",
        "\n",
        "input_list=input(\"enter elements of list seperated by comma\")\n",
        "list1=input_list.split(\",\")\n",
        "filter_vowels(list1)\n",
        "\n",
        "\n",
        "\n",
        "\n"
      ]
    },
    {
      "cell_type": "code",
      "execution_count": null,
      "metadata": {
        "colab": {
          "base_uri": "https://localhost:8080/"
        },
        "id": "32mb-93sLqM4",
        "outputId": "895d4ac8-5baf-4609-aad5-da4617b344a5"
      },
      "outputs": [
        {
          "name": "stdout",
          "output_type": "stream",
          "text": [
            "Product: 15\n"
          ]
        }
      ],
      "source": [
        "from functools import reduce\n",
        "\n",
        "numbers = [1, 2, 3, 4, 5]\n",
        "product = reduce(lambda x, y: x + y, numbers)\n",
        "print(\"Product:\", product)"
      ]
    },
    {
      "cell_type": "code",
      "execution_count": null,
      "metadata": {
        "colab": {
          "base_uri": "https://localhost:8080/"
        },
        "id": "PMnmMM8XOu9V",
        "outputId": "3b56961a-33c5-4556-ef36-40e3847d844b"
      },
      "outputs": [
        {
          "data": {
            "text/plain": [
              "7"
            ]
          },
          "execution_count": 11,
          "metadata": {},
          "output_type": "execute_result"
        }
      ],
      "source": [
        "#def find_longest_word(s):\n",
        "\n",
        "\n",
        "s=\"Almost everything in python is an object\"\n",
        "words=s.split()\n",
        "len(words)"
      ]
    },
    {
      "cell_type": "code",
      "execution_count": null,
      "metadata": {
        "colab": {
          "base_uri": "https://localhost:8080/"
        },
        "id": "pKnzRJmma4Vo",
        "outputId": "ccb1e09d-6dc1-4987-c3bb-46c77ea09628"
      },
      "outputs": [
        {
          "data": {
            "text/plain": [
              "10"
            ]
          },
          "execution_count": 2,
          "metadata": {},
          "output_type": "execute_result"
        }
      ],
      "source": [
        "def fun(n):\n",
        "  if n==1:\n",
        "    return 1\n",
        "  else:\n",
        "    return 1+fun(n-1)\n",
        "fun(10)\n"
      ]
    },
    {
      "cell_type": "markdown",
      "metadata": {
        "id": "h3vnjHNwLdWu"
      },
      "source": [
        "# Classes\n",
        "\n",
        "*   Almost everything in python is an object, with its properties and methods. A class is like an object constructor, or a 'blueprint' for creating objects.\n",
        "\n",
        "*  To create a car, we can't start building right away. Firstly, we need to create a blueprint of the car.\n",
        "*   In python the class is like the blueprint of the object, car\n",
        "\n",
        "\n",
        "*   The blueprint allows to the create as many cars as it wants. In the same way, we can create as many objects as we want from a class.\n",
        "\n",
        "\n",
        "\n"
      ]
    },
    {
      "cell_type": "code",
      "execution_count": null,
      "metadata": {
        "id": "ImCPNJJ2LHdE"
      },
      "outputs": [],
      "source": [
        "#SYNTAX:\n",
        "#class Classname:\n",
        "  #Statements..\n",
        "\n",
        "class Faculties:\n",
        "  pass\n",
        "\n",
        "print(Faculties)"
      ]
    },
    {
      "cell_type": "markdown",
      "metadata": {
        "id": "A-GEQKJ-ogQX"
      },
      "source": [
        "**Creating Objects in the class**\n",
        "- Also known as object installation\n",
        "- Objects consists of identity, state and behaviour\n",
        "- Identity: name of the object\n",
        "- State: Unique state of object is by creating attributes in the **init**method of the class.\n",
        "- Behaviour: What functions it could perform on attributes."
      ]
    },
    {
      "cell_type": "code",
      "execution_count": null,
      "metadata": {
        "colab": {
          "base_uri": "https://localhost:8080/"
        },
        "id": "RDNbgVtqnezk",
        "outputId": "d552de3f-fb80-4522-f321-d210ee30dc67"
      },
      "outputs": [
        {
          "name": "stdout",
          "output_type": "stream",
          "text": [
            "<__main__.Facaulties object at 0x7fd648e57460>\n"
          ]
        }
      ],
      "source": [
        "#**SYNTAX: ** Objectname = Classname(*args)\n",
        "Rutuja = Facaulties()\n",
        "\n",
        "print(Rutuja)"
      ]
    },
    {
      "cell_type": "code",
      "execution_count": null,
      "metadata": {
        "colab": {
          "base_uri": "https://localhost:8080/"
        },
        "id": "SGg1tLHmqEKb",
        "outputId": "066fdd26-0172-4cf0-9d5c-d8e91da8fe85"
      },
      "outputs": [
        {
          "name": "stdout",
          "output_type": "stream",
          "text": [
            "<class 'int'>\n"
          ]
        }
      ],
      "source": [
        "i = int()\n",
        "print(type(i))"
      ]
    },
    {
      "cell_type": "markdown",
      "metadata": {
        "id": "FqiUOMIsqN4l"
      },
      "source": [
        "- Dot operator(.) helps to access variables and functions inside the class."
      ]
    },
    {
      "cell_type": "code",
      "execution_count": null,
      "metadata": {
        "colab": {
          "base_uri": "https://localhost:8080/",
          "height": 223
        },
        "id": "HI9Vx-kxI6Na",
        "outputId": "765fe2f5-52a4-41cb-f816-9825de4d7c55"
      },
      "outputs": [
        {
          "ename": "TypeError",
          "evalue": "ignored",
          "output_type": "error",
          "traceback": [
            "\u001b[0;31m---------------------------------------------------------------------------\u001b[0m",
            "\u001b[0;31mTypeError\u001b[0m                                 Traceback (most recent call last)",
            "\u001b[0;32m<ipython-input-1-1f781dbfc61d>\u001b[0m in \u001b[0;36m<cell line: 7>\u001b[0;34m()\u001b[0m\n\u001b[1;32m      5\u001b[0m   \u001b[0mqualification\u001b[0m\u001b[0;34m=\u001b[0m\u001b[0;34m'phd'\u001b[0m\u001b[0;34m\u001b[0m\u001b[0;34m\u001b[0m\u001b[0m\n\u001b[1;32m      6\u001b[0m \u001b[0;34m\u001b[0m\u001b[0m\n\u001b[0;32m----> 7\u001b[0;31m \u001b[0mprint\u001b[0m\u001b[0;34m(\u001b[0m\u001b[0mRutuja\u001b[0m \u001b[0;34m=\u001b[0m \u001b[0mFacaulties\u001b[0m\u001b[0;34m(\u001b[0m\u001b[0;34m)\u001b[0m\u001b[0;34m)\u001b[0m\u001b[0;34m\u001b[0m\u001b[0;34m\u001b[0m\u001b[0m\n\u001b[0m\u001b[1;32m      8\u001b[0m \u001b[0mprint\u001b[0m\u001b[0;34m(\u001b[0m\u001b[0mRutuja\u001b[0m\u001b[0;34m.\u001b[0m\u001b[0mqualification\u001b[0m\u001b[0;34m)\u001b[0m\u001b[0;34m\u001b[0m\u001b[0;34m\u001b[0m\u001b[0m\n",
            "\u001b[0;31mTypeError\u001b[0m: 'Rutuja' is an invalid keyword argument for print()"
          ]
        }
      ],
      "source": [
        "#SYNTAX: object_name.attribute_name\n",
        "#SYNTAX: object_name.method_name(*args)\n",
        "\n",
        "class Facaulties:\n",
        "  qualification='phd'\n",
        "\n",
        "print(Rutuja = Facaulties())\n",
        "print(Rutuja.qualification)"
      ]
    },
    {
      "cell_type": "code",
      "execution_count": null,
      "metadata": {
        "colab": {
          "base_uri": "https://localhost:8080/"
        },
        "id": "8PpSUqVRL2TE",
        "outputId": "dbcb1123-a4ac-4b95-9191-bb9ed179513d"
      },
      "outputs": [
        {
          "name": "stdout",
          "output_type": "stream",
          "text": [
            "phd\n",
            "phd\n",
            "phd\n"
          ]
        }
      ],
      "source": [
        "class faculties:\n",
        "  qualification = 'phd'\n",
        "\n",
        "Rutuja = faculties()\n",
        "Pooja = faculties()\n",
        "print(Rutuja.qualification)\n",
        "print(Pooja.qualification)\n",
        "\n",
        "#Its a class attribute:\n",
        "print(faculties.qualification)"
      ]
    },
    {
      "cell_type": "markdown",
      "metadata": {
        "id": "o4XJEi91RVqU"
      },
      "source": [
        "# The init() function\n",
        "We have in built init function for understanding meaning of classes\n",
        "All classes have a function called **__init__** which is always executed when class is being initiated\n",
        "\n",
        "Use the __init__() function to assign values to object properties"
      ]
    },
    {
      "cell_type": "markdown",
      "metadata": {
        "id": "KXHv_Qj3Nymk"
      },
      "source": [
        "The examples above are classes and objects in their simplest form, and are not really useful in real life applications.\n",
        "\n",
        "To understand the meaning of classees we have to understand the built in __init__() function.\n",
        "\n",
        "ALl classes have a function called __init__(), which is always executed when the class is being initiated.\n",
        "\n",
        "Use the __init__() function to assign values to object properties, or other operators that are necessary to do when the object is being created:\n",
        "\n",
        "\n",
        "It is a contructor always called when the onject is created"
      ]
    },
    {
      "cell_type": "code",
      "execution_count": null,
      "metadata": {
        "colab": {
          "base_uri": "https://localhost:8080/"
        },
        "id": "hWY9gAqHPB08",
        "outputId": "818040d4-0fc6-4f29-b0d5-0d143055cf1e"
      },
      "outputs": [
        {
          "name": "stdout",
          "output_type": "stream",
          "text": [
            "John\n",
            "36\n"
          ]
        }
      ],
      "source": [
        "class Person:\n",
        "  def __init__(self, name, age):\n",
        "    self.name = name\n",
        "    self.age = age\n",
        "\n",
        "p1 = Person(\"John\",36)\n",
        "print(p1.name)\n",
        "print(p1.age)"
      ]
    },
    {
      "cell_type": "code",
      "execution_count": null,
      "metadata": {
        "id": "P_LscrcsQLtG"
      },
      "outputs": [],
      "source": [
        "class Complex:\n",
        "  def __init__(self, realpart, imagpart):\n",
        "    self.r = realpart\n",
        "    self.i = imagpart\n"
      ]
    },
    {
      "cell_type": "markdown",
      "metadata": {
        "id": "VdC5fb-dTG91"
      },
      "source": [
        "# The self parameter"
      ]
    },
    {
      "cell_type": "markdown",
      "metadata": {
        "id": "cyFK9NJ6TLQk"
      },
      "source": [
        "The self parameter is a reference to the current instance of the class, and is used to access variables that belongs to the class.\n",
        "\n",
        "It does not have to be named self , you can call it whatever you like, but it has to be the first parameter of any function in the class:"
      ]
    },
    {
      "cell_type": "code",
      "execution_count": null,
      "metadata": {
        "colab": {
          "base_uri": "https://localhost:8080/"
        },
        "id": "_KrbF2NwTOpP",
        "outputId": "468a2d5c-7a57-4a2c-8e47-9a87f1931589"
      },
      "outputs": [
        {
          "name": "stdout",
          "output_type": "stream",
          "text": [
            "Hello my name is John\n"
          ]
        }
      ],
      "source": [
        "class Person:\n",
        "  def __init__(mysillyobject, name, age):\n",
        "    mysillyobject.name = name\n",
        "    mysillyobject.age = age\n",
        "\n",
        "  def myfunc(abc):\n",
        "    print(\"Hello my name is \" + abc.name)\n",
        "\n",
        "p1 = Person(\"John\", 36)\n",
        "p1.myfunc()"
      ]
    },
    {
      "cell_type": "markdown",
      "metadata": {
        "id": "EtwMuYtHZhd5"
      },
      "source": []
    },
    {
      "cell_type": "code",
      "execution_count": null,
      "metadata": {
        "colab": {
          "base_uri": "https://localhost:8080/"
        },
        "id": "fDI-aLiUNwHd",
        "outputId": "9d53946a-d99a-4851-8c01-3ed3edd40408"
      },
      "outputs": [
        {
          "name": "stdout",
          "output_type": "stream",
          "text": [
            "The qualification is PHD\n",
            "The Branch is CSE\n",
            "The faculty room no. is F-10\n"
          ]
        }
      ],
      "source": [
        "class Faculties:\n",
        "  qualification='PHD'       #class variable\n",
        "  def __init__(self,faculty_room_no):\n",
        "    self.branch='CSE'        #instance object(works as default arguments)\n",
        "    self.faculty_room_no=faculty_room_no       #instance variable\n",
        "  def Display(self):\n",
        "    print(\"The qualification is\",self.qualification)\n",
        "    print(\"The Branch is\",self.branch)\n",
        "    print(\"The faculty room no. is\",self.faculty_room_no)\n",
        "\n",
        "#Object of class Faculties\n",
        "Saral=Faculties('F-10')\n",
        "Saral.Display()           #This is equivalent to Faculties>display(Saral)"
      ]
    },
    {
      "cell_type": "code",
      "execution_count": null,
      "metadata": {
        "id": "UZQKHBnFdI9J"
      },
      "outputs": [],
      "source": []
    },
    {
      "cell_type": "code",
      "execution_count": null,
      "metadata": {
        "colab": {
          "base_uri": "https://localhost:8080/"
        },
        "id": "CTO9qYqncM3b",
        "outputId": "789bc812-82b6-48a4-98e2-b2ed1359e80d"
      },
      "outputs": [
        {
          "name": "stdout",
          "output_type": "stream",
          "text": [
            "The qualification is  phD\n",
            "The branch is  CSE\n",
            "The faculty room number is  G11\n"
          ]
        }
      ],
      "source": [
        "class Faculties:\n",
        "  qualification = 'phD'\n",
        "  def __init__(any_name, faculty_room_no):\n",
        "    any_name.branch = 'CSE'\n",
        "    any_name.faculty_room_no = faculty_room_no\n",
        "  def Display(var):\n",
        "    print('The qualification is ', var.qualification)\n",
        "    print('The branch is ', var.branch)\n",
        "    print('The faculty room number is ', var.faculty_room_no)\n",
        "  def __del__(self):\n",
        "    print('The object is deleted')\n",
        "\n",
        "Pooja = Faculties('G11')\n",
        "Pooja.Display()"
      ]
    },
    {
      "cell_type": "code",
      "execution_count": null,
      "metadata": {
        "colab": {
          "base_uri": "https://localhost:8080/"
        },
        "id": "zIbUEQUnZ1OW",
        "outputId": "6785db3b-982f-4a70-ada4-5ef096b3933c"
      },
      "outputs": [
        {
          "name": "stdout",
          "output_type": "stream",
          "text": [
            "The college name is : sit\n",
            "The college name is : 987654321\n"
          ]
        }
      ],
      "source": [
        "class Student:\n",
        "  college='sit'\n",
        "  c_fees=987654321\n",
        "\n",
        "  def display(self):\n",
        "    print('The college name is :',self.college)\n",
        "    print('The college name is :',self.c_fees)\n",
        "krutika=Student()\n",
        "krutika.display()\n",
        "\n"
      ]
    },
    {
      "cell_type": "code",
      "execution_count": null,
      "metadata": {
        "colab": {
          "base_uri": "https://localhost:8080/"
        },
        "id": "GDEnL3zkixsB",
        "outputId": "6c3a9003-c824-478a-a806-021325e1a805"
      },
      "outputs": [
        {
          "name": "stdout",
          "output_type": "stream",
          "text": [
            "The hostel fees is 0.45\n",
            "The hostel fees is cse\n",
            "The hostel fees is 9/11\n"
          ]
        }
      ],
      "source": [
        "class Hosteler:\n",
        "  h_fees=0.45\n",
        "  def __init__(any_name,hostel_room_no):\n",
        "    any_name.branch='cse'\n",
        "    any_name.hostel_room_no=hostel_room_no\n",
        "  def display(var):\n",
        "    print('The hostel fees is',var.h_fees)\n",
        "    print('The hostel fees is',var.branch)\n",
        "    print('The hostel fees is',var.hostel_room_no)\n",
        "s1=Hosteler('9/11')\n",
        "s1.display()"
      ]
    },
    {
      "cell_type": "markdown",
      "metadata": {
        "id": "fcOx7gg4oYwk"
      },
      "source": [
        "# Multiple and Multilevel Inheritance\n",
        "Multilevel\n",
        "1]"
      ]
    },
    {
      "cell_type": "code",
      "execution_count": null,
      "metadata": {
        "colab": {
          "base_uri": "https://localhost:8080/"
        },
        "id": "OiVacVpCoWpe",
        "outputId": "41703ec5-de0a-42d5-fe4b-07ea9b211ba9"
      },
      "outputs": [
        {
          "name": "stdout",
          "output_type": "stream",
          "text": [
            "Inside Grandchild\n",
            "Inside parent\n"
          ]
        }
      ],
      "source": [
        "class Parent():\n",
        "  def display(self):\n",
        "    print(\"Inside parent\")\n",
        "    #inherited or sub class\n",
        "class Child(Parent):\n",
        "#childs show method\n",
        "   def show(self):\n",
        "    print(\"Inside class\")\n",
        "class Grandchild(Child):\n",
        "  #childs show method\n",
        "  def show(self):\n",
        "    print(\"Inside Grandchild\")\n",
        "g=Grandchild()\n",
        "g.show()\n",
        "g.display()\n",
        "\n",
        "\n"
      ]
    },
    {
      "cell_type": "code",
      "execution_count": null,
      "metadata": {
        "colab": {
          "base_uri": "https://localhost:8080/"
        },
        "id": "cyjiSGGvsB3z",
        "outputId": "7d8e193e-2c3e-40af-deb5-70fbc4b8861d"
      },
      "outputs": [
        {
          "name": "stdout",
          "output_type": "stream",
          "text": [
            "Weight: selfweight\n",
            "Specification: Generator\n",
            "Automatic\n"
          ]
        }
      ],
      "source": [
        "class Machine:\n",
        "  def __init__(self,weight,specifications):\n",
        "    self.weight=\"60\"\n",
        "    self.specifications='Generator'\n",
        "\n",
        "  def TYPE(self):\n",
        "    print(\"Automatic\")\n",
        "#machine = Machine(60,\"Generator\")\n",
        "print('Weight:',Machine.weight)\n",
        "print('Specification:',Machine.specifications)\n",
        "machine.TYPE()\n"
      ]
    },
    {
      "cell_type": "code",
      "execution_count": null,
      "metadata": {
        "colab": {
          "base_uri": "https://localhost:8080/"
        },
        "id": "1wx1phHESbxT",
        "outputId": "29bd261f-a338-411f-fedf-621c3abdd2dc"
      },
      "outputs": [
        {
          "name": "stdout",
          "output_type": "stream",
          "text": [
            "weight Generator\n",
            "machine information\n",
            "weight 60\n",
            "specification Generator\n"
          ]
        }
      ],
      "source": [
        "class Machine:\n",
        "    def __init__(self,weight,specifications):\n",
        "        self.weight= weight\n",
        "        self.specifications= specifications\n",
        "\n",
        "    def TYPE(self):\n",
        "        print(\"machine information\")\n",
        "        print(\"weight\",self.weight)\n",
        "        print(\"specification\",self.specifications)\n",
        "\n",
        "machine = Machine(60,\"Generator\")\n",
        "print(\"weight\",machine.specifications)\n",
        "machine.TYPE()\n",
        "\n"
      ]
    },
    {
      "cell_type": "code",
      "execution_count": null,
      "metadata": {
        "colab": {
          "background_save": true,
          "base_uri": "https://localhost:8080/",
          "height": 241
        },
        "id": "kT_ccOLhjEv3",
        "outputId": "14539720-0c1f-48aa-f515-e941081e7b63"
      },
      "outputs": [
        {
          "ename": "SyntaxError",
          "evalue": "ignored",
          "output_type": "error",
          "traceback": [
            "\u001b[0;36m  File \u001b[0;32m\"<ipython-input-11-843c37f9baaa>\"\u001b[0;36m, line \u001b[0;32m26\u001b[0m\n\u001b[0;31m    self.flyingheight=\"1000 m\u001b[0m\n\u001b[0m                      ^\u001b[0m\n\u001b[0;31mSyntaxError\u001b[0m\u001b[0;31m:\u001b[0m unterminated string literal (detected at line 26)\n"
          ]
        }
      ],
      "source": [
        "class BIRD:\n",
        "    def __init__(self,color,weight,behaviour,fly):\n",
        "        self.color=color\n",
        "        self.weight=weight\n",
        "        self.behaviour=behaviour\n",
        "        self.fly=fly\n",
        "\n",
        "class peacock(BIRD):\n",
        "    def __init__(self,color,weight,behaviour,fly):\n",
        "        self.color=color\n",
        "        self.weight=weight\n",
        "        self.behaviour=behaviour\n",
        "        self.fly=fly\n",
        "    def flyingheight(self):\n",
        "        self.flyingheight=\"10 m\"\n",
        "\n",
        "class eagle(BIRD):\n",
        "    def __init__(self,color,weight,behaviour,fly):\n",
        "        self.color=color\n",
        "        self.weight=weight\n",
        "        self.behaviour=behaviour\n",
        "        self.fly=fly\n",
        "\n",
        "    def flyingheight(self):\n",
        "        print(\"\",self.flyingheight=\"1000 m\"\n",
        "\n",
        "pea=peacock(\"blue\",100,\"shy\",\"flying\")\n",
        "eag=eagle(\"brown\",25,\"brave\",\"flying\")\n",
        "\n",
        "print(\"Peacock attributes:\")\n",
        "print(\"Color:\", pea.color)\n",
        "print(\"Weight:\", pea.weight)\n",
        "print(\"Behaviour:\", pea.behaviour)\n",
        "print(\"Fly:\", pea.fly)\n",
        "print(\"Flying Height:\", pea.flyingheight())\n",
        "\n",
        "print(\"Eagle attributes:\")\n",
        "print(\"Color:\", eag.color)\n",
        "print(\"Weight:\", eag.weight)\n",
        "print(\"Behaviour:\", eag.behaviour)\n",
        "print(\"Fly:\", eag.fly)\n",
        "print(\"Flying Height:\", eag.flyingheight())"
      ]
    },
    {
      "cell_type": "code",
      "execution_count": null,
      "metadata": {
        "id": "59av14Ct1cGY"
      },
      "outputs": [],
      "source": []
    },
    {
      "cell_type": "code",
      "execution_count": null,
      "metadata": {
        "colab": {
          "base_uri": "https://localhost:8080/"
        },
        "id": "xesiQ7MBLeJR",
        "outputId": "3aa421ae-fac2-40fd-dc11-be40f0017b8a"
      },
      "outputs": [
        {
          "name": "stdout",
          "output_type": "stream",
          "text": [
            "Peacock Colour: Blue\n",
            "Peacock Weight: 5\n",
            "The bird can fly\n",
            "Flying height of the peacock:  10 ft\n",
            "Eagle Colour: Brown\n",
            "Eagle Weight: 7\n",
            "The bird can fly\n",
            "Flying height of the eagle:  15 ft\n"
          ]
        }
      ],
      "source": [
        "class Bird:\n",
        "    def __init__(self, colour, weight):\n",
        "        self.colour = colour\n",
        "        self.weight = weight\n",
        "\n",
        "    def fly(self):\n",
        "        print(\"The bird can fly\")\n",
        "\n",
        "class Peacock(Bird):\n",
        "    def __init__(self, colour, weight, flying_height):\n",
        "        super().__init__(colour, weight)\n",
        "        self.flying_height = flying_height\n",
        "\n",
        "    def print_flying_height(self):\n",
        "        print(\"Flying height of the peacock: \", self.flying_height)\n",
        "\n",
        "class Eagle(Bird):\n",
        "    def __init__(self, colour, weight, flying_height):\n",
        "        super().__init__(colour, weight)\n",
        "        self.flying_height = flying_height\n",
        "\n",
        "    def print_flying_height(self):\n",
        "        print(\"Flying height of the eagle: \", self.flying_height)\n",
        "peacock = Peacock(\"Blue\", 5, \"10 ft\")\n",
        "eagle = Eagle(\"Brown\", 7, \"15 ft\")\n",
        "print(\"Peacock Colour:\", peacock.colour)\n",
        "print(\"Peacock Weight:\", peacock.weight)\n",
        "peacock.fly()\n",
        "peacock.print_flying_height()\n",
        "print(\"Eagle Colour:\", eagle.colour)\n",
        "print(\"Eagle Weight:\", eagle.weight)\n",
        "eagle.fly()\n",
        "eagle.print_flying_height()"
      ]
    },
    {
      "cell_type": "markdown",
      "metadata": {
        "id": "BLn6RSg2_6jq"
      },
      "source": [
        "# AI-ML"
      ]
    },
    {
      "cell_type": "code",
      "execution_count": null,
      "metadata": {
        "id": "NxVCGGkf_5qR"
      },
      "outputs": [],
      "source": [
        "import pandas as pd"
      ]
    },
    {
      "cell_type": "code",
      "execution_count": null,
      "metadata": {
        "id": "0AlJPLjzCXaU"
      },
      "outputs": [],
      "source": [
        "import numpy as np"
      ]
    },
    {
      "cell_type": "code",
      "execution_count": null,
      "metadata": {
        "colab": {
          "base_uri": "https://localhost:8080/"
        },
        "id": "j_aMzn8dCmvg",
        "outputId": "e5d0d159-8779-47e5-de06-5787060bb249"
      },
      "outputs": [
        {
          "name": "stdout",
          "output_type": "stream",
          "text": [
            "Drive already mounted at /content/drive; to attempt to forcibly remount, call drive.mount(\"/content/drive\", force_remount=True).\n"
          ]
        }
      ],
      "source": [
        "from google.colab import drive\n",
        "drive.mount('/content/drive')"
      ]
    },
    {
      "cell_type": "code",
      "execution_count": null,
      "metadata": {
        "id": "1x9T3n-KCa2H"
      },
      "outputs": [],
      "source": [
        "df=pd.read_csv('/content/Social_Network_Ads1.csv')"
      ]
    },
    {
      "cell_type": "code",
      "execution_count": null,
      "metadata": {
        "colab": {
          "base_uri": "https://localhost:8080/",
          "height": 206
        },
        "id": "BNsEhBqeDvaT",
        "outputId": "e1b9996a-05a0-49e7-dc94-11d3a38ce209"
      },
      "outputs": [
        {
          "data": {
            "text/html": [
              "\n",
              "  <div id=\"df-becd975c-79c4-42a6-b97e-8b3064e40604\">\n",
              "    <div class=\"colab-df-container\">\n",
              "      <div>\n",
              "<style scoped>\n",
              "    .dataframe tbody tr th:only-of-type {\n",
              "        vertical-align: middle;\n",
              "    }\n",
              "\n",
              "    .dataframe tbody tr th {\n",
              "        vertical-align: top;\n",
              "    }\n",
              "\n",
              "    .dataframe thead th {\n",
              "        text-align: right;\n",
              "    }\n",
              "</style>\n",
              "<table border=\"1\" class=\"dataframe\">\n",
              "  <thead>\n",
              "    <tr style=\"text-align: right;\">\n",
              "      <th></th>\n",
              "      <th>Age</th>\n",
              "      <th>EstimatedSalary</th>\n",
              "      <th>Purchased</th>\n",
              "    </tr>\n",
              "  </thead>\n",
              "  <tbody>\n",
              "    <tr>\n",
              "      <th>0</th>\n",
              "      <td>19.0</td>\n",
              "      <td>19000.0</td>\n",
              "      <td>0</td>\n",
              "    </tr>\n",
              "    <tr>\n",
              "      <th>1</th>\n",
              "      <td>35.0</td>\n",
              "      <td>20000.0</td>\n",
              "      <td>0</td>\n",
              "    </tr>\n",
              "    <tr>\n",
              "      <th>2</th>\n",
              "      <td>26.0</td>\n",
              "      <td>43000.0</td>\n",
              "      <td>0</td>\n",
              "    </tr>\n",
              "    <tr>\n",
              "      <th>3</th>\n",
              "      <td>27.0</td>\n",
              "      <td>57000.0</td>\n",
              "      <td>0</td>\n",
              "    </tr>\n",
              "    <tr>\n",
              "      <th>4</th>\n",
              "      <td>NaN</td>\n",
              "      <td>76000.0</td>\n",
              "      <td>0</td>\n",
              "    </tr>\n",
              "  </tbody>\n",
              "</table>\n",
              "</div>\n",
              "      <button class=\"colab-df-convert\" onclick=\"convertToInteractive('df-becd975c-79c4-42a6-b97e-8b3064e40604')\"\n",
              "              title=\"Convert this dataframe to an interactive table.\"\n",
              "              style=\"display:none;\">\n",
              "        \n",
              "  <svg xmlns=\"http://www.w3.org/2000/svg\" height=\"24px\"viewBox=\"0 0 24 24\"\n",
              "       width=\"24px\">\n",
              "    <path d=\"M0 0h24v24H0V0z\" fill=\"none\"/>\n",
              "    <path d=\"M18.56 5.44l.94 2.06.94-2.06 2.06-.94-2.06-.94-.94-2.06-.94 2.06-2.06.94zm-11 1L8.5 8.5l.94-2.06 2.06-.94-2.06-.94L8.5 2.5l-.94 2.06-2.06.94zm10 10l.94 2.06.94-2.06 2.06-.94-2.06-.94-.94-2.06-.94 2.06-2.06.94z\"/><path d=\"M17.41 7.96l-1.37-1.37c-.4-.4-.92-.59-1.43-.59-.52 0-1.04.2-1.43.59L10.3 9.45l-7.72 7.72c-.78.78-.78 2.05 0 2.83L4 21.41c.39.39.9.59 1.41.59.51 0 1.02-.2 1.41-.59l7.78-7.78 2.81-2.81c.8-.78.8-2.07 0-2.86zM5.41 20L4 18.59l7.72-7.72 1.47 1.35L5.41 20z\"/>\n",
              "  </svg>\n",
              "      </button>\n",
              "      \n",
              "  <style>\n",
              "    .colab-df-container {\n",
              "      display:flex;\n",
              "      flex-wrap:wrap;\n",
              "      gap: 12px;\n",
              "    }\n",
              "\n",
              "    .colab-df-convert {\n",
              "      background-color: #E8F0FE;\n",
              "      border: none;\n",
              "      border-radius: 50%;\n",
              "      cursor: pointer;\n",
              "      display: none;\n",
              "      fill: #1967D2;\n",
              "      height: 32px;\n",
              "      padding: 0 0 0 0;\n",
              "      width: 32px;\n",
              "    }\n",
              "\n",
              "    .colab-df-convert:hover {\n",
              "      background-color: #E2EBFA;\n",
              "      box-shadow: 0px 1px 2px rgba(60, 64, 67, 0.3), 0px 1px 3px 1px rgba(60, 64, 67, 0.15);\n",
              "      fill: #174EA6;\n",
              "    }\n",
              "\n",
              "    [theme=dark] .colab-df-convert {\n",
              "      background-color: #3B4455;\n",
              "      fill: #D2E3FC;\n",
              "    }\n",
              "\n",
              "    [theme=dark] .colab-df-convert:hover {\n",
              "      background-color: #434B5C;\n",
              "      box-shadow: 0px 1px 3px 1px rgba(0, 0, 0, 0.15);\n",
              "      filter: drop-shadow(0px 1px 2px rgba(0, 0, 0, 0.3));\n",
              "      fill: #FFFFFF;\n",
              "    }\n",
              "  </style>\n",
              "\n",
              "      <script>\n",
              "        const buttonEl =\n",
              "          document.querySelector('#df-becd975c-79c4-42a6-b97e-8b3064e40604 button.colab-df-convert');\n",
              "        buttonEl.style.display =\n",
              "          google.colab.kernel.accessAllowed ? 'block' : 'none';\n",
              "\n",
              "        async function convertToInteractive(key) {\n",
              "          const element = document.querySelector('#df-becd975c-79c4-42a6-b97e-8b3064e40604');\n",
              "          const dataTable =\n",
              "            await google.colab.kernel.invokeFunction('convertToInteractive',\n",
              "                                                     [key], {});\n",
              "          if (!dataTable) return;\n",
              "\n",
              "          const docLinkHtml = 'Like what you see? Visit the ' +\n",
              "            '<a target=\"_blank\" href=https://colab.research.google.com/notebooks/data_table.ipynb>data table notebook</a>'\n",
              "            + ' to learn more about interactive tables.';\n",
              "          element.innerHTML = '';\n",
              "          dataTable['output_type'] = 'display_data';\n",
              "          await google.colab.output.renderOutput(dataTable, element);\n",
              "          const docLink = document.createElement('div');\n",
              "          docLink.innerHTML = docLinkHtml;\n",
              "          element.appendChild(docLink);\n",
              "        }\n",
              "      </script>\n",
              "    </div>\n",
              "  </div>\n",
              "  "
            ],
            "text/plain": [
              "    Age  EstimatedSalary  Purchased\n",
              "0  19.0          19000.0          0\n",
              "1  35.0          20000.0          0\n",
              "2  26.0          43000.0          0\n",
              "3  27.0          57000.0          0\n",
              "4   NaN          76000.0          0"
            ]
          },
          "execution_count": 48,
          "metadata": {},
          "output_type": "execute_result"
        }
      ],
      "source": [
        "df.head()"
      ]
    },
    {
      "cell_type": "code",
      "execution_count": null,
      "metadata": {
        "id": "qJT1GPueEJiy"
      },
      "outputs": [],
      "source": [
        "X=df[['Age','EstimatedSalary']]\n",
        "y=df['Purchased']"
      ]
    },
    {
      "cell_type": "code",
      "execution_count": null,
      "metadata": {
        "id": "LHpz5msEEleP"
      },
      "outputs": [],
      "source": [
        "from sklearn.model_selection import train_test_split"
      ]
    },
    {
      "cell_type": "code",
      "execution_count": null,
      "metadata": {
        "id": "-RPl5OUlFESR"
      },
      "outputs": [],
      "source": [
        "X_train,X_test,y_train,y_test=train_test_split(X,y,test_size=0.30)"
      ]
    },
    {
      "cell_type": "code",
      "execution_count": null,
      "metadata": {
        "colab": {
          "base_uri": "https://localhost:8080/"
        },
        "id": "ZmhU9729Fqnh",
        "outputId": "a1fc5c20-1c9c-4c2f-ef11-662a92a95eb7"
      },
      "outputs": [
        {
          "data": {
            "text/plain": [
              "(280, 2)"
            ]
          },
          "execution_count": 52,
          "metadata": {},
          "output_type": "execute_result"
        }
      ],
      "source": [
        "X_train.shape"
      ]
    },
    {
      "cell_type": "code",
      "execution_count": null,
      "metadata": {
        "colab": {
          "base_uri": "https://localhost:8080/"
        },
        "id": "dvQeiGgRFvm_",
        "outputId": "af66c60e-edbc-4e87-d97b-13e5de97d868"
      },
      "outputs": [
        {
          "data": {
            "text/plain": [
              "Age                0\n",
              "EstimatedSalary    1\n",
              "dtype: int64"
            ]
          },
          "execution_count": 53,
          "metadata": {},
          "output_type": "execute_result"
        }
      ],
      "source": [
        "X_train.isna().sum()"
      ]
    },
    {
      "cell_type": "code",
      "execution_count": null,
      "metadata": {
        "id": "gDTJWVUfGI_o"
      },
      "outputs": [],
      "source": [
        "from sklearn.impute import SimpleImputer"
      ]
    },
    {
      "cell_type": "code",
      "execution_count": null,
      "metadata": {
        "id": "Ot0qoezmGc5e"
      },
      "outputs": [],
      "source": [
        "imputer=SimpleImputer(missing_values=np.nan,strategy='mean')"
      ]
    },
    {
      "cell_type": "code",
      "execution_count": null,
      "metadata": {
        "colab": {
          "base_uri": "https://localhost:8080/",
          "height": 74
        },
        "id": "gI-v7T-2GwBM",
        "outputId": "1ef8868a-986f-47ad-87c3-c82082867967"
      },
      "outputs": [
        {
          "data": {
            "text/html": [
              "<style>#sk-container-id-6 {color: black;background-color: white;}#sk-container-id-6 pre{padding: 0;}#sk-container-id-6 div.sk-toggleable {background-color: white;}#sk-container-id-6 label.sk-toggleable__label {cursor: pointer;display: block;width: 100%;margin-bottom: 0;padding: 0.3em;box-sizing: border-box;text-align: center;}#sk-container-id-6 label.sk-toggleable__label-arrow:before {content: \"▸\";float: left;margin-right: 0.25em;color: #696969;}#sk-container-id-6 label.sk-toggleable__label-arrow:hover:before {color: black;}#sk-container-id-6 div.sk-estimator:hover label.sk-toggleable__label-arrow:before {color: black;}#sk-container-id-6 div.sk-toggleable__content {max-height: 0;max-width: 0;overflow: hidden;text-align: left;background-color: #f0f8ff;}#sk-container-id-6 div.sk-toggleable__content pre {margin: 0.2em;color: black;border-radius: 0.25em;background-color: #f0f8ff;}#sk-container-id-6 input.sk-toggleable__control:checked~div.sk-toggleable__content {max-height: 200px;max-width: 100%;overflow: auto;}#sk-container-id-6 input.sk-toggleable__control:checked~label.sk-toggleable__label-arrow:before {content: \"▾\";}#sk-container-id-6 div.sk-estimator input.sk-toggleable__control:checked~label.sk-toggleable__label {background-color: #d4ebff;}#sk-container-id-6 div.sk-label input.sk-toggleable__control:checked~label.sk-toggleable__label {background-color: #d4ebff;}#sk-container-id-6 input.sk-hidden--visually {border: 0;clip: rect(1px 1px 1px 1px);clip: rect(1px, 1px, 1px, 1px);height: 1px;margin: -1px;overflow: hidden;padding: 0;position: absolute;width: 1px;}#sk-container-id-6 div.sk-estimator {font-family: monospace;background-color: #f0f8ff;border: 1px dotted black;border-radius: 0.25em;box-sizing: border-box;margin-bottom: 0.5em;}#sk-container-id-6 div.sk-estimator:hover {background-color: #d4ebff;}#sk-container-id-6 div.sk-parallel-item::after {content: \"\";width: 100%;border-bottom: 1px solid gray;flex-grow: 1;}#sk-container-id-6 div.sk-label:hover label.sk-toggleable__label {background-color: #d4ebff;}#sk-container-id-6 div.sk-serial::before {content: \"\";position: absolute;border-left: 1px solid gray;box-sizing: border-box;top: 0;bottom: 0;left: 50%;z-index: 0;}#sk-container-id-6 div.sk-serial {display: flex;flex-direction: column;align-items: center;background-color: white;padding-right: 0.2em;padding-left: 0.2em;position: relative;}#sk-container-id-6 div.sk-item {position: relative;z-index: 1;}#sk-container-id-6 div.sk-parallel {display: flex;align-items: stretch;justify-content: center;background-color: white;position: relative;}#sk-container-id-6 div.sk-item::before, #sk-container-id-6 div.sk-parallel-item::before {content: \"\";position: absolute;border-left: 1px solid gray;box-sizing: border-box;top: 0;bottom: 0;left: 50%;z-index: -1;}#sk-container-id-6 div.sk-parallel-item {display: flex;flex-direction: column;z-index: 1;position: relative;background-color: white;}#sk-container-id-6 div.sk-parallel-item:first-child::after {align-self: flex-end;width: 50%;}#sk-container-id-6 div.sk-parallel-item:last-child::after {align-self: flex-start;width: 50%;}#sk-container-id-6 div.sk-parallel-item:only-child::after {width: 0;}#sk-container-id-6 div.sk-dashed-wrapped {border: 1px dashed gray;margin: 0 0.4em 0.5em 0.4em;box-sizing: border-box;padding-bottom: 0.4em;background-color: white;}#sk-container-id-6 div.sk-label label {font-family: monospace;font-weight: bold;display: inline-block;line-height: 1.2em;}#sk-container-id-6 div.sk-label-container {text-align: center;}#sk-container-id-6 div.sk-container {/* jupyter's `normalize.less` sets `[hidden] { display: none; }` but bootstrap.min.css set `[hidden] { display: none !important; }` so we also need the `!important` here to be able to override the default hidden behavior on the sphinx rendered scikit-learn.org. See: https://github.com/scikit-learn/scikit-learn/issues/21755 */display: inline-block !important;position: relative;}#sk-container-id-6 div.sk-text-repr-fallback {display: none;}</style><div id=\"sk-container-id-6\" class=\"sk-top-container\"><div class=\"sk-text-repr-fallback\"><pre>SimpleImputer()</pre><b>In a Jupyter environment, please rerun this cell to show the HTML representation or trust the notebook. <br />On GitHub, the HTML representation is unable to render, please try loading this page with nbviewer.org.</b></div><div class=\"sk-container\" hidden><div class=\"sk-item\"><div class=\"sk-estimator sk-toggleable\"><input class=\"sk-toggleable__control sk-hidden--visually\" id=\"sk-estimator-id-6\" type=\"checkbox\" checked><label for=\"sk-estimator-id-6\" class=\"sk-toggleable__label sk-toggleable__label-arrow\">SimpleImputer</label><div class=\"sk-toggleable__content\"><pre>SimpleImputer()</pre></div></div></div></div></div>"
            ],
            "text/plain": [
              "SimpleImputer()"
            ]
          },
          "execution_count": 55,
          "metadata": {},
          "output_type": "execute_result"
        }
      ],
      "source": [
        "imputer.fit(X_train[[\"Age\",\"EstimatedSalary\"]])"
      ]
    },
    {
      "cell_type": "code",
      "execution_count": null,
      "metadata": {
        "id": "ctUkFvXiG_64"
      },
      "outputs": [],
      "source": [
        "X_train[['Age','EstimatedSalary']]=imputer.transform(X_train[[\"Age\",\"EstimatedSalary\"]])"
      ]
    },
    {
      "cell_type": "code",
      "execution_count": null,
      "metadata": {
        "id": "7VlZL1GvIOjJ"
      },
      "outputs": [],
      "source": [
        "from sklearn import preprocessing"
      ]
    },
    {
      "cell_type": "code",
      "execution_count": null,
      "metadata": {
        "id": "rZwfcki1IXbn"
      },
      "outputs": [],
      "source": [
        "from sklearn.preprocessing import MinMaxScaler"
      ]
    },
    {
      "cell_type": "code",
      "execution_count": null,
      "metadata": {
        "id": "XZoLtBykI7cj"
      },
      "outputs": [],
      "source": [
        "scalar=MinMaxScaler()"
      ]
    },
    {
      "cell_type": "code",
      "execution_count": null,
      "metadata": {
        "colab": {
          "base_uri": "https://localhost:8080/",
          "height": 74
        },
        "id": "kTWP25PlJCMs",
        "outputId": "be413ec2-62c6-4bbb-97e9-3963243e4c40"
      },
      "outputs": [
        {
          "data": {
            "text/html": [
              "<style>#sk-container-id-7 {color: black;background-color: white;}#sk-container-id-7 pre{padding: 0;}#sk-container-id-7 div.sk-toggleable {background-color: white;}#sk-container-id-7 label.sk-toggleable__label {cursor: pointer;display: block;width: 100%;margin-bottom: 0;padding: 0.3em;box-sizing: border-box;text-align: center;}#sk-container-id-7 label.sk-toggleable__label-arrow:before {content: \"▸\";float: left;margin-right: 0.25em;color: #696969;}#sk-container-id-7 label.sk-toggleable__label-arrow:hover:before {color: black;}#sk-container-id-7 div.sk-estimator:hover label.sk-toggleable__label-arrow:before {color: black;}#sk-container-id-7 div.sk-toggleable__content {max-height: 0;max-width: 0;overflow: hidden;text-align: left;background-color: #f0f8ff;}#sk-container-id-7 div.sk-toggleable__content pre {margin: 0.2em;color: black;border-radius: 0.25em;background-color: #f0f8ff;}#sk-container-id-7 input.sk-toggleable__control:checked~div.sk-toggleable__content {max-height: 200px;max-width: 100%;overflow: auto;}#sk-container-id-7 input.sk-toggleable__control:checked~label.sk-toggleable__label-arrow:before {content: \"▾\";}#sk-container-id-7 div.sk-estimator input.sk-toggleable__control:checked~label.sk-toggleable__label {background-color: #d4ebff;}#sk-container-id-7 div.sk-label input.sk-toggleable__control:checked~label.sk-toggleable__label {background-color: #d4ebff;}#sk-container-id-7 input.sk-hidden--visually {border: 0;clip: rect(1px 1px 1px 1px);clip: rect(1px, 1px, 1px, 1px);height: 1px;margin: -1px;overflow: hidden;padding: 0;position: absolute;width: 1px;}#sk-container-id-7 div.sk-estimator {font-family: monospace;background-color: #f0f8ff;border: 1px dotted black;border-radius: 0.25em;box-sizing: border-box;margin-bottom: 0.5em;}#sk-container-id-7 div.sk-estimator:hover {background-color: #d4ebff;}#sk-container-id-7 div.sk-parallel-item::after {content: \"\";width: 100%;border-bottom: 1px solid gray;flex-grow: 1;}#sk-container-id-7 div.sk-label:hover label.sk-toggleable__label {background-color: #d4ebff;}#sk-container-id-7 div.sk-serial::before {content: \"\";position: absolute;border-left: 1px solid gray;box-sizing: border-box;top: 0;bottom: 0;left: 50%;z-index: 0;}#sk-container-id-7 div.sk-serial {display: flex;flex-direction: column;align-items: center;background-color: white;padding-right: 0.2em;padding-left: 0.2em;position: relative;}#sk-container-id-7 div.sk-item {position: relative;z-index: 1;}#sk-container-id-7 div.sk-parallel {display: flex;align-items: stretch;justify-content: center;background-color: white;position: relative;}#sk-container-id-7 div.sk-item::before, #sk-container-id-7 div.sk-parallel-item::before {content: \"\";position: absolute;border-left: 1px solid gray;box-sizing: border-box;top: 0;bottom: 0;left: 50%;z-index: -1;}#sk-container-id-7 div.sk-parallel-item {display: flex;flex-direction: column;z-index: 1;position: relative;background-color: white;}#sk-container-id-7 div.sk-parallel-item:first-child::after {align-self: flex-end;width: 50%;}#sk-container-id-7 div.sk-parallel-item:last-child::after {align-self: flex-start;width: 50%;}#sk-container-id-7 div.sk-parallel-item:only-child::after {width: 0;}#sk-container-id-7 div.sk-dashed-wrapped {border: 1px dashed gray;margin: 0 0.4em 0.5em 0.4em;box-sizing: border-box;padding-bottom: 0.4em;background-color: white;}#sk-container-id-7 div.sk-label label {font-family: monospace;font-weight: bold;display: inline-block;line-height: 1.2em;}#sk-container-id-7 div.sk-label-container {text-align: center;}#sk-container-id-7 div.sk-container {/* jupyter's `normalize.less` sets `[hidden] { display: none; }` but bootstrap.min.css set `[hidden] { display: none !important; }` so we also need the `!important` here to be able to override the default hidden behavior on the sphinx rendered scikit-learn.org. See: https://github.com/scikit-learn/scikit-learn/issues/21755 */display: inline-block !important;position: relative;}#sk-container-id-7 div.sk-text-repr-fallback {display: none;}</style><div id=\"sk-container-id-7\" class=\"sk-top-container\"><div class=\"sk-text-repr-fallback\"><pre>MinMaxScaler()</pre><b>In a Jupyter environment, please rerun this cell to show the HTML representation or trust the notebook. <br />On GitHub, the HTML representation is unable to render, please try loading this page with nbviewer.org.</b></div><div class=\"sk-container\" hidden><div class=\"sk-item\"><div class=\"sk-estimator sk-toggleable\"><input class=\"sk-toggleable__control sk-hidden--visually\" id=\"sk-estimator-id-7\" type=\"checkbox\" checked><label for=\"sk-estimator-id-7\" class=\"sk-toggleable__label sk-toggleable__label-arrow\">MinMaxScaler</label><div class=\"sk-toggleable__content\"><pre>MinMaxScaler()</pre></div></div></div></div></div>"
            ],
            "text/plain": [
              "MinMaxScaler()"
            ]
          },
          "execution_count": 60,
          "metadata": {},
          "output_type": "execute_result"
        }
      ],
      "source": [
        "scalar.fit(X_train)"
      ]
    },
    {
      "cell_type": "code",
      "execution_count": null,
      "metadata": {
        "id": "rhAz23xpJNtO"
      },
      "outputs": [],
      "source": [
        "X_train_scaled=scalar.transform(X_train)\n",
        "X_test=scalar.transform(X_test)"
      ]
    },
    {
      "cell_type": "code",
      "execution_count": null,
      "metadata": {
        "colab": {
          "base_uri": "https://localhost:8080/"
        },
        "id": "HkmWkrubJdN9",
        "outputId": "562be0dc-5e1f-4cc8-c885-959d96e5c562"
      },
      "outputs": [
        {
          "data": {
            "text/plain": [
              "array([[0.54761905, 0.42537313],\n",
              "       [0.9047619 , 0.3358209 ],\n",
              "       [0.14285714, 0.12686567],\n",
              "       [0.73809524, 0.09701493],\n",
              "       [0.33333333, 0.02238806],\n",
              "       [0.19047619, 0.00746269],\n",
              "       [0.28571429, 0.01492537],\n",
              "       [0.92857143, 0.08208955],\n",
              "       [0.85714286, 0.69402985],\n",
              "       [0.11904762, 0.24626866],\n",
              "       [0.4047619 , 0.32089552],\n",
              "       [0.78571429, 0.8880597 ],\n",
              "       [0.28571429, 0.55223881],\n",
              "       [0.92857143, 0.79850746],\n",
              "       [0.66666667, 0.05223881],\n",
              "       [0.4047619 , 0.44776119],\n",
              "       [0.54761905, 0.2238806 ],\n",
              "       [0.        , 0.2761194 ],\n",
              "       [0.07142857, 0.39552239],\n",
              "       [0.        , 0.21641791],\n",
              "       [0.21428571, 0.32089552],\n",
              "       [0.16666667, 0.55970149],\n",
              "       [0.28571429, 0.53731343],\n",
              "       [0.64285714, 0.12686567],\n",
              "       [0.57142857, 0.28358209],\n",
              "       [0.45238095, 0.13432836],\n",
              "       [1.        , 0.23134328],\n",
              "       [0.5       , 0.32835821],\n",
              "       [0.14285714, 0.51492537],\n",
              "       [0.04761905, 0.5       ],\n",
              "       [0.30952381, 0.41791045],\n",
              "       [0.30952381, 0.14179104],\n",
              "       [1.        , 0.64925373],\n",
              "       [0.71428571, 0.91791045],\n",
              "       [0.71428571, 0.55970149],\n",
              "       [0.35714286, 0.40298507],\n",
              "       [0.52380952, 0.94776119],\n",
              "       [0.26190476, 0.48507463],\n",
              "       [1.        , 0.50746269],\n",
              "       [0.23809524, 0.12686567],\n",
              "       [0.52380952, 0.31343284],\n",
              "       [0.54761905, 0.2761194 ],\n",
              "       [0.19047619, 0.51492537],\n",
              "       [0.52380952, 0.41791045],\n",
              "       [0.28571429, 0.89552239],\n",
              "       [0.57142857, 0.48507463],\n",
              "       [0.30952381, 0.44029851],\n",
              "       [0.78571429, 0.97761194],\n",
              "       [0.52380952, 0.37313433],\n",
              "       [0.38095238, 0.07462687],\n",
              "       [0.69047619, 0.20895522],\n",
              "       [0.47619048, 0.29850746],\n",
              "       [0.4047619 , 0.32835821],\n",
              "       [0.02380952, 0.41044776],\n",
              "       [0.83333333, 0.42537313],\n",
              "       [0.28571429, 0.47761194],\n",
              "       [0.92857143, 0.44029851],\n",
              "       [0.14285714, 0.55223881],\n",
              "       [0.69047619, 0.68656716],\n",
              "       [0.54761905, 0.26865672],\n",
              "       [0.85714286, 0.41044776],\n",
              "       [0.80952381, 0.55970149],\n",
              "       [0.73809524, 0.37313433],\n",
              "       [0.21428571, 0.91044776],\n",
              "       [0.57142857, 0.37313433],\n",
              "       [0.23809524, 0.1641791 ],\n",
              "       [0.26190476, 0.20895522],\n",
              "       [0.23809524, 0.21641791],\n",
              "       [0.19047619, 0.20895522],\n",
              "       [0.88095238, 0.82089552],\n",
              "       [0.28571429, 0.25373134],\n",
              "       [0.57142857, 0.43283582],\n",
              "       [0.73809524, 0.44029851],\n",
              "       [0.26190476, 0.09701493],\n",
              "       [0.14285714, 0.29850746],\n",
              "       [0.54761905, 0.2761194 ],\n",
              "       [0.33333333, 0.40440272],\n",
              "       [0.19047619, 0.        ],\n",
              "       [0.85714286, 0.6641791 ],\n",
              "       [0.69047619, 0.26865672],\n",
              "       [0.45238095, 0.42537313],\n",
              "       [0.4047619 , 0.37313433],\n",
              "       [0.35714286, 0.09701493],\n",
              "       [0.4047619 , 0.23880597],\n",
              "       [0.52380952, 0.44776119],\n",
              "       [0.5       , 0.20149254],\n",
              "       [0.28571429, 0.35074627],\n",
              "       [0.42857143, 0.82089552],\n",
              "       [0.04761905, 0.44029851],\n",
              "       [0.54761905, 0.53731343],\n",
              "       [0.9047619 , 0.88059701],\n",
              "       [0.54761905, 0.42537313],\n",
              "       [0.21428571, 0.55970149],\n",
              "       [0.19047619, 0.01492537],\n",
              "       [0.28571429, 0.68656716],\n",
              "       [0.04761905, 0.25373134],\n",
              "       [0.11904762, 0.38059701],\n",
              "       [0.19047619, 0.42537313],\n",
              "       [0.4047619 , 0.26119403],\n",
              "       [0.38095238, 0.7238806 ],\n",
              "       [0.69047619, 0.96268657],\n",
              "       [0.80952381, 0.91791045],\n",
              "       [0.30952381, 0.76865672],\n",
              "       [0.66666667, 0.09701493],\n",
              "       [0.45238095, 0.47014925],\n",
              "       [0.95238095, 0.05970149],\n",
              "       [0.4047619 , 0.05223881],\n",
              "       [0.42857143, 0.44776119],\n",
              "       [0.97619048, 0.10447761],\n",
              "       [0.5       , 0.67910448],\n",
              "       [0.95238095, 0.64179104],\n",
              "       [0.4047619 , 0.07462687],\n",
              "       [0.97619048, 0.95522388],\n",
              "       [0.30952381, 0.        ],\n",
              "       [0.61904762, 0.17910448],\n",
              "       [0.14285714, 0.08955224],\n",
              "       [0.54761905, 0.32835821],\n",
              "       [0.83333333, 0.95522388],\n",
              "       [0.38095238, 0.20895522],\n",
              "       [0.71428571, 0.94029851],\n",
              "       [0.33333333, 0.76119403],\n",
              "       [0.69047619, 0.67164179],\n",
              "       [0.5       , 0.8880597 ],\n",
              "       [0.07142857, 0.42537313],\n",
              "       [0.23809524, 0.32835821],\n",
              "       [0.47619048, 0.41791045],\n",
              "       [0.21428571, 0.11940299],\n",
              "       [0.42857143, 0.96268657],\n",
              "       [0.54761905, 0.41791045],\n",
              "       [0.97619048, 0.45522388],\n",
              "       [1.        , 0.20149254],\n",
              "       [0.23809524, 0.52238806],\n",
              "       [0.47619048, 0.34328358],\n",
              "       [0.4047619 , 0.03731343],\n",
              "       [0.11904762, 0.35820896],\n",
              "       [0.35714286, 0.20895522],\n",
              "       [0.33333333, 0.76119403],\n",
              "       [0.19047619, 0.1119403 ],\n",
              "       [0.69047619, 0.07462687],\n",
              "       [0.47619048, 0.26119403],\n",
              "       [0.73809524, 0.55223881],\n",
              "       [0.83333333, 0.5       ],\n",
              "       [1.        , 0.20149254],\n",
              "       [0.66666667, 0.76119403],\n",
              "       [0.33333333, 0.63432836],\n",
              "       [0.26190476, 0.20895522],\n",
              "       [0.14285714, 0.32089552],\n",
              "       [0.66666667, 0.12686567],\n",
              "       [0.4047619 , 0.3358209 ],\n",
              "       [0.66666667, 0.44029851],\n",
              "       [0.23809524, 0.29850746],\n",
              "       [0.52380952, 0.3358209 ],\n",
              "       [0.66666667, 0.54477612],\n",
              "       [0.45238095, 0.41044776],\n",
              "       [0.04761905, 0.5       ],\n",
              "       [0.42857143, 0.76865672],\n",
              "       [0.30952381, 0.02238806],\n",
              "       [0.45238095, 0.96268657],\n",
              "       [0.07142857, 0.00746269],\n",
              "       [0.26190476, 0.50746269],\n",
              "       [0.4047619 , 0.6119403 ],\n",
              "       [0.54761905, 0.42537313],\n",
              "       [0.52380952, 0.34328358],\n",
              "       [0.35714286, 0.26865672],\n",
              "       [0.4047619 , 0.54477612],\n",
              "       [0.47619048, 0.26865672],\n",
              "       [0.5       , 0.46268657],\n",
              "       [0.5       , 0.41791045],\n",
              "       [0.57142857, 0.41044776],\n",
              "       [0.        , 0.52985075],\n",
              "       [0.0952381 , 0.49253731],\n",
              "       [0.42857143, 0.13432836],\n",
              "       [0.35714286, 0.73134328],\n",
              "       [0.        , 0.39552239],\n",
              "       [0.45238095, 0.44776119],\n",
              "       [0.97619048, 0.50746269],\n",
              "       [1.        , 0.69402985],\n",
              "       [0.23809524, 0.53731343],\n",
              "       [0.26190476, 0.44776119],\n",
              "       [0.        , 0.5       ],\n",
              "       [0.38095238, 0.42537313],\n",
              "       [0.5       , 0.34328358],\n",
              "       [0.35714286, 0.19402985],\n",
              "       [0.66666667, 0.47761194],\n",
              "       [0.23809524, 0.47761194],\n",
              "       [0.92857143, 0.13432836],\n",
              "       [0.45238095, 0.97761194],\n",
              "       [0.30952381, 0.45522388],\n",
              "       [0.4047619 , 0.42537313],\n",
              "       [0.5       , 0.43283582],\n",
              "       [0.71428571, 0.10447761],\n",
              "       [0.35714286, 0.11940299],\n",
              "       [0.69047619, 0.23880597],\n",
              "       [0.88095238, 0.85820896],\n",
              "       [0.26190476, 0.23880597],\n",
              "       [0.19047619, 0.12686567],\n",
              "       [0.64285714, 0.2238806 ],\n",
              "       [0.45238095, 0.91044776],\n",
              "       [0.42857143, 0.26119403],\n",
              "       [0.52380952, 0.31343284],\n",
              "       [0.19047619, 0.49253731],\n",
              "       [0.64285714, 0.05223881],\n",
              "       [0.95238095, 0.23880597],\n",
              "       [0.5       , 0.44776119],\n",
              "       [0.04761905, 0.05970149],\n",
              "       [0.14285714, 0.02985075],\n",
              "       [0.02380952, 0.04477612],\n",
              "       [0.14285714, 0.29850746],\n",
              "       [0.42857143, 0.82835821],\n",
              "       [0.0952381 , 0.02238806],\n",
              "       [0.07142857, 0.54477612],\n",
              "       [0.02380952, 0.08208955],\n",
              "       [0.69047619, 0.03731343],\n",
              "       [0.19047619, 0.2761194 ],\n",
              "       [0.73809524, 0.17910448],\n",
              "       [0.4047619 , 0.44776119],\n",
              "       [0.11904762, 0.03731343],\n",
              "       [0.9047619 , 0.6641791 ],\n",
              "       [0.33333333, 0.78358209],\n",
              "       [0.69047619, 0.05970149],\n",
              "       [0.35714286, 1.        ],\n",
              "       [0.71428571, 0.13432836],\n",
              "       [0.16666667, 0.47761194],\n",
              "       [0.4047619 , 0.28358209],\n",
              "       [0.54761905, 0.42537313],\n",
              "       [0.69047619, 0.14179104],\n",
              "       [0.45238095, 0.31343284],\n",
              "       [0.57142857, 0.47761194],\n",
              "       [0.4047619 , 0.31343284],\n",
              "       [0.21428571, 0.60447761],\n",
              "       [0.11904762, 0.5       ],\n",
              "       [0.47619048, 0.34328358],\n",
              "       [0.54761905, 0.35820896],\n",
              "       [0.21428571, 0.01492537],\n",
              "       [0.28571429, 0.        ],\n",
              "       [0.30952381, 0.38059701],\n",
              "       [0.66666667, 0.32835821],\n",
              "       [0.47619048, 0.7238806 ],\n",
              "       [0.4047619 , 0.56716418],\n",
              "       [0.57142857, 0.48507463],\n",
              "       [0.85714286, 0.08208955],\n",
              "       [0.57142857, 0.6641791 ],\n",
              "       [0.35714286, 0.3358209 ],\n",
              "       [0.69047619, 0.25373134],\n",
              "       [0.52380952, 0.42537313],\n",
              "       [0.19047619, 0.14925373],\n",
              "       [0.57142857, 0.37313433],\n",
              "       [0.26190476, 0.99253731],\n",
              "       [0.71428571, 0.13432836],\n",
              "       [0.5952381 , 0.85074627],\n",
              "       [0.19047619, 0.52985075],\n",
              "       [0.47619048, 0.48507463],\n",
              "       [0.0952381 , 0.35820896],\n",
              "       [0.76190476, 0.54477612],\n",
              "       [0.16666667, 0.48507463],\n",
              "       [0.57142857, 0.36567164],\n",
              "       [0.4047619 , 0.21641791],\n",
              "       [0.21428571, 0.54477612],\n",
              "       [0.57142857, 0.44776119],\n",
              "       [0.73809524, 0.54477612],\n",
              "       [0.4047619 , 0.43283582],\n",
              "       [0.33333333, 0.52985075],\n",
              "       [0.47619048, 0.32835821],\n",
              "       [0.4047619 , 0.69402985],\n",
              "       [0.30952381, 0.55223881],\n",
              "       [0.54761905, 0.48507463],\n",
              "       [0.54761905, 0.1119403 ],\n",
              "       [0.95238095, 0.59701493],\n",
              "       [0.54761905, 0.47761194],\n",
              "       [0.30952381, 0.39552239],\n",
              "       [0.76190476, 0.03731343],\n",
              "       [0.47619048, 0.26119403],\n",
              "       [0.5       , 0.8880597 ],\n",
              "       [0.52380952, 0.32835821],\n",
              "       [0.4047619 , 0.26119403],\n",
              "       [0.28571429, 0.75373134],\n",
              "       [0.26190476, 0.50746269],\n",
              "       [0.57142857, 0.55970149],\n",
              "       [0.45238095, 0.28358209],\n",
              "       [1.        , 0.14179104]])"
            ]
          },
          "execution_count": 62,
          "metadata": {},
          "output_type": "execute_result"
        }
      ],
      "source": [
        "X_train_scaled"
      ]
    },
    {
      "cell_type": "code",
      "execution_count": null,
      "metadata": {
        "id": "tpKqr9d2JsH_"
      },
      "outputs": [],
      "source": [
        "from sklearn.linear_model import LogisticRegression\n",
        "model=LogisticRegression()"
      ]
    },
    {
      "cell_type": "code",
      "execution_count": null,
      "metadata": {
        "colab": {
          "base_uri": "https://localhost:8080/",
          "height": 74
        },
        "id": "qewcHYONJ_2x",
        "outputId": "49d5e951-5483-4b95-e53e-11dd7f911150"
      },
      "outputs": [
        {
          "data": {
            "text/html": [
              "<style>#sk-container-id-5 {color: black;background-color: white;}#sk-container-id-5 pre{padding: 0;}#sk-container-id-5 div.sk-toggleable {background-color: white;}#sk-container-id-5 label.sk-toggleable__label {cursor: pointer;display: block;width: 100%;margin-bottom: 0;padding: 0.3em;box-sizing: border-box;text-align: center;}#sk-container-id-5 label.sk-toggleable__label-arrow:before {content: \"▸\";float: left;margin-right: 0.25em;color: #696969;}#sk-container-id-5 label.sk-toggleable__label-arrow:hover:before {color: black;}#sk-container-id-5 div.sk-estimator:hover label.sk-toggleable__label-arrow:before {color: black;}#sk-container-id-5 div.sk-toggleable__content {max-height: 0;max-width: 0;overflow: hidden;text-align: left;background-color: #f0f8ff;}#sk-container-id-5 div.sk-toggleable__content pre {margin: 0.2em;color: black;border-radius: 0.25em;background-color: #f0f8ff;}#sk-container-id-5 input.sk-toggleable__control:checked~div.sk-toggleable__content {max-height: 200px;max-width: 100%;overflow: auto;}#sk-container-id-5 input.sk-toggleable__control:checked~label.sk-toggleable__label-arrow:before {content: \"▾\";}#sk-container-id-5 div.sk-estimator input.sk-toggleable__control:checked~label.sk-toggleable__label {background-color: #d4ebff;}#sk-container-id-5 div.sk-label input.sk-toggleable__control:checked~label.sk-toggleable__label {background-color: #d4ebff;}#sk-container-id-5 input.sk-hidden--visually {border: 0;clip: rect(1px 1px 1px 1px);clip: rect(1px, 1px, 1px, 1px);height: 1px;margin: -1px;overflow: hidden;padding: 0;position: absolute;width: 1px;}#sk-container-id-5 div.sk-estimator {font-family: monospace;background-color: #f0f8ff;border: 1px dotted black;border-radius: 0.25em;box-sizing: border-box;margin-bottom: 0.5em;}#sk-container-id-5 div.sk-estimator:hover {background-color: #d4ebff;}#sk-container-id-5 div.sk-parallel-item::after {content: \"\";width: 100%;border-bottom: 1px solid gray;flex-grow: 1;}#sk-container-id-5 div.sk-label:hover label.sk-toggleable__label {background-color: #d4ebff;}#sk-container-id-5 div.sk-serial::before {content: \"\";position: absolute;border-left: 1px solid gray;box-sizing: border-box;top: 0;bottom: 0;left: 50%;z-index: 0;}#sk-container-id-5 div.sk-serial {display: flex;flex-direction: column;align-items: center;background-color: white;padding-right: 0.2em;padding-left: 0.2em;position: relative;}#sk-container-id-5 div.sk-item {position: relative;z-index: 1;}#sk-container-id-5 div.sk-parallel {display: flex;align-items: stretch;justify-content: center;background-color: white;position: relative;}#sk-container-id-5 div.sk-item::before, #sk-container-id-5 div.sk-parallel-item::before {content: \"\";position: absolute;border-left: 1px solid gray;box-sizing: border-box;top: 0;bottom: 0;left: 50%;z-index: -1;}#sk-container-id-5 div.sk-parallel-item {display: flex;flex-direction: column;z-index: 1;position: relative;background-color: white;}#sk-container-id-5 div.sk-parallel-item:first-child::after {align-self: flex-end;width: 50%;}#sk-container-id-5 div.sk-parallel-item:last-child::after {align-self: flex-start;width: 50%;}#sk-container-id-5 div.sk-parallel-item:only-child::after {width: 0;}#sk-container-id-5 div.sk-dashed-wrapped {border: 1px dashed gray;margin: 0 0.4em 0.5em 0.4em;box-sizing: border-box;padding-bottom: 0.4em;background-color: white;}#sk-container-id-5 div.sk-label label {font-family: monospace;font-weight: bold;display: inline-block;line-height: 1.2em;}#sk-container-id-5 div.sk-label-container {text-align: center;}#sk-container-id-5 div.sk-container {/* jupyter's `normalize.less` sets `[hidden] { display: none; }` but bootstrap.min.css set `[hidden] { display: none !important; }` so we also need the `!important` here to be able to override the default hidden behavior on the sphinx rendered scikit-learn.org. See: https://github.com/scikit-learn/scikit-learn/issues/21755 */display: inline-block !important;position: relative;}#sk-container-id-5 div.sk-text-repr-fallback {display: none;}</style><div id=\"sk-container-id-5\" class=\"sk-top-container\"><div class=\"sk-text-repr-fallback\"><pre>LogisticRegression()</pre><b>In a Jupyter environment, please rerun this cell to show the HTML representation or trust the notebook. <br />On GitHub, the HTML representation is unable to render, please try loading this page with nbviewer.org.</b></div><div class=\"sk-container\" hidden><div class=\"sk-item\"><div class=\"sk-estimator sk-toggleable\"><input class=\"sk-toggleable__control sk-hidden--visually\" id=\"sk-estimator-id-5\" type=\"checkbox\" checked><label for=\"sk-estimator-id-5\" class=\"sk-toggleable__label sk-toggleable__label-arrow\">LogisticRegression</label><div class=\"sk-toggleable__content\"><pre>LogisticRegression()</pre></div></div></div></div></div>"
            ],
            "text/plain": [
              "LogisticRegression()"
            ]
          },
          "execution_count": 40,
          "metadata": {},
          "output_type": "execute_result"
        }
      ],
      "source": [
        "model.fit(X_train_scaled,y_train)"
      ]
    },
    {
      "cell_type": "code",
      "execution_count": null,
      "metadata": {
        "colab": {
          "base_uri": "https://localhost:8080/"
        },
        "id": "kz6DMv79KP5u",
        "outputId": "3a83ab60-1b75-4157-fd08-c84bf26d56ec"
      },
      "outputs": [
        {
          "data": {
            "text/plain": [
              "0.8428571428571429"
            ]
          },
          "execution_count": 41,
          "metadata": {},
          "output_type": "execute_result"
        }
      ],
      "source": [
        "model.score(X_train_scaled,y_train)"
      ]
    },
    {
      "cell_type": "code",
      "execution_count": null,
      "metadata": {
        "colab": {
          "base_uri": "https://localhost:8080/",
          "height": 497
        },
        "id": "N_8xGX1FKdmf",
        "outputId": "cbe9b47e-603e-4473-bbb2-c92f07e5f372"
      },
      "outputs": [
        {
          "ename": "ValueError",
          "evalue": "ignored",
          "output_type": "error",
          "traceback": [
            "\u001b[0;31m---------------------------------------------------------------------------\u001b[0m",
            "\u001b[0;31mValueError\u001b[0m                                Traceback (most recent call last)",
            "\u001b[0;32m<ipython-input-42-1574e7273ce0>\u001b[0m in \u001b[0;36m<cell line: 1>\u001b[0;34m()\u001b[0m\n\u001b[0;32m----> 1\u001b[0;31m \u001b[0mmodel\u001b[0m\u001b[0;34m.\u001b[0m\u001b[0mscore\u001b[0m\u001b[0;34m(\u001b[0m\u001b[0mX_test\u001b[0m\u001b[0;34m,\u001b[0m \u001b[0my_test\u001b[0m\u001b[0;34m)\u001b[0m\u001b[0;34m\u001b[0m\u001b[0;34m\u001b[0m\u001b[0m\n\u001b[0m",
            "\u001b[0;32m/usr/local/lib/python3.10/dist-packages/sklearn/base.py\u001b[0m in \u001b[0;36mscore\u001b[0;34m(self, X, y, sample_weight)\u001b[0m\n\u001b[1;32m    666\u001b[0m         \u001b[0;32mfrom\u001b[0m \u001b[0;34m.\u001b[0m\u001b[0mmetrics\u001b[0m \u001b[0;32mimport\u001b[0m \u001b[0maccuracy_score\u001b[0m\u001b[0;34m\u001b[0m\u001b[0;34m\u001b[0m\u001b[0m\n\u001b[1;32m    667\u001b[0m \u001b[0;34m\u001b[0m\u001b[0m\n\u001b[0;32m--> 668\u001b[0;31m         \u001b[0;32mreturn\u001b[0m \u001b[0maccuracy_score\u001b[0m\u001b[0;34m(\u001b[0m\u001b[0my\u001b[0m\u001b[0;34m,\u001b[0m \u001b[0mself\u001b[0m\u001b[0;34m.\u001b[0m\u001b[0mpredict\u001b[0m\u001b[0;34m(\u001b[0m\u001b[0mX\u001b[0m\u001b[0;34m)\u001b[0m\u001b[0;34m,\u001b[0m \u001b[0msample_weight\u001b[0m\u001b[0;34m=\u001b[0m\u001b[0msample_weight\u001b[0m\u001b[0;34m)\u001b[0m\u001b[0;34m\u001b[0m\u001b[0;34m\u001b[0m\u001b[0m\n\u001b[0m\u001b[1;32m    669\u001b[0m \u001b[0;34m\u001b[0m\u001b[0m\n\u001b[1;32m    670\u001b[0m     \u001b[0;32mdef\u001b[0m \u001b[0m_more_tags\u001b[0m\u001b[0;34m(\u001b[0m\u001b[0mself\u001b[0m\u001b[0;34m)\u001b[0m\u001b[0;34m:\u001b[0m\u001b[0;34m\u001b[0m\u001b[0;34m\u001b[0m\u001b[0m\n",
            "\u001b[0;32m/usr/local/lib/python3.10/dist-packages/sklearn/linear_model/_base.py\u001b[0m in \u001b[0;36mpredict\u001b[0;34m(self, X)\u001b[0m\n\u001b[1;32m    417\u001b[0m         \"\"\"\n\u001b[1;32m    418\u001b[0m         \u001b[0mxp\u001b[0m\u001b[0;34m,\u001b[0m \u001b[0m_\u001b[0m \u001b[0;34m=\u001b[0m \u001b[0mget_namespace\u001b[0m\u001b[0;34m(\u001b[0m\u001b[0mX\u001b[0m\u001b[0;34m)\u001b[0m\u001b[0;34m\u001b[0m\u001b[0;34m\u001b[0m\u001b[0m\n\u001b[0;32m--> 419\u001b[0;31m         \u001b[0mscores\u001b[0m \u001b[0;34m=\u001b[0m \u001b[0mself\u001b[0m\u001b[0;34m.\u001b[0m\u001b[0mdecision_function\u001b[0m\u001b[0;34m(\u001b[0m\u001b[0mX\u001b[0m\u001b[0;34m)\u001b[0m\u001b[0;34m\u001b[0m\u001b[0;34m\u001b[0m\u001b[0m\n\u001b[0m\u001b[1;32m    420\u001b[0m         \u001b[0;32mif\u001b[0m \u001b[0mlen\u001b[0m\u001b[0;34m(\u001b[0m\u001b[0mscores\u001b[0m\u001b[0;34m.\u001b[0m\u001b[0mshape\u001b[0m\u001b[0;34m)\u001b[0m \u001b[0;34m==\u001b[0m \u001b[0;36m1\u001b[0m\u001b[0;34m:\u001b[0m\u001b[0;34m\u001b[0m\u001b[0;34m\u001b[0m\u001b[0m\n\u001b[1;32m    421\u001b[0m             \u001b[0mindices\u001b[0m \u001b[0;34m=\u001b[0m \u001b[0mxp\u001b[0m\u001b[0;34m.\u001b[0m\u001b[0mastype\u001b[0m\u001b[0;34m(\u001b[0m\u001b[0mscores\u001b[0m \u001b[0;34m>\u001b[0m \u001b[0;36m0\u001b[0m\u001b[0;34m,\u001b[0m \u001b[0mint\u001b[0m\u001b[0;34m)\u001b[0m\u001b[0;34m\u001b[0m\u001b[0;34m\u001b[0m\u001b[0m\n",
            "\u001b[0;32m/usr/local/lib/python3.10/dist-packages/sklearn/linear_model/_base.py\u001b[0m in \u001b[0;36mdecision_function\u001b[0;34m(self, X)\u001b[0m\n\u001b[1;32m    398\u001b[0m         \u001b[0mxp\u001b[0m\u001b[0;34m,\u001b[0m \u001b[0m_\u001b[0m \u001b[0;34m=\u001b[0m \u001b[0mget_namespace\u001b[0m\u001b[0;34m(\u001b[0m\u001b[0mX\u001b[0m\u001b[0;34m)\u001b[0m\u001b[0;34m\u001b[0m\u001b[0;34m\u001b[0m\u001b[0m\n\u001b[1;32m    399\u001b[0m \u001b[0;34m\u001b[0m\u001b[0m\n\u001b[0;32m--> 400\u001b[0;31m         \u001b[0mX\u001b[0m \u001b[0;34m=\u001b[0m \u001b[0mself\u001b[0m\u001b[0;34m.\u001b[0m\u001b[0m_validate_data\u001b[0m\u001b[0;34m(\u001b[0m\u001b[0mX\u001b[0m\u001b[0;34m,\u001b[0m \u001b[0maccept_sparse\u001b[0m\u001b[0;34m=\u001b[0m\u001b[0;34m\"csr\"\u001b[0m\u001b[0;34m,\u001b[0m \u001b[0mreset\u001b[0m\u001b[0;34m=\u001b[0m\u001b[0;32mFalse\u001b[0m\u001b[0;34m)\u001b[0m\u001b[0;34m\u001b[0m\u001b[0;34m\u001b[0m\u001b[0m\n\u001b[0m\u001b[1;32m    401\u001b[0m         \u001b[0mscores\u001b[0m \u001b[0;34m=\u001b[0m \u001b[0msafe_sparse_dot\u001b[0m\u001b[0;34m(\u001b[0m\u001b[0mX\u001b[0m\u001b[0;34m,\u001b[0m \u001b[0mself\u001b[0m\u001b[0;34m.\u001b[0m\u001b[0mcoef_\u001b[0m\u001b[0;34m.\u001b[0m\u001b[0mT\u001b[0m\u001b[0;34m,\u001b[0m \u001b[0mdense_output\u001b[0m\u001b[0;34m=\u001b[0m\u001b[0;32mTrue\u001b[0m\u001b[0;34m)\u001b[0m \u001b[0;34m+\u001b[0m \u001b[0mself\u001b[0m\u001b[0;34m.\u001b[0m\u001b[0mintercept_\u001b[0m\u001b[0;34m\u001b[0m\u001b[0;34m\u001b[0m\u001b[0m\n\u001b[1;32m    402\u001b[0m         \u001b[0;32mreturn\u001b[0m \u001b[0mxp\u001b[0m\u001b[0;34m.\u001b[0m\u001b[0mreshape\u001b[0m\u001b[0;34m(\u001b[0m\u001b[0mscores\u001b[0m\u001b[0;34m,\u001b[0m \u001b[0;34m-\u001b[0m\u001b[0;36m1\u001b[0m\u001b[0;34m)\u001b[0m \u001b[0;32mif\u001b[0m \u001b[0mscores\u001b[0m\u001b[0;34m.\u001b[0m\u001b[0mshape\u001b[0m\u001b[0;34m[\u001b[0m\u001b[0;36m1\u001b[0m\u001b[0;34m]\u001b[0m \u001b[0;34m==\u001b[0m \u001b[0;36m1\u001b[0m \u001b[0;32melse\u001b[0m \u001b[0mscores\u001b[0m\u001b[0;34m\u001b[0m\u001b[0;34m\u001b[0m\u001b[0m\n",
            "\u001b[0;32m/usr/local/lib/python3.10/dist-packages/sklearn/base.py\u001b[0m in \u001b[0;36m_validate_data\u001b[0;34m(self, X, y, reset, validate_separately, **check_params)\u001b[0m\n\u001b[1;32m    563\u001b[0m             \u001b[0;32mraise\u001b[0m \u001b[0mValueError\u001b[0m\u001b[0;34m(\u001b[0m\u001b[0;34m\"Validation should be done on X, y or both.\"\u001b[0m\u001b[0;34m)\u001b[0m\u001b[0;34m\u001b[0m\u001b[0;34m\u001b[0m\u001b[0m\n\u001b[1;32m    564\u001b[0m         \u001b[0;32melif\u001b[0m \u001b[0;32mnot\u001b[0m \u001b[0mno_val_X\u001b[0m \u001b[0;32mand\u001b[0m \u001b[0mno_val_y\u001b[0m\u001b[0;34m:\u001b[0m\u001b[0;34m\u001b[0m\u001b[0;34m\u001b[0m\u001b[0m\n\u001b[0;32m--> 565\u001b[0;31m             \u001b[0mX\u001b[0m \u001b[0;34m=\u001b[0m \u001b[0mcheck_array\u001b[0m\u001b[0;34m(\u001b[0m\u001b[0mX\u001b[0m\u001b[0;34m,\u001b[0m \u001b[0minput_name\u001b[0m\u001b[0;34m=\u001b[0m\u001b[0;34m\"X\"\u001b[0m\u001b[0;34m,\u001b[0m \u001b[0;34m**\u001b[0m\u001b[0mcheck_params\u001b[0m\u001b[0;34m)\u001b[0m\u001b[0;34m\u001b[0m\u001b[0;34m\u001b[0m\u001b[0m\n\u001b[0m\u001b[1;32m    566\u001b[0m             \u001b[0mout\u001b[0m \u001b[0;34m=\u001b[0m \u001b[0mX\u001b[0m\u001b[0;34m\u001b[0m\u001b[0;34m\u001b[0m\u001b[0m\n\u001b[1;32m    567\u001b[0m         \u001b[0;32melif\u001b[0m \u001b[0mno_val_X\u001b[0m \u001b[0;32mand\u001b[0m \u001b[0;32mnot\u001b[0m \u001b[0mno_val_y\u001b[0m\u001b[0;34m:\u001b[0m\u001b[0;34m\u001b[0m\u001b[0;34m\u001b[0m\u001b[0m\n",
            "\u001b[0;32m/usr/local/lib/python3.10/dist-packages/sklearn/utils/validation.py\u001b[0m in \u001b[0;36mcheck_array\u001b[0;34m(array, accept_sparse, accept_large_sparse, dtype, order, copy, force_all_finite, ensure_2d, allow_nd, ensure_min_samples, ensure_min_features, estimator, input_name)\u001b[0m\n\u001b[1;32m    919\u001b[0m \u001b[0;34m\u001b[0m\u001b[0m\n\u001b[1;32m    920\u001b[0m         \u001b[0;32mif\u001b[0m \u001b[0mforce_all_finite\u001b[0m\u001b[0;34m:\u001b[0m\u001b[0;34m\u001b[0m\u001b[0;34m\u001b[0m\u001b[0m\n\u001b[0;32m--> 921\u001b[0;31m             _assert_all_finite(\n\u001b[0m\u001b[1;32m    922\u001b[0m                 \u001b[0marray\u001b[0m\u001b[0;34m,\u001b[0m\u001b[0;34m\u001b[0m\u001b[0;34m\u001b[0m\u001b[0m\n\u001b[1;32m    923\u001b[0m                 \u001b[0minput_name\u001b[0m\u001b[0;34m=\u001b[0m\u001b[0minput_name\u001b[0m\u001b[0;34m,\u001b[0m\u001b[0;34m\u001b[0m\u001b[0;34m\u001b[0m\u001b[0m\n",
            "\u001b[0;32m/usr/local/lib/python3.10/dist-packages/sklearn/utils/validation.py\u001b[0m in \u001b[0;36m_assert_all_finite\u001b[0;34m(X, allow_nan, msg_dtype, estimator_name, input_name)\u001b[0m\n\u001b[1;32m    159\u001b[0m                 \u001b[0;34m\"#estimators-that-handle-nan-values\"\u001b[0m\u001b[0;34m\u001b[0m\u001b[0;34m\u001b[0m\u001b[0m\n\u001b[1;32m    160\u001b[0m             )\n\u001b[0;32m--> 161\u001b[0;31m         \u001b[0;32mraise\u001b[0m \u001b[0mValueError\u001b[0m\u001b[0;34m(\u001b[0m\u001b[0mmsg_err\u001b[0m\u001b[0;34m)\u001b[0m\u001b[0;34m\u001b[0m\u001b[0;34m\u001b[0m\u001b[0m\n\u001b[0m\u001b[1;32m    162\u001b[0m \u001b[0;34m\u001b[0m\u001b[0m\n\u001b[1;32m    163\u001b[0m \u001b[0;34m\u001b[0m\u001b[0m\n",
            "\u001b[0;31mValueError\u001b[0m: Input X contains NaN.\nLogisticRegression does not accept missing values encoded as NaN natively. For supervised learning, you might want to consider sklearn.ensemble.HistGradientBoostingClassifier and Regressor which accept missing values encoded as NaNs natively. Alternatively, it is possible to preprocess the data, for instance by using an imputer transformer in a pipeline or drop samples with missing values. See https://scikit-learn.org/stable/modules/impute.html You can find a list of all estimators that handle NaN values at the following page: https://scikit-learn.org/stable/modules/impute.html#estimators-that-handle-nan-values"
          ]
        }
      ],
      "source": [
        "model.score(X_test, y_test)"
      ]
    }
  ],
  "metadata": {
    "colab": {
      "provenance": [],
      "include_colab_link": true
    },
    "kernelspec": {
      "display_name": "Python 3",
      "name": "python3"
    },
    "language_info": {
      "name": "python"
    }
  },
  "nbformat": 4,
  "nbformat_minor": 0
}